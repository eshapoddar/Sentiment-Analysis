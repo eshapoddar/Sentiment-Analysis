{
  "cells": [
    {
      "cell_type": "code",
      "execution_count": 1,
      "id": "4c0b9129",
      "metadata": {
        "colab": {
          "base_uri": "https://localhost:8080/"
        },
        "id": "4c0b9129",
        "outputId": "365d69dd-4dfa-4117-d569-3627c5edd6a8"
      },
      "outputs": [
        {
          "name": "stdout",
          "output_type": "stream",
          "text": [
            "./.config/.last_opt_in_prompt.yaml\n",
            "./.config/active_config\n",
            "./.config/.last_survey_prompt.yaml\n",
            "./.config/config_sentinel\n",
            "./.config/.last_update_check.json\n",
            "./.config/gce\n",
            "./.config/configurations/config_default\n",
            "./.config/logs/2023.03.16/13.44.22.643153.log\n",
            "./.config/logs/2023.03.16/13.43.22.764827.log\n",
            "./.config/logs/2023.03.16/13.44.14.102664.log\n",
            "./.config/logs/2023.03.16/13.44.49.666447.log\n",
            "./.config/logs/2023.03.16/13.44.48.828779.log\n",
            "./.config/logs/2023.03.16/13.43.48.359468.log\n",
            "./sample_data/anscombe.json\n",
            "./sample_data/README.md\n",
            "./sample_data/california_housing_train.csv\n",
            "./sample_data/mnist_train_small.csv\n",
            "./sample_data/mnist_test.csv\n",
            "./sample_data/california_housing_test.csv\n"
          ]
        }
      ],
      "source": [
        "import numpy as np # linear algebra\n",
        "import pandas as pd # data processing, CSV file I/O (e.g. pd.read_csv)\n",
        "from sklearn.model_selection import train_test_split\n",
        "\n",
        "import os\n",
        "for dirname, _, filenames in os.walk(\".\"):\n",
        "    for filename in filenames:\n",
        "        print(os.path.join(dirname, filename))\n"
      ]
    },
    {
      "cell_type": "markdown",
      "id": "eac1d3c8",
      "metadata": {
        "id": "eac1d3c8"
      },
      "source": [
        "# Q1. Dataset Labels and Splitting"
      ]
    },
    {
      "cell_type": "code",
      "execution_count": 2,
      "id": "6c9b531c",
      "metadata": {
        "colab": {
          "base_uri": "https://localhost:8080/",
          "height": 1000
        },
        "id": "6c9b531c",
        "outputId": "748e6b59-adda-4697-b2e2-392f9032eda5"
      },
      "outputs": [
        {
          "name": "stdout",
          "output_type": "stream",
          "text": [
            "Mounted at /content/gdrive\n"
          ]
        },
        {
          "data": {
            "text/html": [
              "\n",
              "  <div id=\"df-5acac9d7-e9d4-4085-b5af-5789669f0814\">\n",
              "    <div class=\"colab-df-container\">\n",
              "      <div>\n",
              "<style scoped>\n",
              "    .dataframe tbody tr th:only-of-type {\n",
              "        vertical-align: middle;\n",
              "    }\n",
              "\n",
              "    .dataframe tbody tr th {\n",
              "        vertical-align: top;\n",
              "    }\n",
              "\n",
              "    .dataframe thead th {\n",
              "        text-align: right;\n",
              "    }\n",
              "</style>\n",
              "<table border=\"1\" class=\"dataframe\">\n",
              "  <thead>\n",
              "    <tr style=\"text-align: right;\">\n",
              "      <th></th>\n",
              "      <th>Id</th>\n",
              "      <th>ProductId</th>\n",
              "      <th>UserId</th>\n",
              "      <th>ProfileName</th>\n",
              "      <th>HelpfulnessNumerator</th>\n",
              "      <th>HelpfulnessDenominator</th>\n",
              "      <th>Score</th>\n",
              "      <th>Time</th>\n",
              "      <th>Summary</th>\n",
              "      <th>Text</th>\n",
              "    </tr>\n",
              "  </thead>\n",
              "  <tbody>\n",
              "    <tr>\n",
              "      <th>0</th>\n",
              "      <td>1</td>\n",
              "      <td>B001E4KFG0</td>\n",
              "      <td>A3SGXH7AUHU8GW</td>\n",
              "      <td>delmartian</td>\n",
              "      <td>1</td>\n",
              "      <td>1</td>\n",
              "      <td>5</td>\n",
              "      <td>1303862400</td>\n",
              "      <td>Good Quality Dog Food</td>\n",
              "      <td>I have bought several of the Vitality canned d...</td>\n",
              "    </tr>\n",
              "    <tr>\n",
              "      <th>1</th>\n",
              "      <td>2</td>\n",
              "      <td>B00813GRG4</td>\n",
              "      <td>A1D87F6ZCVE5NK</td>\n",
              "      <td>dll pa</td>\n",
              "      <td>0</td>\n",
              "      <td>0</td>\n",
              "      <td>1</td>\n",
              "      <td>1346976000</td>\n",
              "      <td>Not as Advertised</td>\n",
              "      <td>Product arrived labeled as Jumbo Salted Peanut...</td>\n",
              "    </tr>\n",
              "    <tr>\n",
              "      <th>2</th>\n",
              "      <td>3</td>\n",
              "      <td>B000LQOCH0</td>\n",
              "      <td>ABXLMWJIXXAIN</td>\n",
              "      <td>Natalia Corres \"Natalia Corres\"</td>\n",
              "      <td>1</td>\n",
              "      <td>1</td>\n",
              "      <td>4</td>\n",
              "      <td>1219017600</td>\n",
              "      <td>\"Delight\" says it all</td>\n",
              "      <td>This is a confection that has been around a fe...</td>\n",
              "    </tr>\n",
              "    <tr>\n",
              "      <th>3</th>\n",
              "      <td>4</td>\n",
              "      <td>B000UA0QIQ</td>\n",
              "      <td>A395BORC6FGVXV</td>\n",
              "      <td>Karl</td>\n",
              "      <td>3</td>\n",
              "      <td>3</td>\n",
              "      <td>2</td>\n",
              "      <td>1307923200</td>\n",
              "      <td>Cough Medicine</td>\n",
              "      <td>If you are looking for the secret ingredient i...</td>\n",
              "    </tr>\n",
              "    <tr>\n",
              "      <th>4</th>\n",
              "      <td>5</td>\n",
              "      <td>B006K2ZZ7K</td>\n",
              "      <td>A1UQRSCLF8GW1T</td>\n",
              "      <td>Michael D. Bigham \"M. Wassir\"</td>\n",
              "      <td>0</td>\n",
              "      <td>0</td>\n",
              "      <td>5</td>\n",
              "      <td>1350777600</td>\n",
              "      <td>Great taffy</td>\n",
              "      <td>Great taffy at a great price.  There was a wid...</td>\n",
              "    </tr>\n",
              "    <tr>\n",
              "      <th>5</th>\n",
              "      <td>6</td>\n",
              "      <td>B006K2ZZ7K</td>\n",
              "      <td>ADT0SRK1MGOEU</td>\n",
              "      <td>Twoapennything</td>\n",
              "      <td>0</td>\n",
              "      <td>0</td>\n",
              "      <td>4</td>\n",
              "      <td>1342051200</td>\n",
              "      <td>Nice Taffy</td>\n",
              "      <td>I got a wild hair for taffy and ordered this f...</td>\n",
              "    </tr>\n",
              "    <tr>\n",
              "      <th>6</th>\n",
              "      <td>7</td>\n",
              "      <td>B006K2ZZ7K</td>\n",
              "      <td>A1SP2KVKFXXRU1</td>\n",
              "      <td>David C. Sullivan</td>\n",
              "      <td>0</td>\n",
              "      <td>0</td>\n",
              "      <td>5</td>\n",
              "      <td>1340150400</td>\n",
              "      <td>Great!  Just as good as the expensive brands!</td>\n",
              "      <td>This saltwater taffy had great flavors and was...</td>\n",
              "    </tr>\n",
              "    <tr>\n",
              "      <th>7</th>\n",
              "      <td>8</td>\n",
              "      <td>B006K2ZZ7K</td>\n",
              "      <td>A3JRGQVEQN31IQ</td>\n",
              "      <td>Pamela G. Williams</td>\n",
              "      <td>0</td>\n",
              "      <td>0</td>\n",
              "      <td>5</td>\n",
              "      <td>1336003200</td>\n",
              "      <td>Wonderful, tasty taffy</td>\n",
              "      <td>This taffy is so good.  It is very soft and ch...</td>\n",
              "    </tr>\n",
              "    <tr>\n",
              "      <th>8</th>\n",
              "      <td>9</td>\n",
              "      <td>B000E7L2R4</td>\n",
              "      <td>A1MZYO9TZK0BBI</td>\n",
              "      <td>R. James</td>\n",
              "      <td>1</td>\n",
              "      <td>1</td>\n",
              "      <td>5</td>\n",
              "      <td>1322006400</td>\n",
              "      <td>Yay Barley</td>\n",
              "      <td>Right now I'm mostly just sprouting this so my...</td>\n",
              "    </tr>\n",
              "    <tr>\n",
              "      <th>9</th>\n",
              "      <td>10</td>\n",
              "      <td>B00171APVA</td>\n",
              "      <td>A21BT40VZCCYT4</td>\n",
              "      <td>Carol A. Reed</td>\n",
              "      <td>0</td>\n",
              "      <td>0</td>\n",
              "      <td>5</td>\n",
              "      <td>1351209600</td>\n",
              "      <td>Healthy Dog Food</td>\n",
              "      <td>This is a very healthy dog food. Good for thei...</td>\n",
              "    </tr>\n",
              "  </tbody>\n",
              "</table>\n",
              "</div>\n",
              "      <button class=\"colab-df-convert\" onclick=\"convertToInteractive('df-5acac9d7-e9d4-4085-b5af-5789669f0814')\"\n",
              "              title=\"Convert this dataframe to an interactive table.\"\n",
              "              style=\"display:none;\">\n",
              "        \n",
              "  <svg xmlns=\"http://www.w3.org/2000/svg\" height=\"24px\"viewBox=\"0 0 24 24\"\n",
              "       width=\"24px\">\n",
              "    <path d=\"M0 0h24v24H0V0z\" fill=\"none\"/>\n",
              "    <path d=\"M18.56 5.44l.94 2.06.94-2.06 2.06-.94-2.06-.94-.94-2.06-.94 2.06-2.06.94zm-11 1L8.5 8.5l.94-2.06 2.06-.94-2.06-.94L8.5 2.5l-.94 2.06-2.06.94zm10 10l.94 2.06.94-2.06 2.06-.94-2.06-.94-.94-2.06-.94 2.06-2.06.94z\"/><path d=\"M17.41 7.96l-1.37-1.37c-.4-.4-.92-.59-1.43-.59-.52 0-1.04.2-1.43.59L10.3 9.45l-7.72 7.72c-.78.78-.78 2.05 0 2.83L4 21.41c.39.39.9.59 1.41.59.51 0 1.02-.2 1.41-.59l7.78-7.78 2.81-2.81c.8-.78.8-2.07 0-2.86zM5.41 20L4 18.59l7.72-7.72 1.47 1.35L5.41 20z\"/>\n",
              "  </svg>\n",
              "      </button>\n",
              "      \n",
              "  <style>\n",
              "    .colab-df-container {\n",
              "      display:flex;\n",
              "      flex-wrap:wrap;\n",
              "      gap: 12px;\n",
              "    }\n",
              "\n",
              "    .colab-df-convert {\n",
              "      background-color: #E8F0FE;\n",
              "      border: none;\n",
              "      border-radius: 50%;\n",
              "      cursor: pointer;\n",
              "      display: none;\n",
              "      fill: #1967D2;\n",
              "      height: 32px;\n",
              "      padding: 0 0 0 0;\n",
              "      width: 32px;\n",
              "    }\n",
              "\n",
              "    .colab-df-convert:hover {\n",
              "      background-color: #E2EBFA;\n",
              "      box-shadow: 0px 1px 2px rgba(60, 64, 67, 0.3), 0px 1px 3px 1px rgba(60, 64, 67, 0.15);\n",
              "      fill: #174EA6;\n",
              "    }\n",
              "\n",
              "    [theme=dark] .colab-df-convert {\n",
              "      background-color: #3B4455;\n",
              "      fill: #D2E3FC;\n",
              "    }\n",
              "\n",
              "    [theme=dark] .colab-df-convert:hover {\n",
              "      background-color: #434B5C;\n",
              "      box-shadow: 0px 1px 3px 1px rgba(0, 0, 0, 0.15);\n",
              "      filter: drop-shadow(0px 1px 2px rgba(0, 0, 0, 0.3));\n",
              "      fill: #FFFFFF;\n",
              "    }\n",
              "  </style>\n",
              "\n",
              "      <script>\n",
              "        const buttonEl =\n",
              "          document.querySelector('#df-5acac9d7-e9d4-4085-b5af-5789669f0814 button.colab-df-convert');\n",
              "        buttonEl.style.display =\n",
              "          google.colab.kernel.accessAllowed ? 'block' : 'none';\n",
              "\n",
              "        async function convertToInteractive(key) {\n",
              "          const element = document.querySelector('#df-5acac9d7-e9d4-4085-b5af-5789669f0814');\n",
              "          const dataTable =\n",
              "            await google.colab.kernel.invokeFunction('convertToInteractive',\n",
              "                                                     [key], {});\n",
              "          if (!dataTable) return;\n",
              "\n",
              "          const docLinkHtml = 'Like what you see? Visit the ' +\n",
              "            '<a target=\"_blank\" href=https://colab.research.google.com/notebooks/data_table.ipynb>data table notebook</a>'\n",
              "            + ' to learn more about interactive tables.';\n",
              "          element.innerHTML = '';\n",
              "          dataTable['output_type'] = 'display_data';\n",
              "          await google.colab.output.renderOutput(dataTable, element);\n",
              "          const docLink = document.createElement('div');\n",
              "          docLink.innerHTML = docLinkHtml;\n",
              "          element.appendChild(docLink);\n",
              "        }\n",
              "      </script>\n",
              "    </div>\n",
              "  </div>\n",
              "  "
            ],
            "text/plain": [
              "   Id   ProductId          UserId                      ProfileName  \\\n",
              "0   1  B001E4KFG0  A3SGXH7AUHU8GW                       delmartian   \n",
              "1   2  B00813GRG4  A1D87F6ZCVE5NK                           dll pa   \n",
              "2   3  B000LQOCH0   ABXLMWJIXXAIN  Natalia Corres \"Natalia Corres\"   \n",
              "3   4  B000UA0QIQ  A395BORC6FGVXV                             Karl   \n",
              "4   5  B006K2ZZ7K  A1UQRSCLF8GW1T    Michael D. Bigham \"M. Wassir\"   \n",
              "5   6  B006K2ZZ7K   ADT0SRK1MGOEU                   Twoapennything   \n",
              "6   7  B006K2ZZ7K  A1SP2KVKFXXRU1                David C. Sullivan   \n",
              "7   8  B006K2ZZ7K  A3JRGQVEQN31IQ               Pamela G. Williams   \n",
              "8   9  B000E7L2R4  A1MZYO9TZK0BBI                         R. James   \n",
              "9  10  B00171APVA  A21BT40VZCCYT4                    Carol A. Reed   \n",
              "\n",
              "   HelpfulnessNumerator  HelpfulnessDenominator  Score        Time  \\\n",
              "0                     1                       1      5  1303862400   \n",
              "1                     0                       0      1  1346976000   \n",
              "2                     1                       1      4  1219017600   \n",
              "3                     3                       3      2  1307923200   \n",
              "4                     0                       0      5  1350777600   \n",
              "5                     0                       0      4  1342051200   \n",
              "6                     0                       0      5  1340150400   \n",
              "7                     0                       0      5  1336003200   \n",
              "8                     1                       1      5  1322006400   \n",
              "9                     0                       0      5  1351209600   \n",
              "\n",
              "                                         Summary  \\\n",
              "0                          Good Quality Dog Food   \n",
              "1                              Not as Advertised   \n",
              "2                          \"Delight\" says it all   \n",
              "3                                 Cough Medicine   \n",
              "4                                    Great taffy   \n",
              "5                                     Nice Taffy   \n",
              "6  Great!  Just as good as the expensive brands!   \n",
              "7                         Wonderful, tasty taffy   \n",
              "8                                     Yay Barley   \n",
              "9                               Healthy Dog Food   \n",
              "\n",
              "                                                Text  \n",
              "0  I have bought several of the Vitality canned d...  \n",
              "1  Product arrived labeled as Jumbo Salted Peanut...  \n",
              "2  This is a confection that has been around a fe...  \n",
              "3  If you are looking for the secret ingredient i...  \n",
              "4  Great taffy at a great price.  There was a wid...  \n",
              "5  I got a wild hair for taffy and ordered this f...  \n",
              "6  This saltwater taffy had great flavors and was...  \n",
              "7  This taffy is so good.  It is very soft and ch...  \n",
              "8  Right now I'm mostly just sprouting this so my...  \n",
              "9  This is a very healthy dog food. Good for thei...  "
            ]
          },
          "execution_count": 2,
          "metadata": {},
          "output_type": "execute_result"
        }
      ],
      "source": [
        "# from google.colab import files\n",
        "# uploaded = files.upload()\n",
        "from google.colab import drive \n",
        "drive.mount('/content/gdrive')\n",
        "import pandas as pd \n",
        "df=pd.read_csv('/content/gdrive/MyDrive/Colab Notebooks/Reviews.csv',delimiter=',')\n",
        "# Read reviews from csv and convert to df\n",
        "# import csv\n",
        "# df = pd.read_csv('/content/Reviews.csv',delimiter=',', quoting=csv.QUOTE_NONE,on_bad_lines='skip')\n",
        "df.head(10)"
      ]
    },
    {
      "cell_type": "code",
      "execution_count": null,
      "id": "abb3f654",
      "metadata": {
        "colab": {
          "base_uri": "https://localhost:8080/"
        },
        "id": "abb3f654",
        "outputId": "75b445e5-3693-4752-979d-a51456df7488"
      },
      "outputs": [
        {
          "data": {
            "text/plain": [
              "Id                         0\n",
              "ProductId                  0\n",
              "UserId                     0\n",
              "ProfileName               16\n",
              "HelpfulnessNumerator       0\n",
              "HelpfulnessDenominator     0\n",
              "Score                      0\n",
              "Time                       0\n",
              "Summary                   27\n",
              "Text                       0\n",
              "dtype: int64"
            ]
          },
          "execution_count": 3,
          "metadata": {},
          "output_type": "execute_result"
        }
      ],
      "source": [
        "# Check if there is any data in the dataset with a null value.\n",
        "df.isnull().sum()"
      ]
    },
    {
      "cell_type": "code",
      "execution_count": 3,
      "id": "14a2e7d9",
      "metadata": {
        "id": "14a2e7d9"
      },
      "outputs": [],
      "source": [
        "#Dropping \"Na\" rows\n",
        "df = df.dropna()"
      ]
    },
    {
      "cell_type": "code",
      "execution_count": 4,
      "id": "e26116a6",
      "metadata": {
        "colab": {
          "base_uri": "https://localhost:8080/"
        },
        "id": "e26116a6",
        "outputId": "13a25734-9948-40f3-9871-593cc83d9d64"
      },
      "outputs": [
        {
          "data": {
            "text/plain": [
              "(568411, 10)"
            ]
          },
          "execution_count": 4,
          "metadata": {},
          "output_type": "execute_result"
        }
      ],
      "source": [
        "#re-indexing the dataframe due to missing rows \n",
        "df = df.reset_index(drop=True)\n",
        "df.shape"
      ]
    },
    {
      "cell_type": "code",
      "execution_count": null,
      "id": "f84b8d81",
      "metadata": {
        "colab": {
          "base_uri": "https://localhost:8080/",
          "height": 849
        },
        "id": "f84b8d81",
        "outputId": "87f63516-f8ff-44dc-bdbe-1bb10f48fc99"
      },
      "outputs": [
        {
          "data": {
            "text/html": [
              "\n",
              "  <div id=\"df-a828b29d-2359-4929-918f-4fad556adf5e\">\n",
              "    <div class=\"colab-df-container\">\n",
              "      <div>\n",
              "<style scoped>\n",
              "    .dataframe tbody tr th:only-of-type {\n",
              "        vertical-align: middle;\n",
              "    }\n",
              "\n",
              "    .dataframe tbody tr th {\n",
              "        vertical-align: top;\n",
              "    }\n",
              "\n",
              "    .dataframe thead th {\n",
              "        text-align: right;\n",
              "    }\n",
              "</style>\n",
              "<table border=\"1\" class=\"dataframe\">\n",
              "  <thead>\n",
              "    <tr style=\"text-align: right;\">\n",
              "      <th></th>\n",
              "      <th>ProductId</th>\n",
              "      <th>UserId</th>\n",
              "      <th>ProfileName</th>\n",
              "      <th>Summary</th>\n",
              "      <th>Text</th>\n",
              "    </tr>\n",
              "  </thead>\n",
              "  <tbody>\n",
              "    <tr>\n",
              "      <th>0</th>\n",
              "      <td>B001E4KFG0</td>\n",
              "      <td>A3SGXH7AUHU8GW</td>\n",
              "      <td>delmartian</td>\n",
              "      <td>Good Quality Dog Food</td>\n",
              "      <td>I have bought several of the Vitality canned d...</td>\n",
              "    </tr>\n",
              "    <tr>\n",
              "      <th>1</th>\n",
              "      <td>B00813GRG4</td>\n",
              "      <td>A1D87F6ZCVE5NK</td>\n",
              "      <td>dll pa</td>\n",
              "      <td>Not as Advertised</td>\n",
              "      <td>Product arrived labeled as Jumbo Salted Peanut...</td>\n",
              "    </tr>\n",
              "    <tr>\n",
              "      <th>2</th>\n",
              "      <td>B000LQOCH0</td>\n",
              "      <td>ABXLMWJIXXAIN</td>\n",
              "      <td>Natalia Corres \"Natalia Corres\"</td>\n",
              "      <td>\"Delight\" says it all</td>\n",
              "      <td>This is a confection that has been around a fe...</td>\n",
              "    </tr>\n",
              "    <tr>\n",
              "      <th>3</th>\n",
              "      <td>B000UA0QIQ</td>\n",
              "      <td>A395BORC6FGVXV</td>\n",
              "      <td>Karl</td>\n",
              "      <td>Cough Medicine</td>\n",
              "      <td>If you are looking for the secret ingredient i...</td>\n",
              "    </tr>\n",
              "    <tr>\n",
              "      <th>4</th>\n",
              "      <td>B006K2ZZ7K</td>\n",
              "      <td>A1UQRSCLF8GW1T</td>\n",
              "      <td>Michael D. Bigham \"M. Wassir\"</td>\n",
              "      <td>Great taffy</td>\n",
              "      <td>Great taffy at a great price.  There was a wid...</td>\n",
              "    </tr>\n",
              "    <tr>\n",
              "      <th>...</th>\n",
              "      <td>...</td>\n",
              "      <td>...</td>\n",
              "      <td>...</td>\n",
              "      <td>...</td>\n",
              "      <td>...</td>\n",
              "    </tr>\n",
              "    <tr>\n",
              "      <th>568406</th>\n",
              "      <td>B001EO7N10</td>\n",
              "      <td>A28KG5XORO54AY</td>\n",
              "      <td>Lettie D. Carter</td>\n",
              "      <td>Will not do without</td>\n",
              "      <td>Great for sesame chicken..this is a good if no...</td>\n",
              "    </tr>\n",
              "    <tr>\n",
              "      <th>568407</th>\n",
              "      <td>B003S1WTCU</td>\n",
              "      <td>A3I8AFVPEE8KI5</td>\n",
              "      <td>R. Sawyer</td>\n",
              "      <td>disappointed</td>\n",
              "      <td>I'm disappointed with the flavor. The chocolat...</td>\n",
              "    </tr>\n",
              "    <tr>\n",
              "      <th>568408</th>\n",
              "      <td>B004I613EE</td>\n",
              "      <td>A121AA1GQV751Z</td>\n",
              "      <td>pksd \"pk_007\"</td>\n",
              "      <td>Perfect for our maltipoo</td>\n",
              "      <td>These stars are small, so you can give 10-15 o...</td>\n",
              "    </tr>\n",
              "    <tr>\n",
              "      <th>568409</th>\n",
              "      <td>B004I613EE</td>\n",
              "      <td>A3IBEVCTXKNOH</td>\n",
              "      <td>Kathy A. Welch \"katwel\"</td>\n",
              "      <td>Favorite Training and reward treat</td>\n",
              "      <td>These are the BEST treats for training and rew...</td>\n",
              "    </tr>\n",
              "    <tr>\n",
              "      <th>568410</th>\n",
              "      <td>B001LR2CU2</td>\n",
              "      <td>A3LGQPJCZVL9UC</td>\n",
              "      <td>srfell17</td>\n",
              "      <td>Great Honey</td>\n",
              "      <td>I am very satisfied ,product is as advertised,...</td>\n",
              "    </tr>\n",
              "  </tbody>\n",
              "</table>\n",
              "<p>568411 rows × 5 columns</p>\n",
              "</div>\n",
              "      <button class=\"colab-df-convert\" onclick=\"convertToInteractive('df-a828b29d-2359-4929-918f-4fad556adf5e')\"\n",
              "              title=\"Convert this dataframe to an interactive table.\"\n",
              "              style=\"display:none;\">\n",
              "        \n",
              "  <svg xmlns=\"http://www.w3.org/2000/svg\" height=\"24px\"viewBox=\"0 0 24 24\"\n",
              "       width=\"24px\">\n",
              "    <path d=\"M0 0h24v24H0V0z\" fill=\"none\"/>\n",
              "    <path d=\"M18.56 5.44l.94 2.06.94-2.06 2.06-.94-2.06-.94-.94-2.06-.94 2.06-2.06.94zm-11 1L8.5 8.5l.94-2.06 2.06-.94-2.06-.94L8.5 2.5l-.94 2.06-2.06.94zm10 10l.94 2.06.94-2.06 2.06-.94-2.06-.94-.94-2.06-.94 2.06-2.06.94z\"/><path d=\"M17.41 7.96l-1.37-1.37c-.4-.4-.92-.59-1.43-.59-.52 0-1.04.2-1.43.59L10.3 9.45l-7.72 7.72c-.78.78-.78 2.05 0 2.83L4 21.41c.39.39.9.59 1.41.59.51 0 1.02-.2 1.41-.59l7.78-7.78 2.81-2.81c.8-.78.8-2.07 0-2.86zM5.41 20L4 18.59l7.72-7.72 1.47 1.35L5.41 20z\"/>\n",
              "  </svg>\n",
              "      </button>\n",
              "      \n",
              "  <style>\n",
              "    .colab-df-container {\n",
              "      display:flex;\n",
              "      flex-wrap:wrap;\n",
              "      gap: 12px;\n",
              "    }\n",
              "\n",
              "    .colab-df-convert {\n",
              "      background-color: #E8F0FE;\n",
              "      border: none;\n",
              "      border-radius: 50%;\n",
              "      cursor: pointer;\n",
              "      display: none;\n",
              "      fill: #1967D2;\n",
              "      height: 32px;\n",
              "      padding: 0 0 0 0;\n",
              "      width: 32px;\n",
              "    }\n",
              "\n",
              "    .colab-df-convert:hover {\n",
              "      background-color: #E2EBFA;\n",
              "      box-shadow: 0px 1px 2px rgba(60, 64, 67, 0.3), 0px 1px 3px 1px rgba(60, 64, 67, 0.15);\n",
              "      fill: #174EA6;\n",
              "    }\n",
              "\n",
              "    [theme=dark] .colab-df-convert {\n",
              "      background-color: #3B4455;\n",
              "      fill: #D2E3FC;\n",
              "    }\n",
              "\n",
              "    [theme=dark] .colab-df-convert:hover {\n",
              "      background-color: #434B5C;\n",
              "      box-shadow: 0px 1px 3px 1px rgba(0, 0, 0, 0.15);\n",
              "      filter: drop-shadow(0px 1px 2px rgba(0, 0, 0, 0.3));\n",
              "      fill: #FFFFFF;\n",
              "    }\n",
              "  </style>\n",
              "\n",
              "      <script>\n",
              "        const buttonEl =\n",
              "          document.querySelector('#df-a828b29d-2359-4929-918f-4fad556adf5e button.colab-df-convert');\n",
              "        buttonEl.style.display =\n",
              "          google.colab.kernel.accessAllowed ? 'block' : 'none';\n",
              "\n",
              "        async function convertToInteractive(key) {\n",
              "          const element = document.querySelector('#df-a828b29d-2359-4929-918f-4fad556adf5e');\n",
              "          const dataTable =\n",
              "            await google.colab.kernel.invokeFunction('convertToInteractive',\n",
              "                                                     [key], {});\n",
              "          if (!dataTable) return;\n",
              "\n",
              "          const docLinkHtml = 'Like what you see? Visit the ' +\n",
              "            '<a target=\"_blank\" href=https://colab.research.google.com/notebooks/data_table.ipynb>data table notebook</a>'\n",
              "            + ' to learn more about interactive tables.';\n",
              "          element.innerHTML = '';\n",
              "          dataTable['output_type'] = 'display_data';\n",
              "          await google.colab.output.renderOutput(dataTable, element);\n",
              "          const docLink = document.createElement('div');\n",
              "          docLink.innerHTML = docLinkHtml;\n",
              "          element.appendChild(docLink);\n",
              "        }\n",
              "      </script>\n",
              "    </div>\n",
              "  </div>\n",
              "  "
            ],
            "text/plain": [
              "         ProductId          UserId                      ProfileName  \\\n",
              "0       B001E4KFG0  A3SGXH7AUHU8GW                       delmartian   \n",
              "1       B00813GRG4  A1D87F6ZCVE5NK                           dll pa   \n",
              "2       B000LQOCH0   ABXLMWJIXXAIN  Natalia Corres \"Natalia Corres\"   \n",
              "3       B000UA0QIQ  A395BORC6FGVXV                             Karl   \n",
              "4       B006K2ZZ7K  A1UQRSCLF8GW1T    Michael D. Bigham \"M. Wassir\"   \n",
              "...            ...             ...                              ...   \n",
              "568406  B001EO7N10  A28KG5XORO54AY                 Lettie D. Carter   \n",
              "568407  B003S1WTCU  A3I8AFVPEE8KI5                        R. Sawyer   \n",
              "568408  B004I613EE  A121AA1GQV751Z                    pksd \"pk_007\"   \n",
              "568409  B004I613EE   A3IBEVCTXKNOH          Kathy A. Welch \"katwel\"   \n",
              "568410  B001LR2CU2  A3LGQPJCZVL9UC                         srfell17   \n",
              "\n",
              "                                   Summary  \\\n",
              "0                    Good Quality Dog Food   \n",
              "1                        Not as Advertised   \n",
              "2                    \"Delight\" says it all   \n",
              "3                           Cough Medicine   \n",
              "4                              Great taffy   \n",
              "...                                    ...   \n",
              "568406                 Will not do without   \n",
              "568407                        disappointed   \n",
              "568408            Perfect for our maltipoo   \n",
              "568409  Favorite Training and reward treat   \n",
              "568410                         Great Honey   \n",
              "\n",
              "                                                     Text  \n",
              "0       I have bought several of the Vitality canned d...  \n",
              "1       Product arrived labeled as Jumbo Salted Peanut...  \n",
              "2       This is a confection that has been around a fe...  \n",
              "3       If you are looking for the secret ingredient i...  \n",
              "4       Great taffy at a great price.  There was a wid...  \n",
              "...                                                   ...  \n",
              "568406  Great for sesame chicken..this is a good if no...  \n",
              "568407  I'm disappointed with the flavor. The chocolat...  \n",
              "568408  These stars are small, so you can give 10-15 o...  \n",
              "568409  These are the BEST treats for training and rew...  \n",
              "568410  I am very satisfied ,product is as advertised,...  \n",
              "\n",
              "[568411 rows x 5 columns]"
            ]
          },
          "execution_count": 6,
          "metadata": {},
          "output_type": "execute_result"
        }
      ],
      "source": [
        "# Check the data types of the dataset.\n",
        "cat_columns = df.select_dtypes(include='O').columns\n",
        "df[cat_columns]\n",
        "# Display the data which is \"String\"."
      ]
    },
    {
      "cell_type": "code",
      "execution_count": 5,
      "id": "nBW-wRlbRpbD",
      "metadata": {
        "id": "nBW-wRlbRpbD"
      },
      "outputs": [],
      "source": [
        "df = df.drop(columns=['Id','UserId','ProfileName','Time'])"
      ]
    },
    {
      "cell_type": "code",
      "execution_count": null,
      "id": "6bf97479",
      "metadata": {
        "colab": {
          "base_uri": "https://localhost:8080/",
          "height": 295
        },
        "id": "6bf97479",
        "outputId": "4096b45a-c0c5-4bdf-d7a6-e87686800b6a"
      },
      "outputs": [
        {
          "data": {
            "image/png": "[encoded data removed]",
            "text/plain": [
              "<Figure size 432x288 with 1 Axes>"
            ]
          },
          "metadata": {},
          "output_type": "display_data"
        }
      ],
      "source": [
        "import matplotlib.pyplot as plt\n",
        "# Plot the score count\n",
        "\n",
        "score_counts = df['Score'].value_counts().sort_index()\n",
        "plt.bar(score_counts.index, score_counts.values)\n",
        "plt.title('Score Count')\n",
        "plt.xlabel('Score')\n",
        "plt.ylabel('Count')\n",
        "plt.show()"
      ]
    },
    {
      "cell_type": "code",
      "execution_count": 6,
      "id": "c78c8e7b",
      "metadata": {
        "id": "c78c8e7b"
      },
      "outputs": [],
      "source": [
        "# Taking a subset of the data to work on\n",
        "df=df.head(5000)"
      ]
    },
    {
      "cell_type": "code",
      "execution_count": 7,
      "id": "5d3c42f8",
      "metadata": {
        "id": "5d3c42f8"
      },
      "outputs": [],
      "source": [
        "# Split the dataset into training, validation, and test sets\n",
        "train_df, test_df = train_test_split(df, test_size=0.2, random_state=42)\n",
        "train_df, val_df = train_test_split(train_df, test_size=0.25, random_state=42)\n"
      ]
    },
    {
      "cell_type": "code",
      "execution_count": null,
      "id": "8f5ea800",
      "metadata": {
        "colab": {
          "base_uri": "https://localhost:8080/"
        },
        "id": "8f5ea800",
        "outputId": "aa4099a3-0182-4e13-ecfa-6bed4721ecee"
      },
      "outputs": [
        {
          "name": "stdout",
          "output_type": "stream",
          "text": [
            "Label counts for training set:\n",
            "5    1898\n",
            "4     415\n",
            "1     275\n",
            "3     232\n",
            "2     180\n",
            "Name: Score, dtype: int64\n"
          ]
        }
      ],
      "source": [
        "# Print the label counts for each split\n",
        "print(\"Label counts for training set:\")\n",
        "print(train_df['Score'].value_counts())"
      ]
    },
    {
      "cell_type": "code",
      "execution_count": null,
      "id": "286b02d3",
      "metadata": {
        "colab": {
          "base_uri": "https://localhost:8080/"
        },
        "id": "286b02d3",
        "outputId": "0e3562ed-6f42-4e8a-b48f-efccdc390d38"
      },
      "outputs": [
        {
          "name": "stdout",
          "output_type": "stream",
          "text": [
            "\n",
            "Label counts for validation set:\n",
            "5    609\n",
            "4    149\n",
            "1     93\n",
            "3     88\n",
            "2     61\n",
            "Name: Score, dtype: int64\n"
          ]
        }
      ],
      "source": [
        "print(\"\\nLabel counts for validation set:\")\n",
        "print(val_df['Score'].value_counts())"
      ]
    },
    {
      "cell_type": "code",
      "execution_count": null,
      "id": "ec2382df",
      "metadata": {
        "colab": {
          "base_uri": "https://localhost:8080/"
        },
        "id": "ec2382df",
        "outputId": "750103f3-cfa2-467f-e253-bddd6165bfae"
      },
      "outputs": [
        {
          "name": "stdout",
          "output_type": "stream",
          "text": [
            "\n",
            "Label counts for test set:\n",
            "5    627\n",
            "4    148\n",
            "1    101\n",
            "3     75\n",
            "2     49\n",
            "Name: Score, dtype: int64\n"
          ]
        }
      ],
      "source": [
        "print(\"\\nLabel counts for test set:\")\n",
        "print(test_df['Score'].value_counts())"
      ]
    },
    {
      "cell_type": "markdown",
      "id": "cc52fe88",
      "metadata": {
        "id": "cc52fe88"
      },
      "source": [
        "# Q2. Data Clustering:"
      ]
    },
    {
      "cell_type": "code",
      "execution_count": 8,
      "id": "227d5f4a",
      "metadata": {
        "colab": {
          "base_uri": "https://localhost:8080/",
          "height": 1000
        },
        "id": "227d5f4a",
        "outputId": "4ed3f1ba-6ab0-4cff-fdd6-941003638fbe"
      },
      "outputs": [
        {
          "data": {
            "text/html": [
              "\n",
              "  <div id=\"df-5b1cb4c2-8156-4693-b922-39dba5a19361\">\n",
              "    <div class=\"colab-df-container\">\n",
              "      <div>\n",
              "<style scoped>\n",
              "    .dataframe tbody tr th:only-of-type {\n",
              "        vertical-align: middle;\n",
              "    }\n",
              "\n",
              "    .dataframe tbody tr th {\n",
              "        vertical-align: top;\n",
              "    }\n",
              "\n",
              "    .dataframe thead th {\n",
              "        text-align: right;\n",
              "    }\n",
              "</style>\n",
              "<table border=\"1\" class=\"dataframe\">\n",
              "  <thead>\n",
              "    <tr style=\"text-align: right;\">\n",
              "      <th></th>\n",
              "      <th>ProductId</th>\n",
              "      <th>HelpfulnessNumerator</th>\n",
              "      <th>HelpfulnessDenominator</th>\n",
              "      <th>Score</th>\n",
              "      <th>Summary</th>\n",
              "      <th>Text</th>\n",
              "      <th>words</th>\n",
              "    </tr>\n",
              "  </thead>\n",
              "  <tbody>\n",
              "    <tr>\n",
              "      <th>4702</th>\n",
              "      <td>B00139TT72</td>\n",
              "      <td>0</td>\n",
              "      <td>0</td>\n",
              "      <td>5</td>\n",
              "      <td>Good Stuff</td>\n",
              "      <td>I feed my two Pugs and occasional rescue Newma...</td>\n",
              "      <td>Good Stuff  I feed my two Pugs and occasional ...</td>\n",
              "    </tr>\n",
              "    <tr>\n",
              "      <th>2155</th>\n",
              "      <td>B002BB7EWI</td>\n",
              "      <td>0</td>\n",
              "      <td>1</td>\n",
              "      <td>3</td>\n",
              "      <td>Glorified baby food</td>\n",
              "      <td>I know these are super trendy right now, and I...</td>\n",
              "      <td>Glorified baby food  I know these are super tr...</td>\n",
              "    </tr>\n",
              "    <tr>\n",
              "      <th>289</th>\n",
              "      <td>B001UJEN6C</td>\n",
              "      <td>7</td>\n",
              "      <td>8</td>\n",
              "      <td>5</td>\n",
              "      <td>Great Energy</td>\n",
              "      <td>I bought these for my husband and he said they...</td>\n",
              "      <td>Great Energy  I bought these for my husband an...</td>\n",
              "    </tr>\n",
              "    <tr>\n",
              "      <th>1822</th>\n",
              "      <td>B001RVFDOO</td>\n",
              "      <td>0</td>\n",
              "      <td>1</td>\n",
              "      <td>5</td>\n",
              "      <td>GREAT CRUNCH SOLUTION!!!!!!!!!!!!!!</td>\n",
              "      <td>I HAPPENED UPON THIS ITEM IN MY LOCAL DELI AND...</td>\n",
              "      <td>GREAT CRUNCH SOLUTION!!!!!!!!!!!!!!  I HAPPENE...</td>\n",
              "    </tr>\n",
              "    <tr>\n",
              "      <th>3442</th>\n",
              "      <td>B005K4Q1VI</td>\n",
              "      <td>0</td>\n",
              "      <td>1</td>\n",
              "      <td>5</td>\n",
              "      <td>Great Hot Chocolate</td>\n",
              "      <td>This is really great Hot chocolate. The price ...</td>\n",
              "      <td>Great Hot Chocolate  This is really great Hot ...</td>\n",
              "    </tr>\n",
              "    <tr>\n",
              "      <th>521</th>\n",
              "      <td>B000G6RYNE</td>\n",
              "      <td>0</td>\n",
              "      <td>1</td>\n",
              "      <td>3</td>\n",
              "      <td>Too Much Flavor</td>\n",
              "      <td>These things are just too darn cheesy. If you ...</td>\n",
              "      <td>Too Much Flavor  These things are just too dar...</td>\n",
              "    </tr>\n",
              "    <tr>\n",
              "      <th>3804</th>\n",
              "      <td>B000X2CWTM</td>\n",
              "      <td>32</td>\n",
              "      <td>33</td>\n",
              "      <td>5</td>\n",
              "      <td>Real Licorice</td>\n",
              "      <td>I received a box of this for Christmas. It is ...</td>\n",
              "      <td>Real Licorice  I received a box of this for Ch...</td>\n",
              "    </tr>\n",
              "    <tr>\n",
              "      <th>678</th>\n",
              "      <td>B000G6MBX2</td>\n",
              "      <td>2</td>\n",
              "      <td>2</td>\n",
              "      <td>4</td>\n",
              "      <td>Very different flavor</td>\n",
              "      <td>I love these chips. The flavor is not plain. T...</td>\n",
              "      <td>Very different flavor  I love these chips. The...</td>\n",
              "    </tr>\n",
              "    <tr>\n",
              "      <th>2294</th>\n",
              "      <td>B003WWJ8LA</td>\n",
              "      <td>0</td>\n",
              "      <td>1</td>\n",
              "      <td>1</td>\n",
              "      <td>Avoid This Seloler</td>\n",
              "      <td>The picture shown is for three packages and th...</td>\n",
              "      <td>Avoid This Seloler  The picture shown is for t...</td>\n",
              "    </tr>\n",
              "    <tr>\n",
              "      <th>3623</th>\n",
              "      <td>B000R1BPOC</td>\n",
              "      <td>0</td>\n",
              "      <td>2</td>\n",
              "      <td>5</td>\n",
              "      <td>Lazzaroni Tin</td>\n",
              "      <td>A little more money than your average cookie, ...</td>\n",
              "      <td>Lazzaroni Tin  A little more money than your a...</td>\n",
              "    </tr>\n",
              "  </tbody>\n",
              "</table>\n",
              "</div>\n",
              "      <button class=\"colab-df-convert\" onclick=\"convertToInteractive('df-5b1cb4c2-8156-4693-b922-39dba5a19361')\"\n",
              "              title=\"Convert this dataframe to an interactive table.\"\n",
              "              style=\"display:none;\">\n",
              "        \n",
              "  <svg xmlns=\"http://www.w3.org/2000/svg\" height=\"24px\"viewBox=\"0 0 24 24\"\n",
              "       width=\"24px\">\n",
              "    <path d=\"M0 0h24v24H0V0z\" fill=\"none\"/>\n",
              "    <path d=\"M18.56 5.44l.94 2.06.94-2.06 2.06-.94-2.06-.94-.94-2.06-.94 2.06-2.06.94zm-11 1L8.5 8.5l.94-2.06 2.06-.94-2.06-.94L8.5 2.5l-.94 2.06-2.06.94zm10 10l.94 2.06.94-2.06 2.06-.94-2.06-.94-.94-2.06-.94 2.06-2.06.94z\"/><path d=\"M17.41 7.96l-1.37-1.37c-.4-.4-.92-.59-1.43-.59-.52 0-1.04.2-1.43.59L10.3 9.45l-7.72 7.72c-.78.78-.78 2.05 0 2.83L4 21.41c.39.39.9.59 1.41.59.51 0 1.02-.2 1.41-.59l7.78-7.78 2.81-2.81c.8-.78.8-2.07 0-2.86zM5.41 20L4 18.59l7.72-7.72 1.47 1.35L5.41 20z\"/>\n",
              "  </svg>\n",
              "      </button>\n",
              "      \n",
              "  <style>\n",
              "    .colab-df-container {\n",
              "      display:flex;\n",
              "      flex-wrap:wrap;\n",
              "      gap: 12px;\n",
              "    }\n",
              "\n",
              "    .colab-df-convert {\n",
              "      background-color: #E8F0FE;\n",
              "      border: none;\n",
              "      border-radius: 50%;\n",
              "      cursor: pointer;\n",
              "      display: none;\n",
              "      fill: #1967D2;\n",
              "      height: 32px;\n",
              "      padding: 0 0 0 0;\n",
              "      width: 32px;\n",
              "    }\n",
              "\n",
              "    .colab-df-convert:hover {\n",
              "      background-color: #E2EBFA;\n",
              "      box-shadow: 0px 1px 2px rgba(60, 64, 67, 0.3), 0px 1px 3px 1px rgba(60, 64, 67, 0.15);\n",
              "      fill: #174EA6;\n",
              "    }\n",
              "\n",
              "    [theme=dark] .colab-df-convert {\n",
              "      background-color: #3B4455;\n",
              "      fill: #D2E3FC;\n",
              "    }\n",
              "\n",
              "    [theme=dark] .colab-df-convert:hover {\n",
              "      background-color: #434B5C;\n",
              "      box-shadow: 0px 1px 3px 1px rgba(0, 0, 0, 0.15);\n",
              "      filter: drop-shadow(0px 1px 2px rgba(0, 0, 0, 0.3));\n",
              "      fill: #FFFFFF;\n",
              "    }\n",
              "  </style>\n",
              "\n",
              "      <script>\n",
              "        const buttonEl =\n",
              "          document.querySelector('#df-5b1cb4c2-8156-4693-b922-39dba5a19361 button.colab-df-convert');\n",
              "        buttonEl.style.display =\n",
              "          google.colab.kernel.accessAllowed ? 'block' : 'none';\n",
              "\n",
              "        async function convertToInteractive(key) {\n",
              "          const element = document.querySelector('#df-5b1cb4c2-8156-4693-b922-39dba5a19361');\n",
              "          const dataTable =\n",
              "            await google.colab.kernel.invokeFunction('convertToInteractive',\n",
              "                                                     [key], {});\n",
              "          if (!dataTable) return;\n",
              "\n",
              "          const docLinkHtml = 'Like what you see? Visit the ' +\n",
              "            '<a target=\"_blank\" href=https://colab.research.google.com/notebooks/data_table.ipynb>data table notebook</a>'\n",
              "            + ' to learn more about interactive tables.';\n",
              "          element.innerHTML = '';\n",
              "          dataTable['output_type'] = 'display_data';\n",
              "          await google.colab.output.renderOutput(dataTable, element);\n",
              "          const docLink = document.createElement('div');\n",
              "          docLink.innerHTML = docLinkHtml;\n",
              "          element.appendChild(docLink);\n",
              "        }\n",
              "      </script>\n",
              "    </div>\n",
              "  </div>\n",
              "  "
            ],
            "text/plain": [
              "       ProductId  HelpfulnessNumerator  HelpfulnessDenominator  Score  \\\n",
              "4702  B00139TT72                     0                       0      5   \n",
              "2155  B002BB7EWI                     0                       1      3   \n",
              "289   B001UJEN6C                     7                       8      5   \n",
              "1822  B001RVFDOO                     0                       1      5   \n",
              "3442  B005K4Q1VI                     0                       1      5   \n",
              "521   B000G6RYNE                     0                       1      3   \n",
              "3804  B000X2CWTM                    32                      33      5   \n",
              "678   B000G6MBX2                     2                       2      4   \n",
              "2294  B003WWJ8LA                     0                       1      1   \n",
              "3623  B000R1BPOC                     0                       2      5   \n",
              "\n",
              "                                  Summary  \\\n",
              "4702                           Good Stuff   \n",
              "2155                  Glorified baby food   \n",
              "289                          Great Energy   \n",
              "1822  GREAT CRUNCH SOLUTION!!!!!!!!!!!!!!   \n",
              "3442                  Great Hot Chocolate   \n",
              "521                       Too Much Flavor   \n",
              "3804                        Real Licorice   \n",
              "678                 Very different flavor   \n",
              "2294                   Avoid This Seloler   \n",
              "3623                        Lazzaroni Tin   \n",
              "\n",
              "                                                   Text  \\\n",
              "4702  I feed my two Pugs and occasional rescue Newma...   \n",
              "2155  I know these are super trendy right now, and I...   \n",
              "289   I bought these for my husband and he said they...   \n",
              "1822  I HAPPENED UPON THIS ITEM IN MY LOCAL DELI AND...   \n",
              "3442  This is really great Hot chocolate. The price ...   \n",
              "521   These things are just too darn cheesy. If you ...   \n",
              "3804  I received a box of this for Christmas. It is ...   \n",
              "678   I love these chips. The flavor is not plain. T...   \n",
              "2294  The picture shown is for three packages and th...   \n",
              "3623  A little more money than your average cookie, ...   \n",
              "\n",
              "                                                  words  \n",
              "4702  Good Stuff  I feed my two Pugs and occasional ...  \n",
              "2155  Glorified baby food  I know these are super tr...  \n",
              "289   Great Energy  I bought these for my husband an...  \n",
              "1822  GREAT CRUNCH SOLUTION!!!!!!!!!!!!!!  I HAPPENE...  \n",
              "3442  Great Hot Chocolate  This is really great Hot ...  \n",
              "521   Too Much Flavor  These things are just too dar...  \n",
              "3804  Real Licorice  I received a box of this for Ch...  \n",
              "678   Very different flavor  I love these chips. The...  \n",
              "2294  Avoid This Seloler  The picture shown is for t...  \n",
              "3623  Lazzaroni Tin  A little more money than your a...  "
            ]
          },
          "execution_count": 8,
          "metadata": {},
          "output_type": "execute_result"
        }
      ],
      "source": [
        "# Combine summary and text into new column words\n",
        "train_df['words']=train_df['Summary']+'  '+train_df['Text']\n",
        "val_df['words']=val_df['Summary']+'  '+val_df['Text']\n",
        "test_df['words']=test_df['Summary']+'  '+test_df['Text']\n",
        "train_df.head(10)"
      ]
    },
    {
      "cell_type": "code",
      "execution_count": null,
      "id": "6060d279",
      "metadata": {
        "id": "6060d279"
      },
      "outputs": [],
      "source": [
        "# Data pipeline for tokenizations, stemming and stopword removal\n",
        "import spacy\n",
        "nlp = spacy.load(\"en_core_web_sm\")\n",
        "def text_pipeline_spacy(text):\n",
        "  tokens = []\n",
        "  doc = nlp(text)\n",
        "  for t in doc:\n",
        "    if not t.is_stop and not t.is_punct and not t.is_space:\n",
        "      tokens.append(t.lemma_.lower())\n",
        "  return tokens"
      ]
    },
    {
      "cell_type": "code",
      "execution_count": null,
      "id": "47efd010",
      "metadata": {
        "id": "47efd010"
      },
      "outputs": [],
      "source": [
        "# Removing HTML tags from text\n",
        "from bs4 import BeautifulSoup\n",
        "def text_pipeline(text):\n",
        "    soup = BeautifulSoup(text, \"html.parser\")\n",
        "    text = soup.get_text()\n",
        "    tokens = text_pipeline_spacy(text)\n",
        "    return tokens"
      ]
    },
    {
      "cell_type": "code",
      "execution_count": null,
      "id": "1cac654a",
      "metadata": {
        "colab": {
          "base_uri": "https://localhost:8080/"
        },
        "id": "1cac654a",
        "outputId": "ff6bfa21-5d9b-4d67-eb11-ab1ea2f28cb3"
      },
      "outputs": [
        {
          "name": "stderr",
          "output_type": "stream",
          "text": [
            "100%|██████████| 10/10 [00:00<00:00, 57.09it/s]\n"
          ]
        }
      ],
      "source": [
        "# Testing text preprocessing\n",
        "from tqdm import tqdm # This provides a nice progress bar\n",
        "tokens=[]\n",
        "for rev in tqdm(train_df['words'].head(10)):\n",
        "  tokens.append(text_pipeline(rev))"
      ]
    },
    {
      "cell_type": "code",
      "execution_count": null,
      "id": "e12c5376",
      "metadata": {
        "colab": {
          "base_uri": "https://localhost:8080/"
        },
        "id": "e12c5376",
        "outputId": "a8e7f84f-85ed-416a-f393-a3ef57f8fe8a"
      },
      "outputs": [
        {
          "data": {
            "text/plain": [
              "4702    Good Stuff  I feed my two Pugs and occasional ...\n",
              "2155    Glorified baby food  I know these are super tr...\n",
              "289     Great Energy  I bought these for my husband an...\n",
              "1822    GREAT CRUNCH SOLUTION!!!!!!!!!!!!!!  I HAPPENE...\n",
              "3442    Great Hot Chocolate  This is really great Hot ...\n",
              "521     Too Much Flavor  These things are just too dar...\n",
              "3804    Real Licorice  I received a box of this for Ch...\n",
              "678     Very different flavor  I love these chips. The...\n",
              "2294    Avoid This Seloler  The picture shown is for t...\n",
              "3623    Lazzaroni Tin  A little more money than your a...\n",
              "Name: words, dtype: object"
            ]
          },
          "execution_count": 54,
          "metadata": {},
          "output_type": "execute_result"
        }
      ],
      "source": [
        "train_df['words'].head(10)"
      ]
    },
    {
      "cell_type": "code",
      "execution_count": null,
      "id": "c4feb91d",
      "metadata": {
        "colab": {
          "base_uri": "https://localhost:8080/"
        },
        "id": "c4feb91d",
        "outputId": "e0001622-bc81-4576-91b4-9217454c6281"
      },
      "outputs": [
        {
          "data": {
            "text/plain": [
              "[['good',\n",
              "  'stuff',\n",
              "  'feed',\n",
              "  'pugs',\n",
              "  'occasional',\n",
              "  'rescue',\n",
              "  'newman',\n",
              "  'advanced',\n",
              "  'dog',\n",
              "  'formula',\n",
              "  'like',\n",
              "  'well',\n",
              "  'regular',\n",
              "  'newman',\n",
              "  'ingredient',\n",
              "  'supplement',\n",
              "  'high',\n",
              "  'quality',\n",
              "  'food',\n",
              "  'organic',\n",
              "  'free',\n",
              "  'range',\n",
              "  'chicken',\n",
              "  'healthy',\n",
              "  'powder',\n",
              "  'salmon',\n",
              "  'oil',\n",
              "  'boy',\n",
              "  'healthy',\n",
              "  'coat',\n",
              "  'amazing',\n",
              "  'highly',\n",
              "  'recommend',\n",
              "  'supplement'],\n",
              " ['glorify',\n",
              "  'baby',\n",
              "  'food',\n",
              "  'know',\n",
              "  'super',\n",
              "  'trendy',\n",
              "  'right',\n",
              "  'totally',\n",
              "  'want',\n",
              "  'love',\n",
              "  'product',\n",
              "  'exact',\n",
              "  'want',\n",
              "  'toddler',\n",
              "  'love',\n",
              "  'product',\n",
              "  'take',\n",
              "  'taste',\n",
              "  'hand',\n",
              "  'say',\n",
              "  'give',\n",
              "  'baby',\n",
              "  'food',\n",
              "  'mom',\n",
              "  'taste',\n",
              "  'right',\n",
              "  'taste',\n",
              "  'like',\n",
              "  'jarred',\n",
              "  'baby',\n",
              "  'food',\n",
              "  'consistency',\n",
              "  'thick',\n",
              "  'kid',\n",
              "  'like',\n",
              "  'packaging',\n",
              "  'great',\n",
              "  'kid',\n",
              "  'expensive',\n",
              "  'baby',\n",
              "  'food',\n",
              "  'go',\n",
              "  'rest',\n",
              "  'baby',\n",
              "  'toddler',\n",
              "  'bit',\n",
              "  'interested'],\n",
              " ['great',\n",
              "  'energy',\n",
              "  'buy',\n",
              "  'husband',\n",
              "  'say',\n",
              "  'good',\n",
              "  'energy',\n",
              "  'shot',\n",
              "  'take',\n",
              "  'morning',\n",
              "  'work',\n",
              "  'hard',\n",
              "  'day',\n",
              "  'good',\n",
              "  'stuff'],\n",
              " ['great',\n",
              "  'crunch',\n",
              "  'solution',\n",
              "  'happen',\n",
              "  'item',\n",
              "  'local',\n",
              "  'deli',\n",
              "  'curio',\n",
              "  'decided',\n",
              "  'try',\n",
              "  'fabulous',\n",
              "  'well',\n",
              "  'regular',\n",
              "  'chips',\n",
              "  'far',\n",
              "  'give',\n",
              "  'satisfaction',\n",
              "  'crunch',\n",
              "  'flavor',\n",
              "  'potatoe',\n",
              "  'chip',\n",
              "  'great',\n",
              "  'great',\n",
              "  'find'],\n",
              " ['great',\n",
              "  'hot',\n",
              "  'chocolate',\n",
              "  'great',\n",
              "  'hot',\n",
              "  'chocolate',\n",
              "  'price',\n",
              "  'right',\n",
              "  'usually',\n",
              "  'find',\n",
              "  'hot',\n",
              "  'chocolate',\n",
              "  'k',\n",
              "  'cup',\n",
              "  'weak',\n",
              "  'watery',\n",
              "  'impressed',\n",
              "  'dark',\n",
              "  'chocolate',\n",
              "  'yummy',\n",
              "  'order'],\n",
              " ['flavor',\n",
              "  'thing',\n",
              "  'darn',\n",
              "  'cheesy',\n",
              "  'like',\n",
              "  'lot',\n",
              "  'flavor',\n",
              "  'love',\n",
              "  'overdose',\n",
              "  'cheddary',\n",
              "  'goodness'],\n",
              " ['real',\n",
              "  'licorice',\n",
              "  'receive',\n",
              "  'box',\n",
              "  'christmas',\n",
              "  'good',\n",
              "  'overly',\n",
              "  'strong',\n",
              "  'like',\n",
              "  'black',\n",
              "  'licorice',\n",
              "  'soft',\n",
              "  'simple',\n",
              "  'ingredient',\n",
              "  'list',\n",
              "  'high',\n",
              "  'fructose',\n",
              "  'corn',\n",
              "  'syrup',\n",
              "  'like',\n",
              "  'candy',\n",
              "  'molasseswheat',\n",
              "  'flourlicorice',\n",
              "  'extractnatural',\n",
              "  'flavor',\n",
              "  'aniseed',\n",
              "  'oil'],\n",
              " ['different',\n",
              "  'flavor',\n",
              "  'love',\n",
              "  'chip',\n",
              "  'flavor',\n",
              "  'plain',\n",
              "  'sweet',\n",
              "  'spicy',\n",
              "  'time',\n",
              "  'drawback',\n",
              "  'tad',\n",
              "  'bit',\n",
              "  'salt',\n",
              "  'great',\n",
              "  'flavor'],\n",
              " ['avoid',\n",
              "  'seloler',\n",
              "  'picture',\n",
              "  'show',\n",
              "  'package',\n",
              "  'price',\n",
              "  'fair',\n",
              "  'send',\n",
              "  'charge',\n",
              "  'item',\n",
              "  'send',\n",
              "  'item',\n",
              "  'show',\n",
              "  'buy',\n",
              "  'item',\n",
              "  'ship',\n",
              "  'day',\n",
              "  'long',\n",
              "  'local',\n",
              "  'grocery',\n",
              "  'store',\n",
              "  'go',\n",
              "  'amazon',\n",
              "  'look',\n",
              "  'type',\n",
              "  'show',\n",
              "  'contact',\n",
              "  'seller',\n",
              "  'tell',\n",
              "  'say',\n",
              "  'partial',\n",
              "  'credit',\n",
              "  'item',\n",
              "  'shipping',\n",
              "  'see',\n",
              "  'ship',\n",
              "  'order',\n",
              "  'entitle',\n",
              "  'refund',\n",
              "  'include',\n",
              "  'shipping',\n",
              "  'offer',\n",
              "  'seller',\n",
              "  'negative',\n",
              "  'star',\n",
              "  'future',\n",
              "  'buyer',\n",
              "  'beware'],\n",
              " ['lazzaroni',\n",
              "  'tin',\n",
              "  'little',\n",
              "  'money',\n",
              "  'average',\n",
              "  'cookie',\n",
              "  'worth',\n",
              "  'find',\n",
              "  'cookie',\n",
              "  'like']]"
            ]
          },
          "execution_count": 55,
          "metadata": {},
          "output_type": "execute_result"
        }
      ],
      "source": [
        "tokens"
      ]
    },
    {
      "cell_type": "code",
      "execution_count": null,
      "id": "c6de0e9b",
      "metadata": {
        "colab": {
          "base_uri": "https://localhost:8080/"
        },
        "id": "c6de0e9b",
        "outputId": "2a9e99e8-dad5-46fa-fdd0-2c780d52155c"
      },
      "outputs": [
        {
          "name": "stderr",
          "output_type": "stream",
          "text": [
            "/usr/local/lib/python3.9/dist-packages/sklearn/feature_extraction/text.py:528: UserWarning: The parameter 'token_pattern' will not be used since 'tokenizer' is not None'\n",
            "  warnings.warn(\n",
            "<ipython-input-52-4a42384e9563>:4: MarkupResemblesLocatorWarning: The input looks more like a filename than markup. You may want to open this file and pass the filehandle into Beautiful Soup.\n",
            "  soup = BeautifulSoup(text, \"html.parser\")\n"
          ]
        }
      ],
      "source": [
        "# Step 0: Vectorise text\n",
        "from sklearn.feature_extraction.text import TfidfVectorizer\n",
        "from scipy.spatial.distance import cdist\n",
        "import numpy as np\n",
        "\n",
        "vectorizer = TfidfVectorizer(tokenizer=text_pipeline)\n",
        "X = vectorizer.fit_transform(train_df['words'])\n",
        "V = vectorizer.transform(val_df['words'])"
      ]
    },
    {
      "cell_type": "code",
      "execution_count": null,
      "id": "467c935e",
      "metadata": {
        "colab": {
          "base_uri": "https://localhost:8080/"
        },
        "id": "467c935e",
        "outputId": "ea9787ec-31ef-4851-b7d1-b6ad613151f0"
      },
      "outputs": [
        {
          "data": {
            "text/plain": [
              "(3000, 10276)"
            ]
          },
          "execution_count": 57,
          "metadata": {},
          "output_type": "execute_result"
        }
      ],
      "source": [
        "X.shape"
      ]
    },
    {
      "cell_type": "code",
      "execution_count": null,
      "id": "50643f4c",
      "metadata": {
        "colab": {
          "base_uri": "https://localhost:8080/"
        },
        "id": "50643f4c",
        "outputId": "02e062ff-da81-49a9-dff4-f31b89c399b6"
      },
      "outputs": [
        {
          "data": {
            "text/plain": [
              "array(['\"but', '\"con', '\"i', '\"i\\'ll', '\"mandarin', '\"researcher',\n",
              "       '\"stacey', '\"the', '$'], dtype=object)"
            ]
          },
          "execution_count": 58,
          "metadata": {},
          "output_type": "execute_result"
        }
      ],
      "source": [
        "terms = vectorizer.get_feature_names_out()\n",
        "terms[1:10]"
      ]
    },
    {
      "cell_type": "markdown",
      "id": "c60ac6d8",
      "metadata": {
        "id": "c60ac6d8"
      },
      "source": [
        "KMEANS OWN IMPLEMENTATION"
      ]
    },
    {
      "cell_type": "code",
      "execution_count": null,
      "id": "2050bf8c",
      "metadata": {
        "id": "2050bf8c"
      },
      "outputs": [],
      "source": [
        "# Step 1: Select k random centroids\n",
        "def init_centroids(k):\n",
        "    return X[np.random.choice(X.shape[0], k, replace=False), :].toarray()\n",
        "\n",
        "# Step 2: Assign each vector to its closest centroid\n",
        "def assign_clusters(centroids):\n",
        "    distances = cdist(X.toarray(), centroids)\n",
        "    return np.argmin(distances, axis=1)\n",
        "\n",
        "# Step 3: Recalculate the centroids based on the closest vectors\n",
        "def update_centroids(clusters, k):\n",
        "    new_centroids = []\n",
        "    for i in range(k):\n",
        "        members = X[clusters == i].toarray()\n",
        "        if members.shape[0] == 0:\n",
        "            # No members in this cluster\n",
        "            new_centroids.append(init_centroids(1)[0])\n",
        "        else:\n",
        "            new_centroids.append(members.mean(axis=0))\n",
        "    return np.vstack(new_centroids)\n",
        "\n",
        "# K-means algorithm\n",
        "def kmeans(k, max_iter=500):\n",
        "    centroids = init_centroids(k) \n",
        "#     print(centroids)\n",
        "    for i in range(max_iter):\n",
        "        clusters = assign_clusters(centroids)\n",
        "        new_centroids = update_centroids(clusters, k)\n",
        "        if np.allclose(centroids, new_centroids):\n",
        "            break\n",
        "        centroids = new_centroids\n",
        "    return clusters, centroids"
      ]
    },
    {
      "cell_type": "code",
      "execution_count": null,
      "id": "1ccc97cc",
      "metadata": {
        "id": "1ccc97cc"
      },
      "outputs": [],
      "source": [
        "# Clustering training data with k=5\n",
        "clusters, centroids = kmeans(5)"
      ]
    },
    {
      "cell_type": "code",
      "execution_count": null,
      "id": "e29a7f25",
      "metadata": {
        "colab": {
          "base_uri": "https://localhost:8080/"
        },
        "id": "e29a7f25",
        "outputId": "76d65a25-35bf-44b6-d882-ac8adfb9bb9a"
      },
      "outputs": [
        {
          "name": "stdout",
          "output_type": "stream",
          "text": [
            "Cluster: 1 good great product taste love like buy flavor find\n",
            "Cluster: 2 tea pancake mix gluten waffle free bisquick good great\n",
            "Cluster: 3 dog food cat love newman eat organic feed treat\n",
            "Cluster: 4 coffee cup hot chocolate cocoa k good taste flavor\n",
            "Cluster: 5 chip bag flavor salt potato good love kettle great\n"
          ]
        }
      ],
      "source": [
        "# Print top tokens for each cluster\n",
        "terms = vectorizer.get_feature_names_out()\n",
        "order_centroids = centroids.argsort()[:, ::-1]\n",
        "for i in range(5):\n",
        "    print(f\"Cluster: {i+1}\", end='')\n",
        "    for ind in order_centroids[i, :9]:\n",
        "        print(' %s' % terms[ind], end='')\n",
        "    print()"
      ]
    },
    {
      "cell_type": "code",
      "execution_count": null,
      "id": "ed44ea55",
      "metadata": {
        "colab": {
          "base_uri": "https://localhost:8080/"
        },
        "id": "ed44ea55",
        "outputId": "5fa7b4e0-3b2f-4c7a-990e-aa4bb583cda1"
      },
      "outputs": [
        {
          "name": "stdout",
          "output_type": "stream",
          "text": [
            "Cluster 1 documents:\n",
            "I know these are super trendy right now, and I totally wanted to love this product (or, to be more exact, I wanted my toddler to love this product). He took one taste, handed it back to me, and said, \"Why you gave me baby food, mom?\" I tasted it, and he is right. It tastes just like jarred baby food. Same consistency (not any thicker), too. If your kid likes the packaging, great. If your kid doesn't, then it is just really, really expensive baby food. I'm going to give the rest to my baby, as the toddler is not the least bit interested.\n",
            "I bought these for my husband and he said they are the best energy shots out there. He takes one in the mornings and works hard all day. Good stuff!\n",
            "These things are just too darn cheesy. If you like a lot of flavor, you'll love these. Otherwise, you will overdose on their cheddary goodness.\n",
            "I received a box of this for Christmas. It is really good. Not overly strong like most black licorice. It is indeed soft and it has a very simple ingredient list with NO High Fructose Corn Syrup like most candy:<br />Molasses<br />Wheat Flour<br />Licorice Extract<br />Natural Flavor (Aniseed Oil)\n",
            "The picture shown is for three packages and the price is fair for three but I was only sent one but was charged for three. Also the item sent was not the item shown. I can buy the item shipped all day long at any local grocery store. I went to Amazon because I was looking for the type shown.<br /><br />When I contacted the seller and told them about this they said they would give me partial credit for the item but nothing for shipping. Seeing as how I was shipped something I didn't order I should be entitled to a full refund including shipping. I was not offered that.<br /><br />If I could give this seller negative stars I would. Any future buyers beware.\n",
            "\n",
            "\n",
            "Cluster 2 documents:\n",
            "Best bisquick pancakes I've ever made!  I think these are better than the original Bisquick pancakes.  My husband even loved these!  I would recommend buying this product!\n",
            "This mix makes nice pancakes. They smell rich and vanilla-y, but you don't actually  taste it as strong as it smells. I won't buy them again because there are easier mixes out there that taste pretty darn close. I'm just as happy using a Krusteaz brand mix that only requires the addition of water (no eggs or milk or flour necessary). Heck, if you want that vanilla smell and taste, add an eighth or quarter teaspoon of some extract to your batter.<br /><br />Edited for grammar's sake.\n",
            "Now if you could just make it sugar-free also?  I know, I don't want for much.  :-)<a href=\"http://www.amazon.com/gp/product/B004391DK0\">Bisquick Pancake and Baking Mix, Gluten-Free, 16-Ounce Boxes (Pack of 3)</a>\n",
            "We made this purchase based on our daughter's recommendation and it is as good as she promised. We have a new flip-style waffle iron and this mix provides us with a wonderful breakfast. We add fresh strawberries or blueberries to the top along with syrup and it is scrumdiddlyumptous!\n",
            "Loose prickly pear tea makes a great iced tea but it is very difficult to find in pure form.  This tea is black tea with prickly pear \"flavor\". The shipping cost is twice the cost of the tea.  If there is a prickly pear component it is all but undetectable when I drink it. It just tastes like regular black tea.  Very disappointing.\n",
            "\n",
            "\n",
            "Cluster 3 documents:\n",
            "I feed my two Pugs and occasional rescue Newman's Advanced Dog formula. I like this better than the regular Newman's, because it has less ingredients. I supplement with high quality can food, organic free range chicken, healthy powder and salmon oil. My boys are healthy; their coats are amazing. Highly recommend but with supplements--see above.\n",
            "I subscribe to the 12.5 lb bag of Advanced Dog Formula for Active or Senior Dogs - it's a great value. We have a small border collie mix and she absolutely loves this food. I feed it to her in a <a href=\"http://www.amazon.com/gp/product/B0006G54OU\">Buster Food Cube Large Size (Colors May Vary)</a> and she can't wait for mealtime every day!<br /><br />We got her from the shelter where she was on Science Diet. She had a ton of skin issues (formerly had fleas, patches of bare skin, itchy dry skin, and dandruff flakes). Since we changed over to Newman's, the skin problems have almost gone away. It's been about 2 months and she has her fur growing back in the problem areas, she has less dandruff and I've noticed a lot less scratching from her in general. Our dog trainer said it was most likely due to the change in diet.<br /><br />Her BMs are solid and very regular. They are also not particularly smelly. I have never smelled any gas from her since putting her on the food. These are all signs that she is on a great diet!<br /><br />Also, I love the subscribe feature because I don't have to lug heavy bags of dog food from my car to my 3rd floor apartment!\n",
            "One of my cats is allergic to fish and beef. This formula is one of the few she can eat, and it has much better ingredients than the prescription diets available at the vet. Both of my kitties are very active, have soft shiny fur, and neither are fat. Dry food reduces tartar buildup on teeth, also.\n",
            "I just ordered this, came today and thought I would just try it, well to my amazement,My little Daisy ate it and wanted more.My little Dog is just 8 yrs but has trouble with Flare-ups with her pancreas, I have to avoid fats and corn with her and she needs more fiber. I have been making her dog food ,but she missed eating the dry,I wondered if it was small enough for her to chew , but it was.\n",
            "We purchase this food for our two boxers and great dane. The dane has an allergy to chicken and one of the boxers has a weak stomach, so this food is perfect for them. All three dogs love it (even the picky one) and it seems to agree with their digestive tracts more than any other dog food that we've tried (I can't begin to tell you how pleased I am about THAT). I did a lot of research to find a quality food that isn't full of filler and won't break the bank. I am 100% pleased with this food, more so than any of the other more expensive brands that I've tried.\n",
            "\n",
            "\n",
            "Cluster 4 documents:\n",
            "This is really great Hot chocolate. The price is right too. Usually I find that hot chocolate k-cups are weak or watery but not this one. I was impressed. The dark chocolate is really yummy! I will be ordering more.\n",
            "These were a little disappointing. The hot chocolate is very watery and the flavor is a bit strange...kind of plastic tasting. Haven't been able to find a good brand of hot chocolate for keurig\n",
            "I thought this coffee was really good, but I think the next time I order, I will order something a bit stronger.\n",
            "This coffee was really good.  Been trying to find it in New York, but haven't been able to.  I think it's worth the few extra bucks to get it delivered.  I've ordered twice now and each time the coffee comes fresh and still very aromatic.  Also, I think the caffeine content is pretty high, as I'm more awake on this brand then other brands like starbucks and fairway market brands.\n",
            "I am very pleased with this selection.  I have not tried the other hot cocoa brands for Keurig but this one is awesome!  I bought the milk chocolate.\n",
            "\n",
            "\n",
            "Cluster 5 documents:\n",
            "I HAPPENED UPON THIS ITEM IN MY LOCAL DELI AND BEING CURIOS I DECIDED TO TRY.  THEY WERE FABULOUS BETTER THAN THE REGULAR CHIPS BY FAR.  I GIVES YOU SATISFACTION OF CRUNCH AND FLAVOR IN A POTATOE CHIP.  GREAT GREAT FIND.\n",
            "I love these chips. The flavor is not plain. They are sweet and spicy all at the same time.  The only drawback is it has a tad bit too much salt. But, it still a great flavor!\n",
            "These chips were a great deal.  Kettle was having a special deal for the case of chips.  They are hard to find in Vegas and are my favorite flavor. Shipping was very fast, sooner than expected.\n",
            "My daughter that has autism craves hot, spice and pungent foods.  These are her absolute favorite chips!  She calls them her sour chips and wants them in her lunch all the time.  I love the crispy kettle way they're cooked.\n",
            "I liked most all of these except for the cheddar ones.  These are packed with flavor and are a great alternative to regular potato chips as well as being just 80% just as good.<br /><br />The best way to describe these is that they are like rice cakes except make from potatoes.  I hate rice hates but loved these (just the texture is compared to rice cakes not the flavor)and I will definitely purchase them again in the future.<br /><br />I recommend giving these a chance, they are a great healthy and quick snack.\n",
            "\n",
            "\n"
          ]
        }
      ],
      "source": [
        "# Get document examples for each cluster\n",
        "for i in range(5):\n",
        "    cluster_docs = train_df.iloc[np.where(clusters == i)]\n",
        "    print(f\"Cluster {i+1} documents:\")\n",
        "    for index, row in cluster_docs.head(5).iterrows():\n",
        "        print(row['Text'])\n",
        "    print(\"\\n\")"
      ]
    },
    {
      "cell_type": "code",
      "execution_count": null,
      "id": "8a8ca4d4",
      "metadata": {
        "colab": {
          "base_uri": "https://localhost:8080/",
          "height": 296
        },
        "id": "8a8ca4d4",
        "outputId": "b82c8fd1-0007-48e3-c86f-40da44fe2089"
      },
      "outputs": [
        {
          "data": {
            "text/plain": [
              "<sklearn.metrics._plot.confusion_matrix.ConfusionMatrixDisplay at 0x7f69f1e7b5e0>"
            ]
          },
          "execution_count": 67,
          "metadata": {},
          "output_type": "execute_result"
        },
        {
          "data": {
            "image/png": "[encoded data removed]",
            "text/plain": [
              "<Figure size 432x288 with 2 Axes>"
            ]
          },
          "metadata": {},
          "output_type": "display_data"
        }
      ],
      "source": [
        "from sklearn.metrics import confusion_matrix\n",
        "from sklearn.metrics import ConfusionMatrixDisplay\n",
        "\n",
        "target_labels = train_df['Score']\n",
        "\n",
        "# Assign target labels to each cluster\n",
        "assigned_labels = []\n",
        "for i in range(0,5):\n",
        "    cluster_indices = np.where(clusters == i)[0]\n",
        "    cluster_target_labels = clusters[cluster_indices]\n",
        "    assigned_label = np.bincount(cluster_target_labels).argmax()+1\n",
        "    assigned_labels.append(assigned_label)\n",
        "\n",
        "# Define label descriptions\n",
        "label_names = ['1', '2', '3', '4', '5']\n",
        "\n",
        "# Construct confusion matrix\n",
        "conf_matrix = confusion_matrix(target_labels, [assigned_labels[c] for c in clusters])\n",
        "ConfusionMatrixDisplay(confusion_matrix=conf_matrix, display_labels=label_names).plot()\n"
      ]
    },
    {
      "cell_type": "code",
      "execution_count": 9,
      "id": "KODZn839TTQj",
      "metadata": {
        "id": "KODZn839TTQj"
      },
      "outputs": [],
      "source": [
        "# Redefining Target Labels\n",
        "# Target Label 2: Positive sentiment reviews, Target Label 0: Negative sentiment reviews, Target Label 1: Neutral sentiment reviews\n",
        "train_df['target'] = train_df['Score'].map({1: 0, 2: 0, 3: 1, 4: 2, 5: 2})\n",
        "val_df['target'] = val_df['Score'].map({1: 0, 2: 0, 3: 1, 4: 2, 5: 2})"
      ]
    },
    {
      "cell_type": "markdown",
      "id": "72988db2",
      "metadata": {
        "id": "72988db2"
      },
      "source": [
        "# Q3. Comparing Classifiers"
      ]
    },
    {
      "cell_type": "code",
      "execution_count": 25,
      "id": "5caa5090",
      "metadata": {
        "id": "5caa5090"
      },
      "outputs": [],
      "source": [
        "import pandas as pd\n",
        "from sklearn.model_selection import train_test_split\n",
        "from sklearn.feature_extraction.text import CountVectorizer, TfidfVectorizer\n",
        "from sklearn.dummy import DummyClassifier\n",
        "from sklearn.linear_model import LogisticRegression\n",
        "from sklearn.svm import SVC\n",
        "from sklearn.metrics import accuracy_score, precision_score, recall_score, f1_score\n",
        "import string\n",
        "\n",
        "# # create feature matrix and target vector\n",
        "vectorizer = TfidfVectorizer(tokenizer=text_pipeline)\n",
        "X_train_tfidf = X\n",
        "X_val_tfidf = V\n",
        "\n",
        "cvectorizer = CountVectorizer()\n",
        "X_train_count = cvectorizer.fit_transform(train_df['words'])\n",
        "X_val_count = cvectorizer.transform(val_df['words'])\n",
        "\n",
        "y_train = train_df[\"target\"]\n",
        "y_val = val_df[\"target\"]"
      ]
    },
    {
      "cell_type": "code",
      "execution_count": 22,
      "id": "3f3b17f7",
      "metadata": {
        "id": "3f3b17f7"
      },
      "outputs": [],
      "source": [
        "# evaluate performance\n",
        "def evaluate_model(y_true, y_pred):\n",
        "    accuracy = accuracy_score(y_true, y_pred)\n",
        "    precision = precision_score(y_true, y_pred, average='macro', zero_division=1)\n",
        "    recall = recall_score(y_true, y_pred, average='macro')\n",
        "    f1 = f1_score(y_true, y_pred, average='macro')\n",
        "    return accuracy, precision, recall, f1"
      ]
    },
    {
      "cell_type": "code",
      "execution_count": null,
      "id": "6ef80ef4",
      "metadata": {
        "id": "6ef80ef4"
      },
      "outputs": [],
      "source": [
        "# 1. Dummy Classifier with strategy=\"most_frequent\"\n",
        "dummy_most_frequent = DummyClassifier(strategy=\"most_frequent\")\n",
        "dummy_most_frequent.fit(X_train_count, y_train)\n",
        "y_pred_dummy_most_frequent = dummy_most_frequent.predict(X_val_count)\n",
        "\n",
        "# 2. Dummy Classifier with strategy=\"stratified\"\n",
        "dummy_stratified = DummyClassifier(strategy=\"stratified\")\n",
        "dummy_stratified.fit(X_train_count, y_train)\n",
        "y_pred_dummy_stratified = dummy_stratified.predict(X_val_count)\n",
        "\n",
        "# 3. LogisticRegression with One-hot vectorization\n",
        "lr_count = LogisticRegression(max_iter=10000)\n",
        "lr_count.fit(X_train_count, y_train)\n",
        "y_pred_lr_count = lr_count.predict(X_val_count)\n",
        "\n",
        "# 4. LogisticRegression with TF-IDF vectorization\n",
        "lr_tfidf = LogisticRegression(max_iter=10000)\n",
        "lr_tfidf.fit(X_train_tfidf, y_train)\n",
        "y_pred_lr_tfidf = lr_tfidf.predict(X_val_tfidf)\n",
        "\n",
        "# 5. SVC Classifier with One-hot vectorization\n",
        "svc_count = SVC()\n",
        "svc_count.fit(X_train_count, y_train)\n",
        "y_pred_svc_count = svc_count.predict(X_val_count)"
      ]
    },
    {
      "cell_type": "code",
      "execution_count": null,
      "id": "278aedc9",
      "metadata": {
        "id": "278aedc9"
      },
      "outputs": [],
      "source": [
        "# Random Forest Classifier with TF-IDF vectorization:\n",
        "from sklearn.ensemble import RandomForestClassifier\n",
        "rf_tfidf = RandomForestClassifier()\n",
        "rf_tfidf.fit(X_train_tfidf, y_train)\n",
        "y_pred_rf_tfidf_train = rf_tfidf.predict(X_train_tfidf)\n",
        "y_pred_rf_tfidf_val = rf_tfidf.predict(X_val_tfidf)"
      ]
    },
    {
      "cell_type": "code",
      "execution_count": null,
      "id": "6d46e3f9",
      "metadata": {
        "colab": {
          "base_uri": "https://localhost:8080/"
        },
        "id": "6d46e3f9",
        "outputId": "f8ff64b8-d016-4881-e36a-55d2361ab6a2"
      },
      "outputs": [
        {
          "name": "stdout",
          "output_type": "stream",
          "text": [
            "Training Set Performance\n",
            "========================\n",
            "      Classifier  Accuracy  Precision    Recall        F1\n",
            "0  Most Frequent  0.771000   0.923667  0.333333  0.290232\n",
            "1     Stratified  0.618667   0.334435  0.334521  0.334449\n",
            "2       LR Count  1.000000   1.000000  1.000000  1.000000\n",
            "3      LR TF-IDF  0.871333   0.933664  0.575444  0.627235\n",
            "4      SVC Count  0.856333   0.937609  0.553271  0.623992\n",
            "5      RF TF-IDF  1.000000   1.000000  1.000000  1.000000\n",
            "\n",
            "Validation Set Performance\n",
            "==========================\n",
            "               Accuracy  Precision  Recall     F1\n",
            "Classifier                                       \n",
            "Most Frequent     0.758      0.919   0.333  0.287\n",
            "Stratified        0.620      0.336   0.336  0.336\n",
            "LR Count          0.817      0.613   0.558  0.578\n",
            "LR TF-IDF         0.804      0.735   0.448  0.464\n",
            "SVC Count         0.775      0.891   0.372  0.359\n",
            "RF TF-IDF         0.790      0.719   0.408  0.415\n"
          ]
        }
      ],
      "source": [
        "# Evaluate models on training set\n",
        "models = {\n",
        "    \"Most Frequent\": dummy_most_frequent,\n",
        "    \"Stratified\": dummy_stratified,\n",
        "    \"LR Count\": lr_count,\n",
        "    \"LR TF-IDF\": lr_tfidf,\n",
        "    \"SVC Count\": svc_count,\n",
        "    \"RF TF-IDF\": rf_tfidf,\n",
        "}\n",
        "\n",
        "train_scores = []\n",
        "for name, model in models.items():\n",
        "    if name == \"LR Count\":\n",
        "        X_tr = X_train_count\n",
        "    elif name == \"LR TF-IDF\" or name==\"RF TF-IDF\":\n",
        "        X_tr = X_train_tfidf\n",
        "    else:\n",
        "        X_tr = X_train_count\n",
        "    y_pred_train = model.predict(X_tr)\n",
        "    scores_train = evaluate_model(y_train, y_pred_train)\n",
        "    train_scores.append([name] + list(scores_train))\n",
        "\n",
        "# Evaluate models on validation set\n",
        "val_scores = []\n",
        "for name, model in models.items():\n",
        "    if name == \"LR Count\":\n",
        "        X_val = X_val_count\n",
        "    elif name == \"LR TF-IDF\"  or name==\"RF TF-IDF\":\n",
        "        X_val = X_val_tfidf\n",
        "    else:\n",
        "        X_val = X_val_count\n",
        "    y_pred_val = model.predict(X_val)\n",
        "    scores_val = evaluate_model(y_val, y_pred_val)\n",
        "    val_scores.append([name] + list(scores_val))\n",
        "\n",
        "# Print evaluation metrics\n",
        "print(\"Training Set Performance\")\n",
        "print(\"========================\")\n",
        "print(pd.DataFrame(train_scores, columns=[\"Classifier\", \"Accuracy\", \"Precision\", \"Recall\", \"F1\"]))\n",
        "\n",
        "print(\"\\nValidation Set Performance\")\n",
        "print(\"==========================\")\n",
        "df_val_scores = pd.DataFrame(val_scores, columns=[\"Classifier\", \"Accuracy\", \"Precision\", \"Recall\", \"F1\"])\n",
        "df_val_scores.set_index(\"Classifier\", inplace=True)\n",
        "df_val_scores = df_val_scores.round(3)\n",
        "print(df_val_scores)\n",
        "\n"
      ]
    },
    {
      "cell_type": "code",
      "execution_count": null,
      "id": "2ca5acb4",
      "metadata": {
        "colab": {
          "base_uri": "https://localhost:8080/",
          "height": 298
        },
        "id": "2ca5acb4",
        "outputId": "c521ee73-7614-4462-d129-406794c17f66"
      },
      "outputs": [
        {
          "data": {
            "text/plain": [
              "<Axes: title={'center': 'Performance of LR Count on Validation Set'}>"
            ]
          },
          "execution_count": 74,
          "metadata": {},
          "output_type": "execute_result"
        },
        {
          "data": {
            "image/png": "[encoded data removed]",
            "text/plain": [
              "<Figure size 432x288 with 1 Axes>"
            ]
          },
          "metadata": {},
          "output_type": "display_data"
        }
      ],
      "source": [
        "# Plot scores for best performing classifier\n",
        "best_classifier = df_val_scores[\"F1\"].idxmax()\n",
        "f1_scores = df_val_scores.loc[best_classifier, [\"Precision\", \"Recall\", \"F1\"]]\n",
        "f1_scores.index = [\"Precision\", \"Recall\", \"F1\"]\n",
        "f1_scores.plot(kind=\"bar\", ylim=[0, 1], rot=0, title=f\"Performance of {best_classifier} on Validation Set\")"
      ]
    },
    {
      "cell_type": "code",
      "execution_count": null,
      "id": "ZHBHkxVJUFUd",
      "metadata": {
        "colab": {
          "base_uri": "https://localhost:8080/",
          "height": 295
        },
        "id": "ZHBHkxVJUFUd",
        "outputId": "92d76281-a660-45c5-abc1-877bef5433c7"
      },
      "outputs": [
        {
          "data": {
            "image/png": "[encoded data removed]",
            "text/plain": [
              "<Figure size 432x288 with 1 Axes>"
            ]
          },
          "metadata": {},
          "output_type": "display_data"
        }
      ],
      "source": [
        "# F1 scores for each class in LogisticRegression with One-hot vectorization\n",
        "from sklearn.metrics import classification_report\n",
        "\n",
        "lr_count = LogisticRegression(max_iter=10000)\n",
        "lr_count.fit(X_train_count, y_train)\n",
        "y_pred_lr_count = lr_count.predict(X_val_count)\n",
        "\n",
        "# Get F1 score for each class\n",
        "report = classification_report(y_val, y_pred_lr_count, output_dict=True)\n",
        "f1_scores = [report[str(label)]['f1-score'] for label in sorted(set(y_val))]\n",
        "\n",
        "labels = sorted(set(y_val))\n",
        "plt.bar(labels, f1_scores)\n",
        "plt.xlabel('Class')\n",
        "plt.ylabel('F1 score')\n",
        "plt.title('F1 score for each class (LogisticRegression with One-hot vectorization)')\n",
        "plt.show()"
      ]
    },
    {
      "cell_type": "markdown",
      "id": "ee0980d1",
      "metadata": {
        "id": "ee0980d1"
      },
      "source": [
        "# Q4. Parameter Tuning"
      ]
    },
    {
      "cell_type": "code",
      "execution_count": null,
      "id": "27655d00",
      "metadata": {
        "colab": {
          "base_uri": "https://localhost:8080/"
        },
        "id": "27655d00",
        "outputId": "655c1418-b433-4f74-e29d-f8d3da91a334"
      },
      "outputs": [
        {
          "name": "stderr",
          "output_type": "stream",
          "text": [
            "/usr/local/lib/python3.9/dist-packages/sklearn/feature_extraction/text.py:528: UserWarning: The parameter 'token_pattern' will not be used since 'tokenizer' is not None'\n",
            "  warnings.warn(\n"
          ]
        },
        {
          "name": "stdout",
          "output_type": "stream",
          "text": [
            "\n",
            "Evaluating params={'C': 1}\n",
            "Accuracy 0.803\n",
            "Precision 0.844344602008289\n",
            "Recall 0.4460559229688517\n",
            "F1 0.4610709385359108\n"
          ]
        },
        {
          "name": "stderr",
          "output_type": "stream",
          "text": [
            "/usr/local/lib/python3.9/dist-packages/sklearn/feature_extraction/text.py:528: UserWarning: The parameter 'token_pattern' will not be used since 'tokenizer' is not None'\n",
            "  warnings.warn(\n"
          ]
        },
        {
          "name": "stdout",
          "output_type": "stream",
          "text": [
            "\n",
            "Evaluating params={'C': 10}\n",
            "Accuracy 0.815\n",
            "Precision 0.6016944221190935\n",
            "Recall 0.5129170521650733\n",
            "F1 0.5306108337868198\n"
          ]
        },
        {
          "name": "stderr",
          "output_type": "stream",
          "text": [
            "/usr/local/lib/python3.9/dist-packages/sklearn/feature_extraction/text.py:528: UserWarning: The parameter 'token_pattern' will not be used since 'tokenizer' is not None'\n",
            "  warnings.warn(\n"
          ]
        },
        {
          "name": "stdout",
          "output_type": "stream",
          "text": [
            "\n",
            "Evaluating params={'C': 0.01}\n",
            "Accuracy 0.758\n",
            "Precision 0.9193333333333333\n",
            "Recall 0.3333333333333333\n",
            "F1 0.28744785741372775\n"
          ]
        },
        {
          "name": "stderr",
          "output_type": "stream",
          "text": [
            "/usr/local/lib/python3.9/dist-packages/sklearn/feature_extraction/text.py:528: UserWarning: The parameter 'token_pattern' will not be used since 'tokenizer' is not None'\n",
            "  warnings.warn(\n"
          ]
        },
        {
          "name": "stdout",
          "output_type": "stream",
          "text": [
            "\n",
            "Evaluating params={'C': 10000}\n",
            "Accuracy 0.803\n",
            "Precision 0.5644819277108434\n",
            "Recall 0.5195105026899222\n",
            "F1 0.534050122643264\n"
          ]
        },
        {
          "name": "stderr",
          "output_type": "stream",
          "text": [
            "/usr/local/lib/python3.9/dist-packages/sklearn/feature_extraction/text.py:528: UserWarning: The parameter 'token_pattern' will not be used since 'tokenizer' is not None'\n",
            "  warnings.warn(\n"
          ]
        },
        {
          "name": "stdout",
          "output_type": "stream",
          "text": [
            "\n",
            "Evaluating params={'C': 100}\n",
            "Accuracy 0.805\n",
            "Precision 0.5667180619799698\n",
            "Recall 0.5118676398359776\n",
            "F1 0.5276595508438574\n"
          ]
        },
        {
          "name": "stderr",
          "output_type": "stream",
          "text": [
            "/usr/local/lib/python3.9/dist-packages/sklearn/feature_extraction/text.py:528: UserWarning: The parameter 'token_pattern' will not be used since 'tokenizer' is not None'\n",
            "  warnings.warn(\n"
          ]
        },
        {
          "name": "stdout",
          "output_type": "stream",
          "text": [
            "\n",
            "Evaluating params={'C': 1000}\n",
            "Accuracy 0.804\n",
            "Precision 0.567406383938642\n",
            "Recall 0.519950256427829\n",
            "F1 0.5351126303074178\n",
            "Best params: {'C': 1000}\n",
            "Best score: 0.535\n"
          ]
        }
      ],
      "source": [
        "from sklearn.feature_extraction.text import TfidfVectorizer\n",
        "from sklearn.linear_model import LogisticRegression\n",
        "from sklearn.metrics import accuracy_score, precision_score, recall_score, f1_score\n",
        "from sklearn.model_selection import ParameterGrid\n",
        "\n",
        "# Define the parameter grid for tuning\n",
        "param_grid = {\n",
        "    'C': [1, 10, 0.01, 10000, 100, 1000],\n",
        "}\n",
        "\n",
        "# Initialize the best parameters and score\n",
        "best_params, best_score = None, 0\n",
        "\n",
        "# Iterate over all combinations of parameters in the grid\n",
        "for params in ParameterGrid(param_grid):\n",
        "    # Initialize the vectorizer and fit it on the training data\n",
        "    vectorizer = TfidfVectorizer(tokenizer=text_pipeline_spacy \n",
        "                                #  ,sublinear_tf=params['sublinear_tf'],\n",
        "                                #  max_features=params['max_features']\n",
        "                                 )\n",
        "    train_X = vectorizer.fit_transform(train_df['words'])\n",
        "    X_val = vectorizer.transform(val_df['words'])\n",
        "\n",
        "    # Initialize the classifier and fit it on the training data\n",
        "    clf = LogisticRegression(random_state=42, C=params['C'],max_iter=10000)\n",
        "    clf.fit(train_X, y_train)\n",
        "\n",
        "    # Predict labels on the validation set and compute metrics\n",
        "    y_pred = clf.predict(X_val)\n",
        "    scores_val = evaluate_model(y_val, y_pred)\n",
        "    f1=scores_val[3]\n",
        "    print()\n",
        "    print(f\"Evaluating {params=}\")\n",
        "    print(\"Accuracy\", scores_val[0])\n",
        "    print(\"Precision\", scores_val[1])\n",
        "    print(\"Recall\", scores_val[2])\n",
        "    print(\"F1\", scores_val[3])\n",
        "    # Update the best parameters and score if current parameters perform better\n",
        "    if f1 > best_score:\n",
        "        best_params = params\n",
        "        best_score = f1\n",
        "\n",
        "# Print the best parameters and score\n",
        "print(f\"Best params: {best_params}\")\n",
        "print(f\"Best score: {best_score:.3f}\")\n"
      ]
    },
    {
      "cell_type": "code",
      "execution_count": null,
      "id": "6h5FdMKNh8cS",
      "metadata": {
        "colab": {
          "base_uri": "https://localhost:8080/"
        },
        "id": "6h5FdMKNh8cS",
        "outputId": "2d3a9e36-df57-497e-f006-16b6ab02b2c0"
      },
      "outputs": [
        {
          "name": "stderr",
          "output_type": "stream",
          "text": [
            "/usr/local/lib/python3.9/dist-packages/sklearn/feature_extraction/text.py:528: UserWarning: The parameter 'token_pattern' will not be used since 'tokenizer' is not None'\n",
            "  warnings.warn(\n"
          ]
        },
        {
          "name": "stdout",
          "output_type": "stream",
          "text": [
            "\n",
            "Evaluating params={'C': 1000, 'max_features': None}\n",
            "Accuracy 0.804\n",
            "Precision 0.567406383938642\n",
            "Recall 0.519950256427829\n",
            "F1 0.5351126303074178\n"
          ]
        },
        {
          "name": "stderr",
          "output_type": "stream",
          "text": [
            "/usr/local/lib/python3.9/dist-packages/sklearn/feature_extraction/text.py:528: UserWarning: The parameter 'token_pattern' will not be used since 'tokenizer' is not None'\n",
            "  warnings.warn(\n"
          ]
        },
        {
          "name": "stdout",
          "output_type": "stream",
          "text": [
            "\n",
            "Evaluating params={'C': 1000, 'max_features': 5000}\n",
            "Accuracy 0.802\n",
            "Precision 0.5554501158349833\n",
            "Recall 0.5157226239020435\n",
            "F1 0.5281869682706554\n"
          ]
        },
        {
          "name": "stderr",
          "output_type": "stream",
          "text": [
            "/usr/local/lib/python3.9/dist-packages/sklearn/feature_extraction/text.py:528: UserWarning: The parameter 'token_pattern' will not be used since 'tokenizer' is not None'\n",
            "  warnings.warn(\n"
          ]
        },
        {
          "name": "stdout",
          "output_type": "stream",
          "text": [
            "\n",
            "Evaluating params={'C': 1000, 'max_features': 10000}\n",
            "Accuracy 0.802\n",
            "Precision 0.5666051018873599\n",
            "Recall 0.5190707489520154\n",
            "F1 0.5342740558839377\n"
          ]
        },
        {
          "name": "stderr",
          "output_type": "stream",
          "text": [
            "/usr/local/lib/python3.9/dist-packages/sklearn/feature_extraction/text.py:528: UserWarning: The parameter 'token_pattern' will not be used since 'tokenizer' is not None'\n",
            "  warnings.warn(\n"
          ]
        },
        {
          "name": "stdout",
          "output_type": "stream",
          "text": [
            "\n",
            "Evaluating params={'C': 1000, 'max_features': 20000}\n",
            "Accuracy 0.804\n",
            "Precision 0.567406383938642\n",
            "Recall 0.519950256427829\n",
            "F1 0.5351126303074178\n"
          ]
        },
        {
          "name": "stderr",
          "output_type": "stream",
          "text": [
            "/usr/local/lib/python3.9/dist-packages/sklearn/feature_extraction/text.py:528: UserWarning: The parameter 'token_pattern' will not be used since 'tokenizer' is not None'\n",
            "  warnings.warn(\n"
          ]
        },
        {
          "name": "stdout",
          "output_type": "stream",
          "text": [
            "\n",
            "Evaluating params={'C': 1000, 'max_features': 50000}\n",
            "Accuracy 0.804\n",
            "Precision 0.567406383938642\n",
            "Recall 0.519950256427829\n",
            "F1 0.5351126303074178\n",
            "Best params: {'C': 1000, 'max_features': None}\n",
            "Best score: 0.535\n"
          ]
        }
      ],
      "source": [
        "# Define the parameter grid for tuning\n",
        "param_grid = {\n",
        "    'C': [best_params['C']],\n",
        "    'max_features': [None, 5000, 10000, 20000, 50000],\n",
        "}\n",
        "\n",
        "# Initialize the best parameters and score\n",
        "best_params, best_score = None, 0\n",
        "\n",
        "# Iterate over all combinations of parameters in the grid\n",
        "for params in ParameterGrid(param_grid):\n",
        "    # Initialize the vectorizer and fit it on the training data\n",
        "    vectorizer = TfidfVectorizer(tokenizer=text_pipeline_spacy, \n",
        "                                #  ,sublinear_tf=params['sublinear_tf'],\n",
        "                                 max_features=params['max_features']\n",
        "                                 )\n",
        "    train_X = vectorizer.fit_transform(train_df['words'])\n",
        "    X_val = vectorizer.transform(val_df['words'])\n",
        "\n",
        "    # Initialize the classifier and fit it on the training data\n",
        "    clf = LogisticRegression(random_state=42, C=params['C'],max_iter=10000)\n",
        "    clf.fit(train_X, y_train)\n",
        "\n",
        "    # Predict labels on the validation set and compute metrics\n",
        "    y_pred = clf.predict(X_val)\n",
        "    scores_val = evaluate_model(y_val, y_pred)\n",
        "    f1=scores_val[3]\n",
        "    print()\n",
        "    print(f\"Evaluating {params=}\")\n",
        "    print(\"Accuracy\", scores_val[0])\n",
        "    print(\"Precision\", scores_val[1])\n",
        "    print(\"Recall\", scores_val[2])\n",
        "    print(\"F1\", scores_val[3])\n",
        "    # Update the best parameters and score if current parameters perform better\n",
        "    if f1 > best_score:\n",
        "        best_params = params\n",
        "        best_score = f1\n",
        "\n",
        "# Print the best parameters and score\n",
        "print(f\"Best params: {best_params}\")\n",
        "print(f\"Best score: {best_score:.3f}\")\n"
      ]
    },
    {
      "cell_type": "code",
      "execution_count": null,
      "id": "0tqaYkAvey7b",
      "metadata": {
        "colab": {
          "base_uri": "https://localhost:8080/"
        },
        "id": "0tqaYkAvey7b",
        "outputId": "011c5d2e-163e-4028-b638-9afc5f94d26e"
      },
      "outputs": [
        {
          "name": "stderr",
          "output_type": "stream",
          "text": [
            "/usr/local/lib/python3.9/dist-packages/sklearn/feature_extraction/text.py:528: UserWarning: The parameter 'token_pattern' will not be used since 'tokenizer' is not None'\n",
            "  warnings.warn(\n"
          ]
        },
        {
          "name": "stdout",
          "output_type": "stream",
          "text": [
            "\n",
            "Evaluating params={'C': 1000, 'max_features': None, 'sublinear_tf': True}\n",
            "Accuracy 0.809\n",
            "Precision 0.5623602415026834\n",
            "Recall 0.5223517687238004\n",
            "F1 0.5337370581194185\n"
          ]
        },
        {
          "name": "stderr",
          "output_type": "stream",
          "text": [
            "/usr/local/lib/python3.9/dist-packages/sklearn/feature_extraction/text.py:528: UserWarning: The parameter 'token_pattern' will not be used since 'tokenizer' is not None'\n",
            "  warnings.warn(\n"
          ]
        },
        {
          "name": "stdout",
          "output_type": "stream",
          "text": [
            "\n",
            "Evaluating params={'C': 1000, 'max_features': None, 'sublinear_tf': False}\n",
            "Accuracy 0.804\n",
            "Precision 0.567406383938642\n",
            "Recall 0.519950256427829\n",
            "F1 0.5351126303074178\n",
            "Best params: {'C': 1000, 'max_features': None, 'sublinear_tf': False}\n",
            "Best score: 0.535\n"
          ]
        }
      ],
      "source": [
        "# Define the parameter grid for tuning\n",
        "param_grid = {\n",
        "    'C':[best_params['C']],\n",
        "    'sublinear_tf': [True, False],\n",
        "    'max_features': [best_params['max_features']],\n",
        "}\n",
        "\n",
        "# Initialize the best parameters and score\n",
        "best_params, best_score = None, 0\n",
        "\n",
        "# Iterate over all combinations of parameters in the grid\n",
        "for params in ParameterGrid(param_grid):\n",
        "    # Initialize the vectorizer and fit it on the training data\n",
        "    vectorizer = TfidfVectorizer(tokenizer=text_pipeline_spacy ,sublinear_tf=params['sublinear_tf'],max_features=params['max_features'])\n",
        "    train_X = vectorizer.fit_transform(train_df['words'])\n",
        "    X_val = vectorizer.transform(val_df['words'])\n",
        "\n",
        "    # Initialize the classifier and fit it on the training data\n",
        "    clf = LogisticRegression(random_state=42, C=params['C'],max_iter=10000)\n",
        "    clf.fit(train_X, y_train)\n",
        "\n",
        "    # Predict labels on the validation set and compute metrics\n",
        "    y_pred = clf.predict(X_val)\n",
        "    scores_val = evaluate_model(y_val, y_pred)\n",
        "    f1=scores_val[3]\n",
        "    print()\n",
        "    print(f\"Evaluating {params=}\")\n",
        "    print(\"Accuracy\", scores_val[0])\n",
        "    print(\"Precision\", scores_val[1])\n",
        "    print(\"Recall\", scores_val[2])\n",
        "    print(\"F1\", scores_val[3])\n",
        "    # Update the best parameters and score if current parameters perform better\n",
        "    if f1 > best_score:\n",
        "        best_params = params\n",
        "        best_score = f1\n",
        "\n",
        "# Print the best parameters and score\n",
        "print(f\"Best params: {best_params}\")\n",
        "print(f\"Best score: {best_score:.3f}\")\n"
      ]
    },
    {
      "cell_type": "code",
      "execution_count": null,
      "id": "lxRu2DM9ZywR",
      "metadata": {
        "colab": {
          "base_uri": "https://localhost:8080/"
        },
        "id": "lxRu2DM9ZywR",
        "outputId": "c3cc1a24-c2f1-426f-cd9f-004e4fd11bc3"
      },
      "outputs": [
        {
          "name": "stderr",
          "output_type": "stream",
          "text": [
            "/usr/local/lib/python3.9/dist-packages/sklearn/feature_extraction/text.py:528: UserWarning: The parameter 'token_pattern' will not be used since 'tokenizer' is not None'\n",
            "  warnings.warn(\n"
          ]
        },
        {
          "name": "stdout",
          "output_type": "stream",
          "text": [
            "\n",
            "Evaluating params={'C': 1000, 'max_features': None, 'solver': 'lbfgs', 'sublinear_tf': False}\n",
            "Accuracy 0.804\n",
            "Precision 0.567406383938642\n",
            "Recall 0.519950256427829\n",
            "F1 0.5351126303074178\n"
          ]
        },
        {
          "name": "stderr",
          "output_type": "stream",
          "text": [
            "/usr/local/lib/python3.9/dist-packages/sklearn/feature_extraction/text.py:528: UserWarning: The parameter 'token_pattern' will not be used since 'tokenizer' is not None'\n",
            "  warnings.warn(\n"
          ]
        },
        {
          "name": "stdout",
          "output_type": "stream",
          "text": [
            "\n",
            "Evaluating params={'C': 1000, 'max_features': None, 'solver': 'liblinear', 'sublinear_tf': False}\n",
            "Accuracy 0.806\n",
            "Precision 0.5639957880171038\n",
            "Recall 0.5192063872802659\n",
            "F1 0.5326788582602536\n"
          ]
        },
        {
          "name": "stderr",
          "output_type": "stream",
          "text": [
            "/usr/local/lib/python3.9/dist-packages/sklearn/feature_extraction/text.py:528: UserWarning: The parameter 'token_pattern' will not be used since 'tokenizer' is not None'\n",
            "  warnings.warn(\n"
          ]
        },
        {
          "name": "stdout",
          "output_type": "stream",
          "text": [
            "\n",
            "Evaluating params={'C': 1000, 'max_features': None, 'solver': 'newton-cg', 'sublinear_tf': False}\n",
            "Accuracy 0.804\n",
            "Precision 0.567406383938642\n",
            "Recall 0.519950256427829\n",
            "F1 0.5351126303074178\n"
          ]
        },
        {
          "name": "stderr",
          "output_type": "stream",
          "text": [
            "/usr/local/lib/python3.9/dist-packages/sklearn/feature_extraction/text.py:528: UserWarning: The parameter 'token_pattern' will not be used since 'tokenizer' is not None'\n",
            "  warnings.warn(\n"
          ]
        },
        {
          "name": "stdout",
          "output_type": "stream",
          "text": [
            "\n",
            "Evaluating params={'C': 1000, 'max_features': None, 'solver': 'sag', 'sublinear_tf': False}\n",
            "Accuracy 0.806\n",
            "Precision 0.5707645864874921\n",
            "Recall 0.5208297639036426\n",
            "F1 0.5362723041512673\n"
          ]
        },
        {
          "name": "stderr",
          "output_type": "stream",
          "text": [
            "/usr/local/lib/python3.9/dist-packages/sklearn/feature_extraction/text.py:528: UserWarning: The parameter 'token_pattern' will not be used since 'tokenizer' is not None'\n",
            "  warnings.warn(\n"
          ]
        },
        {
          "name": "stdout",
          "output_type": "stream",
          "text": [
            "\n",
            "Evaluating params={'C': 1000, 'max_features': None, 'solver': 'saga', 'sublinear_tf': False}\n",
            "Accuracy 0.804\n",
            "Precision 0.555954790823212\n",
            "Recall 0.5167035031810757\n",
            "F1 0.5273875257133296\n",
            "Best params: {'C': 1000, 'max_features': None, 'solver': 'sag', 'sublinear_tf': False}\n",
            "Best score: 0.536\n"
          ]
        }
      ],
      "source": [
        "# Define the parameter grid for tuning\n",
        "param_grid = {\n",
        "    'C': [best_params['C']],\n",
        "    'sublinear_tf': [best_params['sublinear_tf']],\n",
        "    'max_features': [best_params['max_features']],\n",
        "    'solver':['lbfgs','liblinear','newton-cg','sag','saga']\n",
        "\n",
        "}\n",
        "\n",
        "\n",
        "# Initialize the best parameters and score\n",
        "best_params, best_score = None, 0\n",
        "\n",
        "# Iterate over all combinations of parameters in the grid\n",
        "for params in ParameterGrid(param_grid):\n",
        "    # Initialize the vectorizer and fit it on the training data\n",
        "    vectorizer = TfidfVectorizer(tokenizer=text_pipeline_spacy ,sublinear_tf=params['sublinear_tf'],max_features=params['max_features'])\n",
        "    train_X = vectorizer.fit_transform(train_df['words'])\n",
        "    X_val = vectorizer.transform(val_df['words'])\n",
        "\n",
        "    # Initialize the classifier and fit it on the training data\n",
        "    clf = LogisticRegression(random_state=42, C=params['C'],solver=params['solver'],max_iter=10000)\n",
        "    clf.fit(train_X, y_train)\n",
        "\n",
        "    # Predict labels on the validation set and compute metrics\n",
        "    y_pred = clf.predict(X_val)\n",
        "    scores_val = evaluate_model(y_val, y_pred)\n",
        "    f1=scores_val[3]\n",
        "    print()\n",
        "    print(f\"Evaluating {params=}\")\n",
        "    print(\"Accuracy\", scores_val[0])\n",
        "    print(\"Precision\", scores_val[1])\n",
        "    print(\"Recall\", scores_val[2])\n",
        "    print(\"F1\", scores_val[3])\n",
        "    # Update the best parameters and score if current parameters perform better\n",
        "    if f1 > best_score:\n",
        "        best_params = params\n",
        "        best_score = f1\n",
        "\n",
        "# Print the best parameters and score\n",
        "print(f\"Best params: {best_params}\")\n",
        "print(f\"Best score: {best_score:.3f}\")\n"
      ]
    },
    {
      "cell_type": "code",
      "execution_count": null,
      "id": "jCjqS1RbkDbH",
      "metadata": {
        "colab": {
          "base_uri": "https://localhost:8080/"
        },
        "id": "jCjqS1RbkDbH",
        "outputId": "58c8e903-3f46-49a1-e583-b86f57c4c329"
      },
      "outputs": [
        {
          "name": "stderr",
          "output_type": "stream",
          "text": [
            "/usr/local/lib/python3.9/dist-packages/sklearn/feature_extraction/text.py:528: UserWarning: The parameter 'token_pattern' will not be used since 'tokenizer' is not None'\n",
            "  warnings.warn(\n"
          ]
        },
        {
          "name": "stdout",
          "output_type": "stream",
          "text": [
            "Optimised Metrics:\n",
            "Accuracy 0.806\n",
            "Precision 0.5707645864874921\n",
            "Recall 0.5208297639036426\n",
            "F1 0.5362723041512673\n"
          ]
        }
      ],
      "source": [
        "# Using the best parameters obtained\n",
        "vectorizer = TfidfVectorizer(tokenizer=text_pipeline_spacy ,sublinear_tf=best_params['sublinear_tf'], max_features=best_params['max_features'])\n",
        "train_X = vectorizer.fit_transform(train_df['words'])\n",
        "X_val = vectorizer.transform(val_df['words'])\n",
        "\n",
        "# Initialize the classifier and fit it on the training data\n",
        "clf = LogisticRegression(random_state=42, C=best_params['C'], solver=best_params['solver'],max_iter=10000)\n",
        "clf.fit(train_X, y_train)\n",
        "\n",
        "# Predict labels on the validation set and compute metrics\n",
        "y_pred = clf.predict(X_val)\n",
        "scores_val = evaluate_model(y_val, y_pred)\n",
        "print(\"Optimised Metrics:\")\n",
        "print(\"Accuracy\", scores_val[0])\n",
        "print(\"Precision\", scores_val[1])\n",
        "print(\"Recall\", scores_val[2])\n",
        "print(\"F1\", scores_val[3])"
      ]
    },
    {
      "cell_type": "markdown",
      "id": "e6533a61",
      "metadata": {
        "id": "e6533a61"
      },
      "source": [
        "# Q5. Context vectors using BERT"
      ]
    },
    {
      "cell_type": "code",
      "execution_count": 10,
      "id": "aa927af8",
      "metadata": {
        "colab": {
          "base_uri": "https://localhost:8080/"
        },
        "id": "aa927af8",
        "outputId": "a19f4e88-74c5-4163-bed6-365ca1cb1ae1"
      },
      "outputs": [
        {
          "name": "stdout",
          "output_type": "stream",
          "text": [
            "Looking in indexes: https://pypi.org/simple, https://us-python.pkg.dev/colab-wheels/public/simple/\n",
            "Collecting transformers\n",
            "  Downloading transformers-4.27.1-py3-none-any.whl (6.7 MB)\n",
            "\u001b[2K     \u001b[90m━━━━━━━━━━━━━━━━━━━━━━━━━━━━━━━━━━━━━━━━\u001b[0m \u001b[32m6.7/6.7 MB\u001b[0m \u001b[31m75.1 MB/s\u001b[0m eta \u001b[36m0:00:00\u001b[0m\n",
            "\u001b[?25hCollecting datasets\n",
            "  Downloading datasets-2.10.1-py3-none-any.whl (469 kB)\n",
            "\u001b[2K     \u001b[90m━━━━━━━━━━━━━━━━━━━━━━━━━━━━━━━━━━━━━━\u001b[0m \u001b[32m469.0/469.0 KB\u001b[0m \u001b[31m46.7 MB/s\u001b[0m eta \u001b[36m0:00:00\u001b[0m\n",
            "\u001b[?25hRequirement already satisfied: regex!=2019.12.17 in /usr/local/lib/python3.9/dist-packages (from transformers) (2022.10.31)\n",
            "Collecting huggingface-hub<1.0,>=0.11.0\n",
            "  Downloading huggingface_hub-0.13.2-py3-none-any.whl (199 kB)\n",
            "\u001b[2K     \u001b[90m━━━━━━━━━━━━━━━━━━━━━━━━━━━━━━━━━━━━━━\u001b[0m \u001b[32m199.2/199.2 KB\u001b[0m \u001b[31m25.6 MB/s\u001b[0m eta \u001b[36m0:00:00\u001b[0m\n",
            "\u001b[?25hRequirement already satisfied: numpy>=1.17 in /usr/local/lib/python3.9/dist-packages (from transformers) (1.22.4)\n",
            "Requirement already satisfied: pyyaml>=5.1 in /usr/local/lib/python3.9/dist-packages (from transformers) (6.0)\n",
            "Requirement already satisfied: filelock in /usr/local/lib/python3.9/dist-packages (from transformers) (3.10.0)\n",
            "Collecting tokenizers!=0.11.3,<0.14,>=0.11.1\n",
            "  Downloading tokenizers-0.13.2-cp39-cp39-manylinux_2_17_x86_64.manylinux2014_x86_64.whl (7.6 MB)\n",
            "\u001b[2K     \u001b[90m━━━━━━━━━━━━━━━━━━━━━━━━━━━━━━━━━━━━━━━━\u001b[0m \u001b[32m7.6/7.6 MB\u001b[0m \u001b[31m97.8 MB/s\u001b[0m eta \u001b[36m0:00:00\u001b[0m\n",
            "\u001b[?25hRequirement already satisfied: requests in /usr/local/lib/python3.9/dist-packages (from transformers) (2.27.1)\n",
            "Requirement already satisfied: packaging>=20.0 in /usr/local/lib/python3.9/dist-packages (from transformers) (23.0)\n",
            "Requirement already satisfied: tqdm>=4.27 in /usr/local/lib/python3.9/dist-packages (from transformers) (4.65.0)\n",
            "Collecting responses<0.19\n",
            "  Downloading responses-0.18.0-py3-none-any.whl (38 kB)\n",
            "Collecting xxhash\n",
            "  Downloading xxhash-3.2.0-cp39-cp39-manylinux_2_17_x86_64.manylinux2014_x86_64.whl (212 kB)\n",
            "\u001b[2K     \u001b[90m━━━━━━━━━━━━━━━━━━━━━━━━━━━━━━━━━━━━━━\u001b[0m \u001b[32m212.2/212.2 KB\u001b[0m \u001b[31m30.2 MB/s\u001b[0m eta \u001b[36m0:00:00\u001b[0m\n",
            "\u001b[?25hRequirement already satisfied: pandas in /usr/local/lib/python3.9/dist-packages (from datasets) (1.4.4)\n",
            "Collecting multiprocess\n",
            "  Downloading multiprocess-0.70.14-py39-none-any.whl (132 kB)\n",
            "\u001b[2K     \u001b[90m━━━━━━━━━━━━━━━━━━━━━━━━━━━━━━━━━━━━━━\u001b[0m \u001b[32m132.9/132.9 KB\u001b[0m \u001b[31m20.3 MB/s\u001b[0m eta \u001b[36m0:00:00\u001b[0m\n",
            "\u001b[?25hCollecting aiohttp\n",
            "  Downloading aiohttp-3.8.4-cp39-cp39-manylinux_2_17_x86_64.manylinux2014_x86_64.whl (1.0 MB)\n",
            "\u001b[2K     \u001b[90m━━━━━━━━━━━━━━━━━━━━━━━━━━━━━━━━━━━━━━━━\u001b[0m \u001b[32m1.0/1.0 MB\u001b[0m \u001b[31m71.8 MB/s\u001b[0m eta \u001b[36m0:00:00\u001b[0m\n",
            "\u001b[?25hRequirement already satisfied: fsspec[http]>=2021.11.1 in /usr/local/lib/python3.9/dist-packages (from datasets) (2023.3.0)\n",
            "Collecting dill<0.3.7,>=0.3.0\n",
            "  Downloading dill-0.3.6-py3-none-any.whl (110 kB)\n",
            "\u001b[2K     \u001b[90m━━━━━━━━━━━━━━━━━━━━━━━━━━━━━━━━━━━━━━\u001b[0m \u001b[32m110.5/110.5 KB\u001b[0m \u001b[31m16.5 MB/s\u001b[0m eta \u001b[36m0:00:00\u001b[0m\n",
            "\u001b[?25hRequirement already satisfied: pyarrow>=6.0.0 in /usr/local/lib/python3.9/dist-packages (from datasets) (9.0.0)\n",
            "Collecting yarl<2.0,>=1.0\n",
            "  Downloading yarl-1.8.2-cp39-cp39-manylinux_2_17_x86_64.manylinux2014_x86_64.whl (264 kB)\n",
            "\u001b[2K     \u001b[90m━━━━━━━━━━━━━━━━━━━━━━━━━━━━━━━━━━━━━━\u001b[0m \u001b[32m264.6/264.6 KB\u001b[0m \u001b[31m34.7 MB/s\u001b[0m eta \u001b[36m0:00:00\u001b[0m\n",
            "\u001b[?25hRequirement already satisfied: charset-normalizer<4.0,>=2.0 in /usr/local/lib/python3.9/dist-packages (from aiohttp->datasets) (2.0.12)\n",
            "Collecting multidict<7.0,>=4.5\n",
            "  Downloading multidict-6.0.4-cp39-cp39-manylinux_2_17_x86_64.manylinux2014_x86_64.whl (114 kB)\n",
            "\u001b[2K     \u001b[90m━━━━━━━━━━━━━━━━━━━━━━━━━━━━━━━━━━━━━━\u001b[0m \u001b[32m114.2/114.2 KB\u001b[0m \u001b[31m15.1 MB/s\u001b[0m eta \u001b[36m0:00:00\u001b[0m\n",
            "\u001b[?25hCollecting aiosignal>=1.1.2\n",
            "  Downloading aiosignal-1.3.1-py3-none-any.whl (7.6 kB)\n",
            "Collecting frozenlist>=1.1.1\n",
            "  Downloading frozenlist-1.3.3-cp39-cp39-manylinux_2_5_x86_64.manylinux1_x86_64.manylinux_2_17_x86_64.manylinux2014_x86_64.whl (158 kB)\n",
            "\u001b[2K     \u001b[90m━━━━━━━━━━━━━━━━━━━━━━━━━━━━━━━━━━━━━━\u001b[0m \u001b[32m158.8/158.8 KB\u001b[0m \u001b[31m23.6 MB/s\u001b[0m eta \u001b[36m0:00:00\u001b[0m\n",
            "\u001b[?25hCollecting async-timeout<5.0,>=4.0.0a3\n",
            "  Downloading async_timeout-4.0.2-py3-none-any.whl (5.8 kB)\n",
            "Requirement already satisfied: attrs>=17.3.0 in /usr/local/lib/python3.9/dist-packages (from aiohttp->datasets) (22.2.0)\n",
            "Requirement already satisfied: typing-extensions>=3.7.4.3 in /usr/local/lib/python3.9/dist-packages (from huggingface-hub<1.0,>=0.11.0->transformers) (4.5.0)\n",
            "Requirement already satisfied: certifi>=2017.4.17 in /usr/local/lib/python3.9/dist-packages (from requests->transformers) (2022.12.7)\n",
            "Requirement already satisfied: idna<4,>=2.5 in /usr/local/lib/python3.9/dist-packages (from requests->transformers) (3.4)\n",
            "Requirement already satisfied: urllib3<1.27,>=1.21.1 in /usr/local/lib/python3.9/dist-packages (from requests->transformers) (1.26.15)\n",
            "Requirement already satisfied: pytz>=2020.1 in /usr/local/lib/python3.9/dist-packages (from pandas->datasets) (2022.7.1)\n",
            "Requirement already satisfied: python-dateutil>=2.8.1 in /usr/local/lib/python3.9/dist-packages (from pandas->datasets) (2.8.2)\n",
            "Requirement already satisfied: six>=1.5 in /usr/local/lib/python3.9/dist-packages (from python-dateutil>=2.8.1->pandas->datasets) (1.15.0)\n",
            "Installing collected packages: tokenizers, xxhash, multidict, frozenlist, dill, async-timeout, yarl, responses, multiprocess, huggingface-hub, aiosignal, transformers, aiohttp, datasets\n",
            "Successfully installed aiohttp-3.8.4 aiosignal-1.3.1 async-timeout-4.0.2 datasets-2.10.1 dill-0.3.6 frozenlist-1.3.3 huggingface-hub-0.13.2 multidict-6.0.4 multiprocess-0.70.14 responses-0.18.0 tokenizers-0.13.2 transformers-4.27.1 xxhash-3.2.0 yarl-1.8.2\n"
          ]
        }
      ],
      "source": [
        "import locale\n",
        "def getpreferredencoding(do_setlocale = True):\n",
        "    return \"UTF-8\"\n",
        "locale.getpreferredencoding = getpreferredencoding\n",
        "!pip install transformers datasets"
      ]
    },
    {
      "cell_type": "code",
      "execution_count": 11,
      "id": "5fb0af95",
      "metadata": {
        "colab": {
          "base_uri": "https://localhost:8080/"
        },
        "id": "5fb0af95",
        "outputId": "b3654f0f-435b-4d94-ceaa-74dbd4d2d27d"
      },
      "outputs": [
        {
          "name": "stdout",
          "output_type": "stream",
          "text": [
            "Looking in indexes: https://pypi.org/simple, https://us-python.pkg.dev/colab-wheels/public/simple/\n",
            "Requirement already satisfied: transformers in /usr/local/lib/python3.9/dist-packages (4.27.1)\n",
            "Requirement already satisfied: requests in /usr/local/lib/python3.9/dist-packages (from transformers) (2.27.1)\n",
            "Requirement already satisfied: filelock in /usr/local/lib/python3.9/dist-packages (from transformers) (3.10.0)\n",
            "Requirement already satisfied: huggingface-hub<1.0,>=0.11.0 in /usr/local/lib/python3.9/dist-packages (from transformers) (0.13.2)\n",
            "Requirement already satisfied: packaging>=20.0 in /usr/local/lib/python3.9/dist-packages (from transformers) (23.0)\n",
            "Requirement already satisfied: regex!=2019.12.17 in /usr/local/lib/python3.9/dist-packages (from transformers) (2022.10.31)\n",
            "Requirement already satisfied: tqdm>=4.27 in /usr/local/lib/python3.9/dist-packages (from transformers) (4.65.0)\n",
            "Requirement already satisfied: numpy>=1.17 in /usr/local/lib/python3.9/dist-packages (from transformers) (1.22.4)\n",
            "Requirement already satisfied: pyyaml>=5.1 in /usr/local/lib/python3.9/dist-packages (from transformers) (6.0)\n",
            "Requirement already satisfied: tokenizers!=0.11.3,<0.14,>=0.11.1 in /usr/local/lib/python3.9/dist-packages (from transformers) (0.13.2)\n",
            "Requirement already satisfied: typing-extensions>=3.7.4.3 in /usr/local/lib/python3.9/dist-packages (from huggingface-hub<1.0,>=0.11.0->transformers) (4.5.0)\n",
            "Requirement already satisfied: certifi>=2017.4.17 in /usr/local/lib/python3.9/dist-packages (from requests->transformers) (2022.12.7)\n",
            "Requirement already satisfied: urllib3<1.27,>=1.21.1 in /usr/local/lib/python3.9/dist-packages (from requests->transformers) (1.26.15)\n",
            "Requirement already satisfied: idna<4,>=2.5 in /usr/local/lib/python3.9/dist-packages (from requests->transformers) (3.4)\n",
            "Requirement already satisfied: charset-normalizer~=2.0.0 in /usr/local/lib/python3.9/dist-packages (from requests->transformers) (2.0.12)\n"
          ]
        }
      ],
      "source": [
        "!pip install transformers"
      ]
    },
    {
      "cell_type": "code",
      "execution_count": 12,
      "id": "rWrPNSDgwEou",
      "metadata": {
        "id": "rWrPNSDgwEou"
      },
      "outputs": [],
      "source": [
        "from transformers import RobertaTokenizer, RobertaForSequenceClassification, TextDataset, DataCollatorWithPadding\n",
        "from transformers import Trainer, TrainingArguments\n",
        "import torch\n",
        "from transformers import pipeline\n",
        "from transformers import RobertaTokenizer, TFRobertaModel"
      ]
    },
    {
      "cell_type": "code",
      "execution_count": 13,
      "id": "GQmNookGWhA9",
      "metadata": {
        "colab": {
          "base_uri": "https://localhost:8080/",
          "height": 389,
          "referenced_widgets": [
            "a59331adfc5847cea4f14906b848490d",
            "bdfa9e23f8424376a3bafe540c9809a2",
            "d2e0d7a5d9be450c9f90ff2297fc7d66",
            "d73d129bf1b346f38c4f7ef3805c2fbd",
            "aca1dca18d404fd7be4140bcd20454c5",
            "c1afd9db73eb40b5bb187813649c3933",
            "e57a5421c0e7402ea7f814f52e207232",
            "882ec1454e274a019567ccf91282bcdb",
            "370ce37798bb4dae89a45ca3e1b15e96",
            "4c6dd6e5ee894ee79bbd6874407e81df",
            "86e321f6dea1433c9810edfd4988a422",
            "0eeee616139d4b708d4993d64fdad0f7",
            "7872628a9fd0487b8067f54034c02a8f",
            "6429b1132cba44b59be7fa0249c793b7",
            "c7a9bfd122e74e0ebe72b2d5ce0f2737",
            "457143d20b10456ca927eae9b8ffa19e",
            "adcc79332bfa4dc092d14f3e9be2762f",
            "e2b4db032c3e4e73a32c7c83a94b08ca",
            "93aecfab861848b1bde16602c0aa75d3",
            "96545c597c0e444aa2fc5ce60427a9cf",
            "2d93e3c3919845a0bbfbc1e9c78d2a31",
            "2a067b492e874361866281a14e4de114",
            "d2c5c5f9683745b485e3d64970943d4e",
            "195730a7f0794c859c4dc34196d029dc",
            "a4cb863dba7c4ddcb4dda2b08a5de0c1",
            "df6c81ce687849a78d421907ebe88f27",
            "539661e3da2f40eab2315e731d15ce37",
            "8f6f137c28f44e8a8cbd071f4e636355",
            "c0a4470f6ef243b0bdae15590e1e7495",
            "9958234176a34fe3b5ad626d65799a4b",
            "41f36b8fd399461b87507f1eb4b10af0",
            "2e1e0bb23c144d79b4cb8b903645900b",
            "e84a8b5837054efab12adf821919d32d",
            "bb8691a769f441518d7ba4a065543046",
            "85ecd38b4239406aa3060ad445d2b07b",
            "e13c6970a6854e2a954b6d841a4a3cbe",
            "dd67ff0e8c704be5971acf5421d4d951",
            "c389f999b99c434a80bddca6e025198e",
            "6a5f527b5a3b4b088f1053ebe971d24e",
            "16ef1ef20b424f1fbe652d54c9c05395",
            "d7335bfab1764686aeb0c05ca72a85de",
            "f8c1d1097da0411dbbcabcb71bb3eecc",
            "d8b281061add4f748a3f4d7d4992aa19",
            "9160862e963b4ab7af8fa3c01d18ff4a",
            "a30a999533b2491da05ad74cfc7418c6",
            "998d052ac9c641838f42d8e062aaed59",
            "0f7e47a2591f4e8f9352a26f3235ea02",
            "921e0278150943b1a29525c9c854e105",
            "fe4d3cfbfee0485bac0ed995f1fecf78",
            "3c951349f5ce4219b68350cd12324afe",
            "2523bae8ef8644a3805911f9b449f5e6",
            "97971f319987480092ceb0181a7d7667",
            "7017932de0cd460993b2ab4fec3d39af",
            "7e47b873a4cf416096661afe65f4f1dc",
            "b26bfac42c42499fab239959fc699755"
          ]
        },
        "id": "GQmNookGWhA9",
        "outputId": "8a842f1c-3904-4edc-df42-8c5ca1876eba"
      },
      "outputs": [
        {
          "data": {
            "application/vnd.jupyter.widget-view+json": {
              "model_id": "a59331adfc5847cea4f14906b848490d",
              "version_major": 2,
              "version_minor": 0
            },
            "text/plain": [
              "Downloading (…)olve/main/vocab.json:   0%|          | 0.00/899k [00:00<?, ?B/s]"
            ]
          },
          "metadata": {},
          "output_type": "display_data"
        },
        {
          "data": {
            "application/vnd.jupyter.widget-view+json": {
              "model_id": "0eeee616139d4b708d4993d64fdad0f7",
              "version_major": 2,
              "version_minor": 0
            },
            "text/plain": [
              "Downloading (…)olve/main/merges.txt:   0%|          | 0.00/456k [00:00<?, ?B/s]"
            ]
          },
          "metadata": {},
          "output_type": "display_data"
        },
        {
          "data": {
            "application/vnd.jupyter.widget-view+json": {
              "model_id": "d2c5c5f9683745b485e3d64970943d4e",
              "version_major": 2,
              "version_minor": 0
            },
            "text/plain": [
              "Downloading (…)lve/main/config.json:   0%|          | 0.00/481 [00:00<?, ?B/s]"
            ]
          },
          "metadata": {},
          "output_type": "display_data"
        },
        {
          "data": {
            "application/vnd.jupyter.widget-view+json": {
              "model_id": "bb8691a769f441518d7ba4a065543046",
              "version_major": 2,
              "version_minor": 0
            },
            "text/plain": [
              "Downloading pytorch_model.bin:   0%|          | 0.00/501M [00:00<?, ?B/s]"
            ]
          },
          "metadata": {},
          "output_type": "display_data"
        },
        {
          "name": "stderr",
          "output_type": "stream",
          "text": [
            "Some weights of the model checkpoint at roberta-base were not used when initializing RobertaModel: ['lm_head.bias', 'lm_head.layer_norm.bias', 'lm_head.layer_norm.weight', 'lm_head.dense.bias', 'lm_head.dense.weight', 'lm_head.decoder.weight']\n",
            "- This IS expected if you are initializing RobertaModel from the checkpoint of a model trained on another task or with another architecture (e.g. initializing a BertForSequenceClassification model from a BertForPreTraining model).\n",
            "- This IS NOT expected if you are initializing RobertaModel from the checkpoint of a model that you expect to be exactly identical (initializing a BertForSequenceClassification model from a BertForSequenceClassification model).\n"
          ]
        },
        {
          "data": {
            "application/vnd.jupyter.widget-view+json": {
              "model_id": "a30a999533b2491da05ad74cfc7418c6",
              "version_major": 2,
              "version_minor": 0
            },
            "text/plain": [
              "Downloading (…)/main/tokenizer.json:   0%|          | 0.00/1.36M [00:00<?, ?B/s]"
            ]
          },
          "metadata": {},
          "output_type": "display_data"
        }
      ],
      "source": [
        "# Import necessary libraries\n",
        "from sklearn.linear_model import LogisticRegression\n",
        "from sklearn.metrics import classification_report\n",
        "from transformers import pipeline, RobertaTokenizer\n",
        "\n",
        "# Load the tokenizer and the feature-extraction pipeline\n",
        "tokenizer = RobertaTokenizer.from_pretrained('roberta-base')\n",
        "feature_extraction = pipeline(task='feature-extraction', model='roberta-base', max_length=512, truncation=True, padding=True)\n",
        "\n",
        "# Define a function to encode the text of the documents using the feature-extraction pipeline\n",
        "def encode_text(text): \n",
        "    # Extract the first context vector for each document\n",
        "    encoded_text = feature_extraction(text)\n",
        "    return encoded_text[0][0]\n"
      ]
    },
    {
      "cell_type": "code",
      "execution_count": 14,
      "id": "qvuuHYF3Vy6R",
      "metadata": {
        "id": "qvuuHYF3Vy6R"
      },
      "outputs": [],
      "source": [
        "# Encode the text of the documents in the training sets\n",
        "texts = train_df['words'].values.tolist()\n",
        "X_train = [encode_text(t) for t in texts]\n",
        "y_train = train_df[\"target\"]"
      ]
    },
    {
      "cell_type": "code",
      "execution_count": 15,
      "id": "bMLDhu57ldOh",
      "metadata": {
        "id": "bMLDhu57ldOh"
      },
      "outputs": [],
      "source": [
        "# Encode the text of the documents in the validation sets\n",
        "texts = val_df['words'].values.tolist()\n",
        "X_val = [encode_text(t) for t in texts]\n",
        "y_val = val_df[\"target\"]"
      ]
    },
    {
      "cell_type": "code",
      "execution_count": 16,
      "id": "cMl3WBiTYJcf",
      "metadata": {
        "colab": {
          "base_uri": "https://localhost:8080/"
        },
        "id": "cMl3WBiTYJcf",
        "outputId": "5e5663e3-c1fe-4252-e3cb-ea470a0202f2"
      },
      "outputs": [
        {
          "name": "stdout",
          "output_type": "stream",
          "text": [
            "              precision    recall  f1-score   support\n",
            "\n",
            "           0       0.80      0.69      0.74       154\n",
            "           1       0.22      0.02      0.04        88\n",
            "           2       0.87      0.99      0.93       758\n",
            "\n",
            "    accuracy                           0.86      1000\n",
            "   macro avg       0.63      0.57      0.57      1000\n",
            "weighted avg       0.80      0.86      0.82      1000\n",
            "\n"
          ]
        },
        {
          "name": "stderr",
          "output_type": "stream",
          "text": [
            "/usr/local/lib/python3.9/dist-packages/sklearn/linear_model/_logistic.py:458: ConvergenceWarning: lbfgs failed to converge (status=1):\n",
            "STOP: TOTAL NO. of ITERATIONS REACHED LIMIT.\n",
            "\n",
            "Increase the number of iterations (max_iter) or scale the data as shown in:\n",
            "    https://scikit-learn.org/stable/modules/preprocessing.html\n",
            "Please also refer to the documentation for alternative solver options:\n",
            "    https://scikit-learn.org/stable/modules/linear_model.html#logistic-regression\n",
            "  n_iter_i = _check_optimize_result(\n"
          ]
        }
      ],
      "source": [
        "# Train a LogisticRegression classifier on the encoded training data\n",
        "clf = LogisticRegression()\n",
        "clf.fit(X_train, y_train)\n",
        "\n",
        "# Use the trained classifier to make predictions on the encoded validation data\n",
        "y_pred = clf.predict(X_val)\n",
        "\n",
        "# Evaluate the performance of the classifier on the validation set\n",
        "print(classification_report(y_val, y_pred))\n"
      ]
    },
    {
      "cell_type": "code",
      "execution_count": 17,
      "id": "Q4iPSK5MZXBF",
      "metadata": {
        "colab": {
          "base_uri": "https://localhost:8080/"
        },
        "id": "Q4iPSK5MZXBF",
        "outputId": "d2fa899b-4088-441d-e3f2-ac534b43534c"
      },
      "outputs": [
        {
          "name": "stderr",
          "output_type": "stream",
          "text": [
            "Some weights of the model checkpoint at roberta-base were not used when initializing RobertaForSequenceClassification: ['roberta.pooler.dense.weight', 'lm_head.bias', 'roberta.pooler.dense.bias', 'lm_head.layer_norm.bias', 'lm_head.layer_norm.weight', 'lm_head.dense.bias', 'lm_head.dense.weight', 'lm_head.decoder.weight']\n",
            "- This IS expected if you are initializing RobertaForSequenceClassification from the checkpoint of a model trained on another task or with another architecture (e.g. initializing a BertForSequenceClassification model from a BertForPreTraining model).\n",
            "- This IS NOT expected if you are initializing RobertaForSequenceClassification from the checkpoint of a model that you expect to be exactly identical (initializing a BertForSequenceClassification model from a BertForSequenceClassification model).\n",
            "Some weights of RobertaForSequenceClassification were not initialized from the model checkpoint at roberta-base and are newly initialized: ['classifier.dense.weight', 'classifier.dense.bias', 'classifier.out_proj.weight', 'classifier.out_proj.bias']\n",
            "You should probably TRAIN this model on a down-stream task to be able to use it for predictions and inference.\n"
          ]
        }
      ],
      "source": [
        "# Import necessary libraries\n",
        "from transformers import RobertaForSequenceClassification, RobertaTokenizerFast, Trainer, TrainingArguments\n",
        "from datasets import Dataset\n",
        "\n",
        "# Load the model\n",
        "tokenizer = RobertaTokenizer.from_pretrained('roberta-base')\n",
        "model = RobertaForSequenceClassification.from_pretrained('roberta-base', num_labels=4)\n",
        "X_train=tokenizer(train_df['words'].values.tolist(),truncation=True,padding=True)\n",
        "X_val=tokenizer(val_df['words'].values.tolist(),truncation=True,padding=True)\n",
        "X_train[\"labels\"] = y_train.tolist()\n",
        "X_val[\"labels\"] = y_val.tolist()\n",
        "# Define the training and validation datasets\n",
        "train_dataset = Dataset.from_dict(X_train)\n",
        "val_dataset = Dataset.from_dict(X_val)\n",
        "\n"
      ]
    },
    {
      "cell_type": "code",
      "execution_count": 18,
      "id": "QtV0T9KwaX_c",
      "metadata": {
        "id": "QtV0T9KwaX_c"
      },
      "outputs": [],
      "source": [
        "# Define the training arguments\n",
        "training_args = TrainingArguments(\n",
        "    output_dir='./results',\n",
        "    # evaluation_strategy='epoch',\n",
        "    learning_rate=1e-4,\n",
        "    per_device_train_batch_size=16,\n",
        "    per_device_eval_batch_size=16,\n",
        "    num_train_epochs=1,\n",
        "    weight_decay=0,\n",
        ")\n"
      ]
    },
    {
      "cell_type": "code",
      "execution_count": 19,
      "id": "YoQjrwYuaYpN",
      "metadata": {
        "id": "YoQjrwYuaYpN"
      },
      "outputs": [],
      "source": [
        "# Define the trainer\n",
        "trainer = Trainer(\n",
        "    model=model,\n",
        "    args=training_args,\n",
        "    train_dataset=train_dataset,\n",
        "    eval_dataset=val_dataset,\n",
        "    compute_metrics=lambda pred: {\n",
        "        'accuracy': accuracy_score(pred.label_ids, pred.predictions.argmax(-1)),\n",
        "        'precision': precision_score(pred.label_ids, pred.predictions.argmax(-1), average='macro'),\n",
        "        'recall': recall_score(pred.label_ids, pred.predictions.argmax(-1), average='macro'),\n",
        "        'f1': f1_score(pred.label_ids, pred.predictions.argmax(-1), average='macro')\n",
        "      },\n",
        "    )\n"
      ]
    },
    {
      "cell_type": "code",
      "execution_count": 20,
      "id": "0RNJJ4FfabF8",
      "metadata": {
        "colab": {
          "base_uri": "https://localhost:8080/",
          "height": 199
        },
        "id": "0RNJJ4FfabF8",
        "outputId": "6f73d4b9-50c5-43ab-d825-d5ea7f145892"
      },
      "outputs": [
        {
          "name": "stderr",
          "output_type": "stream",
          "text": [
            "/usr/local/lib/python3.9/dist-packages/transformers/optimization.py:391: FutureWarning: This implementation of AdamW is deprecated and will be removed in a future version. Use the PyTorch implementation torch.optim.AdamW instead, or set `no_deprecation_warning=True` to disable this warning\n",
            "  warnings.warn(\n"
          ]
        },
        {
          "data": {
            "text/html": [
              "\n",
              "    <div>\n",
              "      \n",
              "      <progress value='188' max='188' style='width:300px; height:20px; vertical-align: middle;'></progress>\n",
              "      [188/188 01:10, Epoch 1/1]\n",
              "    </div>\n",
              "    <table border=\"1\" class=\"dataframe\">\n",
              "  <thead>\n",
              " <tr style=\"text-align: left;\">\n",
              "      <th>Step</th>\n",
              "      <th>Training Loss</th>\n",
              "    </tr>\n",
              "  </thead>\n",
              "  <tbody>\n",
              "  </tbody>\n",
              "</table><p>"
            ],
            "text/plain": [
              "<IPython.core.display.HTML object>"
            ]
          },
          "metadata": {},
          "output_type": "display_data"
        },
        {
          "data": {
            "text/plain": [
              "TrainOutput(global_step=188, training_loss=0.7143966999459774, metrics={'train_runtime': 74.156, 'train_samples_per_second': 40.455, 'train_steps_per_second': 2.535, 'total_flos': 789347340288000.0, 'train_loss': 0.7143966999459774, 'epoch': 1.0})"
            ]
          },
          "execution_count": 20,
          "metadata": {},
          "output_type": "execute_result"
        }
      ],
      "source": [
        "# Train the model\n",
        "trainer.train()"
      ]
    },
    {
      "cell_type": "code",
      "execution_count": 26,
      "id": "pSq4NDNHv96a",
      "metadata": {
        "colab": {
          "base_uri": "https://localhost:8080/",
          "height": 109
        },
        "id": "pSq4NDNHv96a",
        "outputId": "88eca76a-82a0-4187-9d3d-38dd1b127dda"
      },
      "outputs": [
        {
          "data": {
            "text/html": [
              "\n",
              "    <div>\n",
              "      \n",
              "      <progress value='189' max='63' style='width:300px; height:20px; vertical-align: middle;'></progress>\n",
              "      [63/63 25:20]\n",
              "    </div>\n",
              "    "
            ],
            "text/plain": [
              "<IPython.core.display.HTML object>"
            ]
          },
          "metadata": {},
          "output_type": "display_data"
        },
        {
          "name": "stdout",
          "output_type": "stream",
          "text": [
            "{'eval_loss': 0.7239181995391846, 'eval_accuracy': 0.758, 'eval_precision': 0.25266666666666665, 'eval_recall': 0.3333333333333333, 'eval_f1': 0.28744785741372775, 'eval_runtime': 7.7086, 'eval_samples_per_second': 129.726, 'eval_steps_per_second': 8.173, 'epoch': 1.0}\n"
          ]
        },
        {
          "name": "stderr",
          "output_type": "stream",
          "text": [
            "/usr/local/lib/python3.9/dist-packages/sklearn/metrics/_classification.py:1344: UndefinedMetricWarning: Precision is ill-defined and being set to 0.0 in labels with no predicted samples. Use `zero_division` parameter to control this behavior.\n",
            "  _warn_prf(average, modifier, msg_start, len(result))\n"
          ]
        }
      ],
      "source": [
        "# Evaluate the performance of the model on the validation set\n",
        "eval_result = trainer.evaluate(eval_dataset=val_dataset)\n",
        "print(eval_result)"
      ]
    },
    {
      "cell_type": "code",
      "execution_count": 27,
      "id": "lukoOPsCzW9i",
      "metadata": {
        "colab": {
          "base_uri": "https://localhost:8080/"
        },
        "id": "lukoOPsCzW9i",
        "outputId": "9899cc84-bf3e-4049-e2e3-74c8a01b9e5b"
      },
      "outputs": [
        {
          "name": "stderr",
          "output_type": "stream",
          "text": [
            "Some weights of the model checkpoint at roberta-base were not used when initializing RobertaForSequenceClassification: ['roberta.pooler.dense.weight', 'lm_head.bias', 'roberta.pooler.dense.bias', 'lm_head.layer_norm.bias', 'lm_head.layer_norm.weight', 'lm_head.dense.bias', 'lm_head.dense.weight', 'lm_head.decoder.weight']\n",
            "- This IS expected if you are initializing RobertaForSequenceClassification from the checkpoint of a model trained on another task or with another architecture (e.g. initializing a BertForSequenceClassification model from a BertForPreTraining model).\n",
            "- This IS NOT expected if you are initializing RobertaForSequenceClassification from the checkpoint of a model that you expect to be exactly identical (initializing a BertForSequenceClassification model from a BertForSequenceClassification model).\n",
            "Some weights of RobertaForSequenceClassification were not initialized from the model checkpoint at roberta-base and are newly initialized: ['classifier.dense.weight', 'classifier.dense.bias', 'classifier.out_proj.weight', 'classifier.out_proj.bias']\n",
            "You should probably TRAIN this model on a down-stream task to be able to use it for predictions and inference.\n"
          ]
        }
      ],
      "source": [
        "# Define the training arguments\n",
        "model1 = RobertaForSequenceClassification.from_pretrained('roberta-base', num_labels=4)\n",
        "training_args1 = TrainingArguments(\n",
        "    output_dir='./results',\n",
        "    # evaluation_strategy='epoch',\n",
        "    learning_rate=5e-5,\n",
        "    per_device_train_batch_size=16,\n",
        "    per_device_eval_batch_size=16,\n",
        "    num_train_epochs=2,\n",
        "    weight_decay=0,\n",
        ")"
      ]
    },
    {
      "cell_type": "code",
      "execution_count": 28,
      "id": "ouHZ06e_zarF",
      "metadata": {
        "colab": {
          "base_uri": "https://localhost:8080/",
          "height": 199
        },
        "id": "ouHZ06e_zarF",
        "outputId": "69270b9f-b062-4a2c-9115-9c123a35b562"
      },
      "outputs": [
        {
          "name": "stderr",
          "output_type": "stream",
          "text": [
            "/usr/local/lib/python3.9/dist-packages/transformers/optimization.py:391: FutureWarning: This implementation of AdamW is deprecated and will be removed in a future version. Use the PyTorch implementation torch.optim.AdamW instead, or set `no_deprecation_warning=True` to disable this warning\n",
            "  warnings.warn(\n"
          ]
        },
        {
          "data": {
            "text/html": [
              "\n",
              "    <div>\n",
              "      \n",
              "      <progress value='376' max='376' style='width:300px; height:20px; vertical-align: middle;'></progress>\n",
              "      [376/376 02:22, Epoch 2/2]\n",
              "    </div>\n",
              "    <table border=\"1\" class=\"dataframe\">\n",
              "  <thead>\n",
              " <tr style=\"text-align: left;\">\n",
              "      <th>Step</th>\n",
              "      <th>Training Loss</th>\n",
              "    </tr>\n",
              "  </thead>\n",
              "  <tbody>\n",
              "  </tbody>\n",
              "</table><p>"
            ],
            "text/plain": [
              "<IPython.core.display.HTML object>"
            ]
          },
          "metadata": {},
          "output_type": "display_data"
        },
        {
          "data": {
            "text/plain": [
              "TrainOutput(global_step=376, training_loss=0.356373482562126, metrics={'train_runtime': 142.5165, 'train_samples_per_second': 42.1, 'train_steps_per_second': 2.638, 'total_flos': 1578694680576000.0, 'train_loss': 0.356373482562126, 'epoch': 2.0})"
            ]
          },
          "execution_count": 28,
          "metadata": {},
          "output_type": "execute_result"
        }
      ],
      "source": [
        "trainer1 = Trainer(\n",
        "    model=model1,\n",
        "    args=training_args1,\n",
        "    train_dataset=train_dataset,\n",
        "    eval_dataset=val_dataset,\n",
        "    compute_metrics=lambda pred: {\n",
        "        'accuracy': accuracy_score(pred.label_ids, pred.predictions.argmax(-1)),\n",
        "        'precision': precision_score(pred.label_ids, pred.predictions.argmax(-1), average='macro'),\n",
        "        'recall': recall_score(pred.label_ids, pred.predictions.argmax(-1), average='macro'),\n",
        "        'f1': f1_score(pred.label_ids, pred.predictions.argmax(-1), average='macro')\n",
        "      },\n",
        "    )\n",
        "trainer1.train()"
      ]
    },
    {
      "cell_type": "code",
      "execution_count": 29,
      "id": "LmCxvg4tzft-",
      "metadata": {
        "colab": {
          "base_uri": "https://localhost:8080/",
          "height": 74
        },
        "id": "LmCxvg4tzft-",
        "outputId": "805b5fec-342c-4d1e-cc9a-d60395719e89"
      },
      "outputs": [
        {
          "data": {
            "text/html": [
              "\n",
              "    <div>\n",
              "      \n",
              "      <progress value='63' max='63' style='width:300px; height:20px; vertical-align: middle;'></progress>\n",
              "      [63/63 00:07]\n",
              "    </div>\n",
              "    "
            ],
            "text/plain": [
              "<IPython.core.display.HTML object>"
            ]
          },
          "metadata": {},
          "output_type": "display_data"
        },
        {
          "name": "stdout",
          "output_type": "stream",
          "text": [
            "{'eval_loss': 0.29955199360847473, 'eval_accuracy': 0.891, 'eval_precision': 0.7318535496622615, 'eval_recall': 0.7266273743846302, 'eval_f1': 0.7265556056147698, 'eval_runtime': 7.6591, 'eval_samples_per_second': 130.564, 'eval_steps_per_second': 8.226, 'epoch': 2.0}\n"
          ]
        }
      ],
      "source": [
        "# Evaluate the performance of the model on the validation set\n",
        "eval_result1 = trainer1.evaluate(eval_dataset=val_dataset)\n",
        "print(eval_result1)"
      ]
    },
    {
      "cell_type": "code",
      "execution_count": 30,
      "id": "DHOYvVcjvsUF",
      "metadata": {
        "colab": {
          "base_uri": "https://localhost:8080/"
        },
        "id": "DHOYvVcjvsUF",
        "outputId": "24e1382d-b43a-4fa9-dd5c-83c42106cda5"
      },
      "outputs": [
        {
          "name": "stderr",
          "output_type": "stream",
          "text": [
            "Some weights of the model checkpoint at roberta-base were not used when initializing RobertaForSequenceClassification: ['roberta.pooler.dense.weight', 'lm_head.bias', 'roberta.pooler.dense.bias', 'lm_head.layer_norm.bias', 'lm_head.layer_norm.weight', 'lm_head.dense.bias', 'lm_head.dense.weight', 'lm_head.decoder.weight']\n",
            "- This IS expected if you are initializing RobertaForSequenceClassification from the checkpoint of a model trained on another task or with another architecture (e.g. initializing a BertForSequenceClassification model from a BertForPreTraining model).\n",
            "- This IS NOT expected if you are initializing RobertaForSequenceClassification from the checkpoint of a model that you expect to be exactly identical (initializing a BertForSequenceClassification model from a BertForSequenceClassification model).\n",
            "Some weights of RobertaForSequenceClassification were not initialized from the model checkpoint at roberta-base and are newly initialized: ['classifier.dense.weight', 'classifier.dense.bias', 'classifier.out_proj.weight', 'classifier.out_proj.bias']\n",
            "You should probably TRAIN this model on a down-stream task to be able to use it for predictions and inference.\n"
          ]
        }
      ],
      "source": [
        "# Define the training arguments\n",
        "model2 = RobertaForSequenceClassification.from_pretrained('roberta-base', num_labels=4)\n",
        "training_args2 = TrainingArguments(\n",
        "    output_dir='./results',\n",
        "    # evaluation_strategy='epoch',\n",
        "    learning_rate=2e-5,\n",
        "    per_device_train_batch_size=16,\n",
        "    per_device_eval_batch_size=16,\n",
        "    num_train_epochs=5,\n",
        "    weight_decay=0,\n",
        ")\n"
      ]
    },
    {
      "cell_type": "code",
      "execution_count": 31,
      "id": "1yYKynJ7vsir",
      "metadata": {
        "colab": {
          "base_uri": "https://localhost:8080/",
          "height": 320
        },
        "id": "1yYKynJ7vsir",
        "outputId": "cb0ddba6-71cc-4110-f73d-6b9786b69e24"
      },
      "outputs": [
        {
          "name": "stderr",
          "output_type": "stream",
          "text": [
            "/usr/local/lib/python3.9/dist-packages/transformers/optimization.py:391: FutureWarning: This implementation of AdamW is deprecated and will be removed in a future version. Use the PyTorch implementation torch.optim.AdamW instead, or set `no_deprecation_warning=True` to disable this warning\n",
            "  warnings.warn(\n"
          ]
        },
        {
          "data": {
            "text/html": [
              "\n",
              "    <div>\n",
              "      \n",
              "      <progress value='931' max='940' style='width:300px; height:20px; vertical-align: middle;'></progress>\n",
              "      [931/940 05:54 < 00:03, 2.62 it/s, Epoch 4.95/5]\n",
              "    </div>\n",
              "    <table border=\"1\" class=\"dataframe\">\n",
              "  <thead>\n",
              " <tr style=\"text-align: left;\">\n",
              "      <th>Step</th>\n",
              "      <th>Training Loss</th>\n",
              "    </tr>\n",
              "  </thead>\n",
              "  <tbody>\n",
              "    <tr>\n",
              "      <td>500</td>\n",
              "      <td>0.336600</td>\n",
              "    </tr>\n",
              "  </tbody>\n",
              "</table><p>"
            ],
            "text/plain": [
              "<IPython.core.display.HTML object>"
            ]
          },
          "metadata": {},
          "output_type": "display_data"
        },
        {
          "data": {
            "text/html": [
              "\n",
              "    <div>\n",
              "      \n",
              "      <progress value='940' max='940' style='width:300px; height:20px; vertical-align: middle;'></progress>\n",
              "      [940/940 05:57, Epoch 5/5]\n",
              "    </div>\n",
              "    <table border=\"1\" class=\"dataframe\">\n",
              "  <thead>\n",
              " <tr style=\"text-align: left;\">\n",
              "      <th>Step</th>\n",
              "      <th>Training Loss</th>\n",
              "    </tr>\n",
              "  </thead>\n",
              "  <tbody>\n",
              "    <tr>\n",
              "      <td>500</td>\n",
              "      <td>0.336600</td>\n",
              "    </tr>\n",
              "  </tbody>\n",
              "</table><p>"
            ],
            "text/plain": [
              "<IPython.core.display.HTML object>"
            ]
          },
          "metadata": {},
          "output_type": "display_data"
        },
        {
          "data": {
            "text/plain": [
              "TrainOutput(global_step=940, training_loss=0.23593306034169298, metrics={'train_runtime': 358.3694, 'train_samples_per_second': 41.856, 'train_steps_per_second': 2.623, 'total_flos': 3946736701440000.0, 'train_loss': 0.23593306034169298, 'epoch': 5.0})"
            ]
          },
          "execution_count": 31,
          "metadata": {},
          "output_type": "execute_result"
        }
      ],
      "source": [
        "trainer2 = Trainer(\n",
        "    model=model2,\n",
        "    args=training_args2,\n",
        "    train_dataset=train_dataset,\n",
        "    eval_dataset=val_dataset,\n",
        "    compute_metrics=lambda pred: {\n",
        "        'accuracy': accuracy_score(pred.label_ids, pred.predictions.argmax(-1)),\n",
        "        'precision': precision_score(pred.label_ids, pred.predictions.argmax(-1), average='macro'),\n",
        "        'recall': recall_score(pred.label_ids, pred.predictions.argmax(-1), average='macro'),\n",
        "        'f1': f1_score(pred.label_ids, pred.predictions.argmax(-1), average='macro')\n",
        "      },\n",
        "    )\n",
        "trainer2.train()"
      ]
    },
    {
      "cell_type": "code",
      "execution_count": 32,
      "id": "S5b5lIvivssE",
      "metadata": {
        "colab": {
          "base_uri": "https://localhost:8080/",
          "height": 74
        },
        "id": "S5b5lIvivssE",
        "outputId": "227d4254-3ee3-4a96-fd00-4be79a0e7036"
      },
      "outputs": [
        {
          "data": {
            "text/html": [
              "\n",
              "    <div>\n",
              "      \n",
              "      <progress value='63' max='63' style='width:300px; height:20px; vertical-align: middle;'></progress>\n",
              "      [63/63 00:07]\n",
              "    </div>\n",
              "    "
            ],
            "text/plain": [
              "<IPython.core.display.HTML object>"
            ]
          },
          "metadata": {},
          "output_type": "display_data"
        },
        {
          "name": "stdout",
          "output_type": "stream",
          "text": [
            "{'eval_loss': 0.4715457856655121, 'eval_accuracy': 0.894, 'eval_precision': 0.7490925568244009, 'eval_recall': 0.7409336485853637, 'eval_f1': 0.7449355419709679, 'eval_runtime': 7.6433, 'eval_samples_per_second': 130.833, 'eval_steps_per_second': 8.242, 'epoch': 5.0}\n"
          ]
        }
      ],
      "source": [
        "# Evaluate the performance of the model on the validation set\n",
        "eval_result2 = trainer2.evaluate(eval_dataset=val_dataset)\n",
        "print(eval_result2)"
      ]
    },
    {
      "cell_type": "code",
      "execution_count": 33,
      "id": "ACGa2tP5vs0M",
      "metadata": {
        "colab": {
          "base_uri": "https://localhost:8080/"
        },
        "id": "ACGa2tP5vs0M",
        "outputId": "db9e1bb6-da3c-4c32-b801-dad4eb0b6b42"
      },
      "outputs": [
        {
          "name": "stderr",
          "output_type": "stream",
          "text": [
            "Some weights of the model checkpoint at roberta-base were not used when initializing RobertaForSequenceClassification: ['roberta.pooler.dense.weight', 'lm_head.bias', 'roberta.pooler.dense.bias', 'lm_head.layer_norm.bias', 'lm_head.layer_norm.weight', 'lm_head.dense.bias', 'lm_head.dense.weight', 'lm_head.decoder.weight']\n",
            "- This IS expected if you are initializing RobertaForSequenceClassification from the checkpoint of a model trained on another task or with another architecture (e.g. initializing a BertForSequenceClassification model from a BertForPreTraining model).\n",
            "- This IS NOT expected if you are initializing RobertaForSequenceClassification from the checkpoint of a model that you expect to be exactly identical (initializing a BertForSequenceClassification model from a BertForSequenceClassification model).\n",
            "Some weights of RobertaForSequenceClassification were not initialized from the model checkpoint at roberta-base and are newly initialized: ['classifier.dense.weight', 'classifier.dense.bias', 'classifier.out_proj.weight', 'classifier.out_proj.bias']\n",
            "You should probably TRAIN this model on a down-stream task to be able to use it for predictions and inference.\n"
          ]
        }
      ],
      "source": [
        "# Define the training arguments\n",
        "model3 = RobertaForSequenceClassification.from_pretrained('roberta-base', num_labels=4)\n",
        "training_args3 = TrainingArguments(\n",
        "    output_dir='./results',\n",
        "    # evaluation_strategy='epoch',\n",
        "    learning_rate=1e-4,\n",
        "    per_device_train_batch_size=16,\n",
        "    per_device_eval_batch_size=16,\n",
        "    num_train_epochs=10,\n",
        "    weight_decay=0,\n",
        ")\n"
      ]
    },
    {
      "cell_type": "code",
      "execution_count": 34,
      "id": "JpsPwQ--cUFH",
      "metadata": {
        "colab": {
          "base_uri": "https://localhost:8080/",
          "height": 446
        },
        "id": "JpsPwQ--cUFH",
        "outputId": "03bff5bd-920a-4597-e2e5-038beb2f5fe9"
      },
      "outputs": [
        {
          "name": "stderr",
          "output_type": "stream",
          "text": [
            "/usr/local/lib/python3.9/dist-packages/transformers/optimization.py:391: FutureWarning: This implementation of AdamW is deprecated and will be removed in a future version. Use the PyTorch implementation torch.optim.AdamW instead, or set `no_deprecation_warning=True` to disable this warning\n",
            "  warnings.warn(\n"
          ]
        },
        {
          "data": {
            "text/html": [
              "\n",
              "    <div>\n",
              "      \n",
              "      <progress value='1852' max='1880' style='width:300px; height:20px; vertical-align: middle;'></progress>\n",
              "      [1852/1880 11:48 < 00:10, 2.61 it/s, Epoch 9.85/10]\n",
              "    </div>\n",
              "    <table border=\"1\" class=\"dataframe\">\n",
              "  <thead>\n",
              " <tr style=\"text-align: left;\">\n",
              "      <th>Step</th>\n",
              "      <th>Training Loss</th>\n",
              "    </tr>\n",
              "  </thead>\n",
              "  <tbody>\n",
              "    <tr>\n",
              "      <td>500</td>\n",
              "      <td>0.705900</td>\n",
              "    </tr>\n",
              "    <tr>\n",
              "      <td>1000</td>\n",
              "      <td>0.698000</td>\n",
              "    </tr>\n",
              "    <tr>\n",
              "      <td>1500</td>\n",
              "      <td>0.691000</td>\n",
              "    </tr>\n",
              "  </tbody>\n",
              "</table><p>"
            ],
            "text/plain": [
              "<IPython.core.display.HTML object>"
            ]
          },
          "metadata": {},
          "output_type": "display_data"
        },
        {
          "data": {
            "text/html": [
              "\n",
              "    <div>\n",
              "      \n",
              "      <progress value='1880' max='1880' style='width:300px; height:20px; vertical-align: middle;'></progress>\n",
              "      [1880/1880 11:59, Epoch 10/10]\n",
              "    </div>\n",
              "    <table border=\"1\" class=\"dataframe\">\n",
              "  <thead>\n",
              " <tr style=\"text-align: left;\">\n",
              "      <th>Step</th>\n",
              "      <th>Training Loss</th>\n",
              "    </tr>\n",
              "  </thead>\n",
              "  <tbody>\n",
              "    <tr>\n",
              "      <td>500</td>\n",
              "      <td>0.705900</td>\n",
              "    </tr>\n",
              "    <tr>\n",
              "      <td>1000</td>\n",
              "      <td>0.698000</td>\n",
              "    </tr>\n",
              "    <tr>\n",
              "      <td>1500</td>\n",
              "      <td>0.691000</td>\n",
              "    </tr>\n",
              "  </tbody>\n",
              "</table><p>"
            ],
            "text/plain": [
              "<IPython.core.display.HTML object>"
            ]
          },
          "metadata": {},
          "output_type": "display_data"
        },
        {
          "data": {
            "text/plain": [
              "TrainOutput(global_step=1880, training_loss=0.6960001194730718, metrics={'train_runtime': 720.1706, 'train_samples_per_second': 41.657, 'train_steps_per_second': 2.61, 'total_flos': 7893473402880000.0, 'train_loss': 0.6960001194730718, 'epoch': 10.0})"
            ]
          },
          "execution_count": 34,
          "metadata": {},
          "output_type": "execute_result"
        }
      ],
      "source": [
        "trainer3 = Trainer(\n",
        "    model=model3,\n",
        "    args=training_args3,\n",
        "    train_dataset=train_dataset,\n",
        "    eval_dataset=val_dataset,\n",
        "    compute_metrics=lambda pred: {\n",
        "        'accuracy': accuracy_score(pred.label_ids, pred.predictions.argmax(-1)),\n",
        "        'precision': precision_score(pred.label_ids, pred.predictions.argmax(-1), average='macro'),\n",
        "        'recall': recall_score(pred.label_ids, pred.predictions.argmax(-1), average='macro'),\n",
        "        'f1': f1_score(pred.label_ids, pred.predictions.argmax(-1), average='macro')\n",
        "      },\n",
        "    )\n",
        "trainer3.train()"
      ]
    },
    {
      "cell_type": "code",
      "execution_count": 35,
      "id": "Q826ve5KadYN",
      "metadata": {
        "colab": {
          "base_uri": "https://localhost:8080/",
          "height": 109
        },
        "id": "Q826ve5KadYN",
        "outputId": "4b98a966-1b0f-4098-dbb2-f4ece5aed2b7"
      },
      "outputs": [
        {
          "data": {
            "text/html": [
              "\n",
              "    <div>\n",
              "      \n",
              "      <progress value='63' max='63' style='width:300px; height:20px; vertical-align: middle;'></progress>\n",
              "      [63/63 00:07]\n",
              "    </div>\n",
              "    "
            ],
            "text/plain": [
              "<IPython.core.display.HTML object>"
            ]
          },
          "metadata": {},
          "output_type": "display_data"
        },
        {
          "name": "stdout",
          "output_type": "stream",
          "text": [
            "{'eval_loss': 0.7156162858009338, 'eval_accuracy': 0.758, 'eval_precision': 0.25266666666666665, 'eval_recall': 0.3333333333333333, 'eval_f1': 0.28744785741372775, 'eval_runtime': 7.6952, 'eval_samples_per_second': 129.952, 'eval_steps_per_second': 8.187, 'epoch': 10.0}\n"
          ]
        },
        {
          "name": "stderr",
          "output_type": "stream",
          "text": [
            "/usr/local/lib/python3.9/dist-packages/sklearn/metrics/_classification.py:1344: UndefinedMetricWarning: Precision is ill-defined and being set to 0.0 in labels with no predicted samples. Use `zero_division` parameter to control this behavior.\n",
            "  _warn_prf(average, modifier, msg_start, len(result))\n"
          ]
        }
      ],
      "source": [
        "# Evaluate the performance of the model on the validation set\n",
        "eval_result3 = trainer3.evaluate(eval_dataset=val_dataset)\n",
        "print(eval_result3)"
      ]
    },
    {
      "cell_type": "markdown",
      "id": "OVX7VLbGck6v",
      "metadata": {
        "id": "OVX7VLbGck6v"
      },
      "source": [
        "# Q6. Best Approach on Test Data"
      ]
    },
    {
      "cell_type": "code",
      "execution_count": 36,
      "id": "7MgIosClctlC",
      "metadata": {
        "id": "7MgIosClctlC"
      },
      "outputs": [],
      "source": [
        "test_df['target'] = test_df['Score'].map({1: 0, 2: 0, 3: 1, 4: 2, 5: 2})\n",
        "y_test = test_df['target']\n",
        "texts = test_df['words'].values.tolist()\n",
        "X_test = [encode_text(t) for t in texts]"
      ]
    },
    {
      "cell_type": "code",
      "execution_count": 37,
      "id": "DmfpFOJI0sRB",
      "metadata": {
        "id": "DmfpFOJI0sRB"
      },
      "outputs": [],
      "source": [
        "X_test=tokenizer(test_df['words'].values.tolist(),truncation=True,padding=True)\n",
        "X_test[\"labels\"] = y_test.tolist()\n",
        "test_dataset = Dataset.from_dict(X_test)"
      ]
    },
    {
      "cell_type": "code",
      "execution_count": 38,
      "id": "uEfGLPJE0yXq",
      "metadata": {
        "colab": {
          "base_uri": "https://localhost:8080/",
          "height": 54
        },
        "id": "uEfGLPJE0yXq",
        "outputId": "5d3e4087-b44c-447a-c084-4980147f7c76"
      },
      "outputs": [
        {
          "data": {
            "text/html": [],
            "text/plain": [
              "<IPython.core.display.HTML object>"
            ]
          },
          "metadata": {},
          "output_type": "display_data"
        },
        {
          "name": "stdout",
          "output_type": "stream",
          "text": [
            "{'test_loss': 0.4330006241798401, 'test_accuracy': 0.894, 'test_precision': 0.7197406567088928, 'test_recall': 0.7212903225806452, 'test_f1': 0.7201285303733037, 'test_runtime': 7.6739, 'test_samples_per_second': 130.313, 'test_steps_per_second': 8.21}\n"
          ]
        }
      ],
      "source": [
        "predictions, label_ids, metrics = trainer2.predict(test_dataset)\n",
        "print(metrics)"
      ]
    },
    {
      "cell_type": "code",
      "execution_count": 39,
      "id": "FygFSoL05DHc",
      "metadata": {
        "colab": {
          "base_uri": "https://localhost:8080/"
        },
        "id": "FygFSoL05DHc",
        "outputId": "cc9517d4-7419-4706-a248-1fbd37cb4be2"
      },
      "outputs": [
        {
          "name": "stdout",
          "output_type": "stream",
          "text": [
            "predictions.shape=(1000, 4)\n"
          ]
        }
      ],
      "source": [
        "print(f\"{predictions.shape=}\")"
      ]
    },
    {
      "cell_type": "code",
      "execution_count": 42,
      "id": "jbF2SUZr7dAI",
      "metadata": {
        "colab": {
          "base_uri": "https://localhost:8080/",
          "height": 296
        },
        "id": "jbF2SUZr7dAI",
        "outputId": "b9e119da-0f4d-4126-8e9c-b76519f2d808"
      },
      "outputs": [
        {
          "data": {
            "text/plain": [
              "<sklearn.metrics._plot.confusion_matrix.ConfusionMatrixDisplay at 0x7fddf29c06a0>"
            ]
          },
          "execution_count": 42,
          "metadata": {},
          "output_type": "execute_result"
        },
        {
          "data": {
            "image/png": "[encoded data removed]",
            "text/plain": [
              "<Figure size 432x288 with 2 Axes>"
            ]
          },
          "metadata": {
            "needs_background": "light"
          },
          "output_type": "display_data"
        }
      ],
      "source": [
        "# Get the predicted labels and true labels\n",
        "predicted_labels = predictions.argmax(axis=1)\n",
        "true_labels = label_ids\n",
        "\n",
        "# Compute the confusion matrix\n",
        "confusion = confusion_matrix(true_labels, predicted_labels)\n",
        "\n",
        "# Print the confusion matrix\n",
        "ConfusionMatrixDisplay(confusion_matrix=confusion).plot()"
      ]
    },
    {
      "cell_type": "code",
      "execution_count": null,
      "id": "OVAhQz5rpnNG",
      "metadata": {
        "id": "OVAhQz5rpnNG"
      },
      "outputs": [],
      "source": []
    }
  ],
  "metadata": {
    "accelerator": "GPU",
    "colab": {
      "provenance": []
    },
    "gpuClass": "premium",
    "kernelspec": {
      "display_name": "Python 3 (ipykernel)",
      "language": "python",
      "name": "python3"
    },
    "language_info": {
      "codemirror_mode": {
        "name": "ipython",
        "version": 3
      },
      "file_extension": ".py",
      "mimetype": "text/x-python",
      "name": "python",
      "nbconvert_exporter": "python",
      "pygments_lexer": "ipython3",
      "version": "3.11.2"
    },
    "widgets": {
      "application/vnd.jupyter.widget-state+json": {
        "0eeee616139d4b708d4993d64fdad0f7": {
          "model_module": "@jupyter-widgets/controls",
          "model_module_version": "1.5.0",
          "model_name": "HBoxModel",
          "state": {
            "_dom_classes": [],
            "_model_module": "@jupyter-widgets/controls",
            "_model_module_version": "1.5.0",
            "_model_name": "HBoxModel",
            "_view_count": null,
            "_view_module": "@jupyter-widgets/controls",
            "_view_module_version": "1.5.0",
            "_view_name": "HBoxView",
            "box_style": "",
            "children": [
              "IPY_MODEL_7872628a9fd0487b8067f54034c02a8f",
              "IPY_MODEL_6429b1132cba44b59be7fa0249c793b7",
              "IPY_MODEL_c7a9bfd122e74e0ebe72b2d5ce0f2737"
            ],
            "layout": "IPY_MODEL_457143d20b10456ca927eae9b8ffa19e"
          }
        },
        "0f7e47a2591f4e8f9352a26f3235ea02": {
          "model_module": "@jupyter-widgets/controls",
          "model_module_version": "1.5.0",
          "model_name": "FloatProgressModel",
          "state": {
            "_dom_classes": [],
            "_model_module": "@jupyter-widgets/controls",
            "_model_module_version": "1.5.0",
            "_model_name": "FloatProgressModel",
            "_view_count": null,
            "_view_module": "@jupyter-widgets/controls",
            "_view_module_version": "1.5.0",
            "_view_name": "ProgressView",
            "bar_style": "success",
            "description": "",
            "description_tooltip": null,
            "layout": "IPY_MODEL_97971f319987480092ceb0181a7d7667",
            "max": 1355863,
            "min": 0,
            "orientation": "horizontal",
            "style": "IPY_MODEL_7017932de0cd460993b2ab4fec3d39af",
            "value": 1355863
          }
        },
        "16ef1ef20b424f1fbe652d54c9c05395": {
          "model_module": "@jupyter-widgets/controls",
          "model_module_version": "1.5.0",
          "model_name": "DescriptionStyleModel",
          "state": {
            "_model_module": "@jupyter-widgets/controls",
            "_model_module_version": "1.5.0",
            "_model_name": "DescriptionStyleModel",
            "_view_count": null,
            "_view_module": "@jupyter-widgets/base",
            "_view_module_version": "1.2.0",
            "_view_name": "StyleView",
            "description_width": ""
          }
        },
        "195730a7f0794c859c4dc34196d029dc": {
          "model_module": "@jupyter-widgets/controls",
          "model_module_version": "1.5.0",
          "model_name": "HTMLModel",
          "state": {
            "_dom_classes": [],
            "_model_module": "@jupyter-widgets/controls",
            "_model_module_version": "1.5.0",
            "_model_name": "HTMLModel",
            "_view_count": null,
            "_view_module": "@jupyter-widgets/controls",
            "_view_module_version": "1.5.0",
            "_view_name": "HTMLView",
            "description": "",
            "description_tooltip": null,
            "layout": "IPY_MODEL_8f6f137c28f44e8a8cbd071f4e636355",
            "placeholder": "​",
            "style": "IPY_MODEL_c0a4470f6ef243b0bdae15590e1e7495",
            "value": "Downloading (…)lve/main/config.json: 100%"
          }
        },
        "2523bae8ef8644a3805911f9b449f5e6": {
          "model_module": "@jupyter-widgets/controls",
          "model_module_version": "1.5.0",
          "model_name": "DescriptionStyleModel",
          "state": {
            "_model_module": "@jupyter-widgets/controls",
            "_model_module_version": "1.5.0",
            "_model_name": "DescriptionStyleModel",
            "_view_count": null,
            "_view_module": "@jupyter-widgets/base",
            "_view_module_version": "1.2.0",
            "_view_name": "StyleView",
            "description_width": ""
          }
        },
        "2a067b492e874361866281a14e4de114": {
          "model_module": "@jupyter-widgets/controls",
          "model_module_version": "1.5.0",
          "model_name": "DescriptionStyleModel",
          "state": {
            "_model_module": "@jupyter-widgets/controls",
            "_model_module_version": "1.5.0",
            "_model_name": "DescriptionStyleModel",
            "_view_count": null,
            "_view_module": "@jupyter-widgets/base",
            "_view_module_version": "1.2.0",
            "_view_name": "StyleView",
            "description_width": ""
          }
        },
        "2d93e3c3919845a0bbfbc1e9c78d2a31": {
          "model_module": "@jupyter-widgets/base",
          "model_module_version": "1.2.0",
          "model_name": "LayoutModel",
          "state": {
            "_model_module": "@jupyter-widgets/base",
            "_model_module_version": "1.2.0",
            "_model_name": "LayoutModel",
            "_view_count": null,
            "_view_module": "@jupyter-widgets/base",
            "_view_module_version": "1.2.0",
            "_view_name": "LayoutView",
            "align_content": null,
            "align_items": null,
            "align_self": null,
            "border": null,
            "bottom": null,
            "display": null,
            "flex": null,
            "flex_flow": null,
            "grid_area": null,
            "grid_auto_columns": null,
            "grid_auto_flow": null,
            "grid_auto_rows": null,
            "grid_column": null,
            "grid_gap": null,
            "grid_row": null,
            "grid_template_areas": null,
            "grid_template_columns": null,
            "grid_template_rows": null,
            "height": null,
            "justify_content": null,
            "justify_items": null,
            "left": null,
            "margin": null,
            "max_height": null,
            "max_width": null,
            "min_height": null,
            "min_width": null,
            "object_fit": null,
            "object_position": null,
            "order": null,
            "overflow": null,
            "overflow_x": null,
            "overflow_y": null,
            "padding": null,
            "right": null,
            "top": null,
            "visibility": null,
            "width": null
          }
        },
        "2e1e0bb23c144d79b4cb8b903645900b": {
          "model_module": "@jupyter-widgets/base",
          "model_module_version": "1.2.0",
          "model_name": "LayoutModel",
          "state": {
            "_model_module": "@jupyter-widgets/base",
            "_model_module_version": "1.2.0",
            "_model_name": "LayoutModel",
            "_view_count": null,
            "_view_module": "@jupyter-widgets/base",
            "_view_module_version": "1.2.0",
            "_view_name": "LayoutView",
            "align_content": null,
            "align_items": null,
            "align_self": null,
            "border": null,
            "bottom": null,
            "display": null,
            "flex": null,
            "flex_flow": null,
            "grid_area": null,
            "grid_auto_columns": null,
            "grid_auto_flow": null,
            "grid_auto_rows": null,
            "grid_column": null,
            "grid_gap": null,
            "grid_row": null,
            "grid_template_areas": null,
            "grid_template_columns": null,
            "grid_template_rows": null,
            "height": null,
            "justify_content": null,
            "justify_items": null,
            "left": null,
            "margin": null,
            "max_height": null,
            "max_width": null,
            "min_height": null,
            "min_width": null,
            "object_fit": null,
            "object_position": null,
            "order": null,
            "overflow": null,
            "overflow_x": null,
            "overflow_y": null,
            "padding": null,
            "right": null,
            "top": null,
            "visibility": null,
            "width": null
          }
        },
        "370ce37798bb4dae89a45ca3e1b15e96": {
          "model_module": "@jupyter-widgets/controls",
          "model_module_version": "1.5.0",
          "model_name": "ProgressStyleModel",
          "state": {
            "_model_module": "@jupyter-widgets/controls",
            "_model_module_version": "1.5.0",
            "_model_name": "ProgressStyleModel",
            "_view_count": null,
            "_view_module": "@jupyter-widgets/base",
            "_view_module_version": "1.2.0",
            "_view_name": "StyleView",
            "bar_color": null,
            "description_width": ""
          }
        },
        "3c951349f5ce4219b68350cd12324afe": {
          "model_module": "@jupyter-widgets/base",
          "model_module_version": "1.2.0",
          "model_name": "LayoutModel",
          "state": {
            "_model_module": "@jupyter-widgets/base",
            "_model_module_version": "1.2.0",
            "_model_name": "LayoutModel",
            "_view_count": null,
            "_view_module": "@jupyter-widgets/base",
            "_view_module_version": "1.2.0",
            "_view_name": "LayoutView",
            "align_content": null,
            "align_items": null,
            "align_self": null,
            "border": null,
            "bottom": null,
            "display": null,
            "flex": null,
            "flex_flow": null,
            "grid_area": null,
            "grid_auto_columns": null,
            "grid_auto_flow": null,
            "grid_auto_rows": null,
            "grid_column": null,
            "grid_gap": null,
            "grid_row": null,
            "grid_template_areas": null,
            "grid_template_columns": null,
            "grid_template_rows": null,
            "height": null,
            "justify_content": null,
            "justify_items": null,
            "left": null,
            "margin": null,
            "max_height": null,
            "max_width": null,
            "min_height": null,
            "min_width": null,
            "object_fit": null,
            "object_position": null,
            "order": null,
            "overflow": null,
            "overflow_x": null,
            "overflow_y": null,
            "padding": null,
            "right": null,
            "top": null,
            "visibility": null,
            "width": null
          }
        },
        "41f36b8fd399461b87507f1eb4b10af0": {
          "model_module": "@jupyter-widgets/controls",
          "model_module_version": "1.5.0",
          "model_name": "ProgressStyleModel",
          "state": {
            "_model_module": "@jupyter-widgets/controls",
            "_model_module_version": "1.5.0",
            "_model_name": "ProgressStyleModel",
            "_view_count": null,
            "_view_module": "@jupyter-widgets/base",
            "_view_module_version": "1.2.0",
            "_view_name": "StyleView",
            "bar_color": null,
            "description_width": ""
          }
        },
        "457143d20b10456ca927eae9b8ffa19e": {
          "model_module": "@jupyter-widgets/base",
          "model_module_version": "1.2.0",
          "model_name": "LayoutModel",
          "state": {
            "_model_module": "@jupyter-widgets/base",
            "_model_module_version": "1.2.0",
            "_model_name": "LayoutModel",
            "_view_count": null,
            "_view_module": "@jupyter-widgets/base",
            "_view_module_version": "1.2.0",
            "_view_name": "LayoutView",
            "align_content": null,
            "align_items": null,
            "align_self": null,
            "border": null,
            "bottom": null,
            "display": null,
            "flex": null,
            "flex_flow": null,
            "grid_area": null,
            "grid_auto_columns": null,
            "grid_auto_flow": null,
            "grid_auto_rows": null,
            "grid_column": null,
            "grid_gap": null,
            "grid_row": null,
            "grid_template_areas": null,
            "grid_template_columns": null,
            "grid_template_rows": null,
            "height": null,
            "justify_content": null,
            "justify_items": null,
            "left": null,
            "margin": null,
            "max_height": null,
            "max_width": null,
            "min_height": null,
            "min_width": null,
            "object_fit": null,
            "object_position": null,
            "order": null,
            "overflow": null,
            "overflow_x": null,
            "overflow_y": null,
            "padding": null,
            "right": null,
            "top": null,
            "visibility": null,
            "width": null
          }
        },
        "4c6dd6e5ee894ee79bbd6874407e81df": {
          "model_module": "@jupyter-widgets/base",
          "model_module_version": "1.2.0",
          "model_name": "LayoutModel",
          "state": {
            "_model_module": "@jupyter-widgets/base",
            "_model_module_version": "1.2.0",
            "_model_name": "LayoutModel",
            "_view_count": null,
            "_view_module": "@jupyter-widgets/base",
            "_view_module_version": "1.2.0",
            "_view_name": "LayoutView",
            "align_content": null,
            "align_items": null,
            "align_self": null,
            "border": null,
            "bottom": null,
            "display": null,
            "flex": null,
            "flex_flow": null,
            "grid_area": null,
            "grid_auto_columns": null,
            "grid_auto_flow": null,
            "grid_auto_rows": null,
            "grid_column": null,
            "grid_gap": null,
            "grid_row": null,
            "grid_template_areas": null,
            "grid_template_columns": null,
            "grid_template_rows": null,
            "height": null,
            "justify_content": null,
            "justify_items": null,
            "left": null,
            "margin": null,
            "max_height": null,
            "max_width": null,
            "min_height": null,
            "min_width": null,
            "object_fit": null,
            "object_position": null,
            "order": null,
            "overflow": null,
            "overflow_x": null,
            "overflow_y": null,
            "padding": null,
            "right": null,
            "top": null,
            "visibility": null,
            "width": null
          }
        },
        "539661e3da2f40eab2315e731d15ce37": {
          "model_module": "@jupyter-widgets/base",
          "model_module_version": "1.2.0",
          "model_name": "LayoutModel",
          "state": {
            "_model_module": "@jupyter-widgets/base",
            "_model_module_version": "1.2.0",
            "_model_name": "LayoutModel",
            "_view_count": null,
            "_view_module": "@jupyter-widgets/base",
            "_view_module_version": "1.2.0",
            "_view_name": "LayoutView",
            "align_content": null,
            "align_items": null,
            "align_self": null,
            "border": null,
            "bottom": null,
            "display": null,
            "flex": null,
            "flex_flow": null,
            "grid_area": null,
            "grid_auto_columns": null,
            "grid_auto_flow": null,
            "grid_auto_rows": null,
            "grid_column": null,
            "grid_gap": null,
            "grid_row": null,
            "grid_template_areas": null,
            "grid_template_columns": null,
            "grid_template_rows": null,
            "height": null,
            "justify_content": null,
            "justify_items": null,
            "left": null,
            "margin": null,
            "max_height": null,
            "max_width": null,
            "min_height": null,
            "min_width": null,
            "object_fit": null,
            "object_position": null,
            "order": null,
            "overflow": null,
            "overflow_x": null,
            "overflow_y": null,
            "padding": null,
            "right": null,
            "top": null,
            "visibility": null,
            "width": null
          }
        },
        "6429b1132cba44b59be7fa0249c793b7": {
          "model_module": "@jupyter-widgets/controls",
          "model_module_version": "1.5.0",
          "model_name": "FloatProgressModel",
          "state": {
            "_dom_classes": [],
            "_model_module": "@jupyter-widgets/controls",
            "_model_module_version": "1.5.0",
            "_model_name": "FloatProgressModel",
            "_view_count": null,
            "_view_module": "@jupyter-widgets/controls",
            "_view_module_version": "1.5.0",
            "_view_name": "ProgressView",
            "bar_style": "success",
            "description": "",
            "description_tooltip": null,
            "layout": "IPY_MODEL_93aecfab861848b1bde16602c0aa75d3",
            "max": 456318,
            "min": 0,
            "orientation": "horizontal",
            "style": "IPY_MODEL_96545c597c0e444aa2fc5ce60427a9cf",
            "value": 456318
          }
        },
        "6a5f527b5a3b4b088f1053ebe971d24e": {
          "model_module": "@jupyter-widgets/base",
          "model_module_version": "1.2.0",
          "model_name": "LayoutModel",
          "state": {
            "_model_module": "@jupyter-widgets/base",
            "_model_module_version": "1.2.0",
            "_model_name": "LayoutModel",
            "_view_count": null,
            "_view_module": "@jupyter-widgets/base",
            "_view_module_version": "1.2.0",
            "_view_name": "LayoutView",
            "align_content": null,
            "align_items": null,
            "align_self": null,
            "border": null,
            "bottom": null,
            "display": null,
            "flex": null,
            "flex_flow": null,
            "grid_area": null,
            "grid_auto_columns": null,
            "grid_auto_flow": null,
            "grid_auto_rows": null,
            "grid_column": null,
            "grid_gap": null,
            "grid_row": null,
            "grid_template_areas": null,
            "grid_template_columns": null,
            "grid_template_rows": null,
            "height": null,
            "justify_content": null,
            "justify_items": null,
            "left": null,
            "margin": null,
            "max_height": null,
            "max_width": null,
            "min_height": null,
            "min_width": null,
            "object_fit": null,
            "object_position": null,
            "order": null,
            "overflow": null,
            "overflow_x": null,
            "overflow_y": null,
            "padding": null,
            "right": null,
            "top": null,
            "visibility": null,
            "width": null
          }
        },
        "7017932de0cd460993b2ab4fec3d39af": {
          "model_module": "@jupyter-widgets/controls",
          "model_module_version": "1.5.0",
          "model_name": "ProgressStyleModel",
          "state": {
            "_model_module": "@jupyter-widgets/controls",
            "_model_module_version": "1.5.0",
            "_model_name": "ProgressStyleModel",
            "_view_count": null,
            "_view_module": "@jupyter-widgets/base",
            "_view_module_version": "1.2.0",
            "_view_name": "StyleView",
            "bar_color": null,
            "description_width": ""
          }
        },
        "7872628a9fd0487b8067f54034c02a8f": {
          "model_module": "@jupyter-widgets/controls",
          "model_module_version": "1.5.0",
          "model_name": "HTMLModel",
          "state": {
            "_dom_classes": [],
            "_model_module": "@jupyter-widgets/controls",
            "_model_module_version": "1.5.0",
            "_model_name": "HTMLModel",
            "_view_count": null,
            "_view_module": "@jupyter-widgets/controls",
            "_view_module_version": "1.5.0",
            "_view_name": "HTMLView",
            "description": "",
            "description_tooltip": null,
            "layout": "IPY_MODEL_adcc79332bfa4dc092d14f3e9be2762f",
            "placeholder": "​",
            "style": "IPY_MODEL_e2b4db032c3e4e73a32c7c83a94b08ca",
            "value": "Downloading (…)olve/main/merges.txt: 100%"
          }
        },
        "7e47b873a4cf416096661afe65f4f1dc": {
          "model_module": "@jupyter-widgets/base",
          "model_module_version": "1.2.0",
          "model_name": "LayoutModel",
          "state": {
            "_model_module": "@jupyter-widgets/base",
            "_model_module_version": "1.2.0",
            "_model_name": "LayoutModel",
            "_view_count": null,
            "_view_module": "@jupyter-widgets/base",
            "_view_module_version": "1.2.0",
            "_view_name": "LayoutView",
            "align_content": null,
            "align_items": null,
            "align_self": null,
            "border": null,
            "bottom": null,
            "display": null,
            "flex": null,
            "flex_flow": null,
            "grid_area": null,
            "grid_auto_columns": null,
            "grid_auto_flow": null,
            "grid_auto_rows": null,
            "grid_column": null,
            "grid_gap": null,
            "grid_row": null,
            "grid_template_areas": null,
            "grid_template_columns": null,
            "grid_template_rows": null,
            "height": null,
            "justify_content": null,
            "justify_items": null,
            "left": null,
            "margin": null,
            "max_height": null,
            "max_width": null,
            "min_height": null,
            "min_width": null,
            "object_fit": null,
            "object_position": null,
            "order": null,
            "overflow": null,
            "overflow_x": null,
            "overflow_y": null,
            "padding": null,
            "right": null,
            "top": null,
            "visibility": null,
            "width": null
          }
        },
        "85ecd38b4239406aa3060ad445d2b07b": {
          "model_module": "@jupyter-widgets/controls",
          "model_module_version": "1.5.0",
          "model_name": "HTMLModel",
          "state": {
            "_dom_classes": [],
            "_model_module": "@jupyter-widgets/controls",
            "_model_module_version": "1.5.0",
            "_model_name": "HTMLModel",
            "_view_count": null,
            "_view_module": "@jupyter-widgets/controls",
            "_view_module_version": "1.5.0",
            "_view_name": "HTMLView",
            "description": "",
            "description_tooltip": null,
            "layout": "IPY_MODEL_6a5f527b5a3b4b088f1053ebe971d24e",
            "placeholder": "​",
            "style": "IPY_MODEL_16ef1ef20b424f1fbe652d54c9c05395",
            "value": "Downloading pytorch_model.bin: 100%"
          }
        },
        "86e321f6dea1433c9810edfd4988a422": {
          "model_module": "@jupyter-widgets/controls",
          "model_module_version": "1.5.0",
          "model_name": "DescriptionStyleModel",
          "state": {
            "_model_module": "@jupyter-widgets/controls",
            "_model_module_version": "1.5.0",
            "_model_name": "DescriptionStyleModel",
            "_view_count": null,
            "_view_module": "@jupyter-widgets/base",
            "_view_module_version": "1.2.0",
            "_view_name": "StyleView",
            "description_width": ""
          }
        },
        "882ec1454e274a019567ccf91282bcdb": {
          "model_module": "@jupyter-widgets/base",
          "model_module_version": "1.2.0",
          "model_name": "LayoutModel",
          "state": {
            "_model_module": "@jupyter-widgets/base",
            "_model_module_version": "1.2.0",
            "_model_name": "LayoutModel",
            "_view_count": null,
            "_view_module": "@jupyter-widgets/base",
            "_view_module_version": "1.2.0",
            "_view_name": "LayoutView",
            "align_content": null,
            "align_items": null,
            "align_self": null,
            "border": null,
            "bottom": null,
            "display": null,
            "flex": null,
            "flex_flow": null,
            "grid_area": null,
            "grid_auto_columns": null,
            "grid_auto_flow": null,
            "grid_auto_rows": null,
            "grid_column": null,
            "grid_gap": null,
            "grid_row": null,
            "grid_template_areas": null,
            "grid_template_columns": null,
            "grid_template_rows": null,
            "height": null,
            "justify_content": null,
            "justify_items": null,
            "left": null,
            "margin": null,
            "max_height": null,
            "max_width": null,
            "min_height": null,
            "min_width": null,
            "object_fit": null,
            "object_position": null,
            "order": null,
            "overflow": null,
            "overflow_x": null,
            "overflow_y": null,
            "padding": null,
            "right": null,
            "top": null,
            "visibility": null,
            "width": null
          }
        },
        "8f6f137c28f44e8a8cbd071f4e636355": {
          "model_module": "@jupyter-widgets/base",
          "model_module_version": "1.2.0",
          "model_name": "LayoutModel",
          "state": {
            "_model_module": "@jupyter-widgets/base",
            "_model_module_version": "1.2.0",
            "_model_name": "LayoutModel",
            "_view_count": null,
            "_view_module": "@jupyter-widgets/base",
            "_view_module_version": "1.2.0",
            "_view_name": "LayoutView",
            "align_content": null,
            "align_items": null,
            "align_self": null,
            "border": null,
            "bottom": null,
            "display": null,
            "flex": null,
            "flex_flow": null,
            "grid_area": null,
            "grid_auto_columns": null,
            "grid_auto_flow": null,
            "grid_auto_rows": null,
            "grid_column": null,
            "grid_gap": null,
            "grid_row": null,
            "grid_template_areas": null,
            "grid_template_columns": null,
            "grid_template_rows": null,
            "height": null,
            "justify_content": null,
            "justify_items": null,
            "left": null,
            "margin": null,
            "max_height": null,
            "max_width": null,
            "min_height": null,
            "min_width": null,
            "object_fit": null,
            "object_position": null,
            "order": null,
            "overflow": null,
            "overflow_x": null,
            "overflow_y": null,
            "padding": null,
            "right": null,
            "top": null,
            "visibility": null,
            "width": null
          }
        },
        "9160862e963b4ab7af8fa3c01d18ff4a": {
          "model_module": "@jupyter-widgets/controls",
          "model_module_version": "1.5.0",
          "model_name": "DescriptionStyleModel",
          "state": {
            "_model_module": "@jupyter-widgets/controls",
            "_model_module_version": "1.5.0",
            "_model_name": "DescriptionStyleModel",
            "_view_count": null,
            "_view_module": "@jupyter-widgets/base",
            "_view_module_version": "1.2.0",
            "_view_name": "StyleView",
            "description_width": ""
          }
        },
        "921e0278150943b1a29525c9c854e105": {
          "model_module": "@jupyter-widgets/controls",
          "model_module_version": "1.5.0",
          "model_name": "HTMLModel",
          "state": {
            "_dom_classes": [],
            "_model_module": "@jupyter-widgets/controls",
            "_model_module_version": "1.5.0",
            "_model_name": "HTMLModel",
            "_view_count": null,
            "_view_module": "@jupyter-widgets/controls",
            "_view_module_version": "1.5.0",
            "_view_name": "HTMLView",
            "description": "",
            "description_tooltip": null,
            "layout": "IPY_MODEL_7e47b873a4cf416096661afe65f4f1dc",
            "placeholder": "​",
            "style": "IPY_MODEL_b26bfac42c42499fab239959fc699755",
            "value": " 1.36M/1.36M [00:01&lt;00:00, 1.17MB/s]"
          }
        },
        "93aecfab861848b1bde16602c0aa75d3": {
          "model_module": "@jupyter-widgets/base",
          "model_module_version": "1.2.0",
          "model_name": "LayoutModel",
          "state": {
            "_model_module": "@jupyter-widgets/base",
            "_model_module_version": "1.2.0",
            "_model_name": "LayoutModel",
            "_view_count": null,
            "_view_module": "@jupyter-widgets/base",
            "_view_module_version": "1.2.0",
            "_view_name": "LayoutView",
            "align_content": null,
            "align_items": null,
            "align_self": null,
            "border": null,
            "bottom": null,
            "display": null,
            "flex": null,
            "flex_flow": null,
            "grid_area": null,
            "grid_auto_columns": null,
            "grid_auto_flow": null,
            "grid_auto_rows": null,
            "grid_column": null,
            "grid_gap": null,
            "grid_row": null,
            "grid_template_areas": null,
            "grid_template_columns": null,
            "grid_template_rows": null,
            "height": null,
            "justify_content": null,
            "justify_items": null,
            "left": null,
            "margin": null,
            "max_height": null,
            "max_width": null,
            "min_height": null,
            "min_width": null,
            "object_fit": null,
            "object_position": null,
            "order": null,
            "overflow": null,
            "overflow_x": null,
            "overflow_y": null,
            "padding": null,
            "right": null,
            "top": null,
            "visibility": null,
            "width": null
          }
        },
        "96545c597c0e444aa2fc5ce60427a9cf": {
          "model_module": "@jupyter-widgets/controls",
          "model_module_version": "1.5.0",
          "model_name": "ProgressStyleModel",
          "state": {
            "_model_module": "@jupyter-widgets/controls",
            "_model_module_version": "1.5.0",
            "_model_name": "ProgressStyleModel",
            "_view_count": null,
            "_view_module": "@jupyter-widgets/base",
            "_view_module_version": "1.2.0",
            "_view_name": "StyleView",
            "bar_color": null,
            "description_width": ""
          }
        },
        "97971f319987480092ceb0181a7d7667": {
          "model_module": "@jupyter-widgets/base",
          "model_module_version": "1.2.0",
          "model_name": "LayoutModel",
          "state": {
            "_model_module": "@jupyter-widgets/base",
            "_model_module_version": "1.2.0",
            "_model_name": "LayoutModel",
            "_view_count": null,
            "_view_module": "@jupyter-widgets/base",
            "_view_module_version": "1.2.0",
            "_view_name": "LayoutView",
            "align_content": null,
            "align_items": null,
            "align_self": null,
            "border": null,
            "bottom": null,
            "display": null,
            "flex": null,
            "flex_flow": null,
            "grid_area": null,
            "grid_auto_columns": null,
            "grid_auto_flow": null,
            "grid_auto_rows": null,
            "grid_column": null,
            "grid_gap": null,
            "grid_row": null,
            "grid_template_areas": null,
            "grid_template_columns": null,
            "grid_template_rows": null,
            "height": null,
            "justify_content": null,
            "justify_items": null,
            "left": null,
            "margin": null,
            "max_height": null,
            "max_width": null,
            "min_height": null,
            "min_width": null,
            "object_fit": null,
            "object_position": null,
            "order": null,
            "overflow": null,
            "overflow_x": null,
            "overflow_y": null,
            "padding": null,
            "right": null,
            "top": null,
            "visibility": null,
            "width": null
          }
        },
        "9958234176a34fe3b5ad626d65799a4b": {
          "model_module": "@jupyter-widgets/base",
          "model_module_version": "1.2.0",
          "model_name": "LayoutModel",
          "state": {
            "_model_module": "@jupyter-widgets/base",
            "_model_module_version": "1.2.0",
            "_model_name": "LayoutModel",
            "_view_count": null,
            "_view_module": "@jupyter-widgets/base",
            "_view_module_version": "1.2.0",
            "_view_name": "LayoutView",
            "align_content": null,
            "align_items": null,
            "align_self": null,
            "border": null,
            "bottom": null,
            "display": null,
            "flex": null,
            "flex_flow": null,
            "grid_area": null,
            "grid_auto_columns": null,
            "grid_auto_flow": null,
            "grid_auto_rows": null,
            "grid_column": null,
            "grid_gap": null,
            "grid_row": null,
            "grid_template_areas": null,
            "grid_template_columns": null,
            "grid_template_rows": null,
            "height": null,
            "justify_content": null,
            "justify_items": null,
            "left": null,
            "margin": null,
            "max_height": null,
            "max_width": null,
            "min_height": null,
            "min_width": null,
            "object_fit": null,
            "object_position": null,
            "order": null,
            "overflow": null,
            "overflow_x": null,
            "overflow_y": null,
            "padding": null,
            "right": null,
            "top": null,
            "visibility": null,
            "width": null
          }
        },
        "998d052ac9c641838f42d8e062aaed59": {
          "model_module": "@jupyter-widgets/controls",
          "model_module_version": "1.5.0",
          "model_name": "HTMLModel",
          "state": {
            "_dom_classes": [],
            "_model_module": "@jupyter-widgets/controls",
            "_model_module_version": "1.5.0",
            "_model_name": "HTMLModel",
            "_view_count": null,
            "_view_module": "@jupyter-widgets/controls",
            "_view_module_version": "1.5.0",
            "_view_name": "HTMLView",
            "description": "",
            "description_tooltip": null,
            "layout": "IPY_MODEL_3c951349f5ce4219b68350cd12324afe",
            "placeholder": "​",
            "style": "IPY_MODEL_2523bae8ef8644a3805911f9b449f5e6",
            "value": "Downloading (…)/main/tokenizer.json: 100%"
          }
        },
        "a30a999533b2491da05ad74cfc7418c6": {
          "model_module": "@jupyter-widgets/controls",
          "model_module_version": "1.5.0",
          "model_name": "HBoxModel",
          "state": {
            "_dom_classes": [],
            "_model_module": "@jupyter-widgets/controls",
            "_model_module_version": "1.5.0",
            "_model_name": "HBoxModel",
            "_view_count": null,
            "_view_module": "@jupyter-widgets/controls",
            "_view_module_version": "1.5.0",
            "_view_name": "HBoxView",
            "box_style": "",
            "children": [
              "IPY_MODEL_998d052ac9c641838f42d8e062aaed59",
              "IPY_MODEL_0f7e47a2591f4e8f9352a26f3235ea02",
              "IPY_MODEL_921e0278150943b1a29525c9c854e105"
            ],
            "layout": "IPY_MODEL_fe4d3cfbfee0485bac0ed995f1fecf78"
          }
        },
        "a4cb863dba7c4ddcb4dda2b08a5de0c1": {
          "model_module": "@jupyter-widgets/controls",
          "model_module_version": "1.5.0",
          "model_name": "FloatProgressModel",
          "state": {
            "_dom_classes": [],
            "_model_module": "@jupyter-widgets/controls",
            "_model_module_version": "1.5.0",
            "_model_name": "FloatProgressModel",
            "_view_count": null,
            "_view_module": "@jupyter-widgets/controls",
            "_view_module_version": "1.5.0",
            "_view_name": "ProgressView",
            "bar_style": "success",
            "description": "",
            "description_tooltip": null,
            "layout": "IPY_MODEL_9958234176a34fe3b5ad626d65799a4b",
            "max": 481,
            "min": 0,
            "orientation": "horizontal",
            "style": "IPY_MODEL_41f36b8fd399461b87507f1eb4b10af0",
            "value": 481
          }
        },
        "a59331adfc5847cea4f14906b848490d": {
          "model_module": "@jupyter-widgets/controls",
          "model_module_version": "1.5.0",
          "model_name": "HBoxModel",
          "state": {
            "_dom_classes": [],
            "_model_module": "@jupyter-widgets/controls",
            "_model_module_version": "1.5.0",
            "_model_name": "HBoxModel",
            "_view_count": null,
            "_view_module": "@jupyter-widgets/controls",
            "_view_module_version": "1.5.0",
            "_view_name": "HBoxView",
            "box_style": "",
            "children": [
              "IPY_MODEL_bdfa9e23f8424376a3bafe540c9809a2",
              "IPY_MODEL_d2e0d7a5d9be450c9f90ff2297fc7d66",
              "IPY_MODEL_d73d129bf1b346f38c4f7ef3805c2fbd"
            ],
            "layout": "IPY_MODEL_aca1dca18d404fd7be4140bcd20454c5"
          }
        },
        "aca1dca18d404fd7be4140bcd20454c5": {
          "model_module": "@jupyter-widgets/base",
          "model_module_version": "1.2.0",
          "model_name": "LayoutModel",
          "state": {
            "_model_module": "@jupyter-widgets/base",
            "_model_module_version": "1.2.0",
            "_model_name": "LayoutModel",
            "_view_count": null,
            "_view_module": "@jupyter-widgets/base",
            "_view_module_version": "1.2.0",
            "_view_name": "LayoutView",
            "align_content": null,
            "align_items": null,
            "align_self": null,
            "border": null,
            "bottom": null,
            "display": null,
            "flex": null,
            "flex_flow": null,
            "grid_area": null,
            "grid_auto_columns": null,
            "grid_auto_flow": null,
            "grid_auto_rows": null,
            "grid_column": null,
            "grid_gap": null,
            "grid_row": null,
            "grid_template_areas": null,
            "grid_template_columns": null,
            "grid_template_rows": null,
            "height": null,
            "justify_content": null,
            "justify_items": null,
            "left": null,
            "margin": null,
            "max_height": null,
            "max_width": null,
            "min_height": null,
            "min_width": null,
            "object_fit": null,
            "object_position": null,
            "order": null,
            "overflow": null,
            "overflow_x": null,
            "overflow_y": null,
            "padding": null,
            "right": null,
            "top": null,
            "visibility": null,
            "width": null
          }
        },
        "adcc79332bfa4dc092d14f3e9be2762f": {
          "model_module": "@jupyter-widgets/base",
          "model_module_version": "1.2.0",
          "model_name": "LayoutModel",
          "state": {
            "_model_module": "@jupyter-widgets/base",
            "_model_module_version": "1.2.0",
            "_model_name": "LayoutModel",
            "_view_count": null,
            "_view_module": "@jupyter-widgets/base",
            "_view_module_version": "1.2.0",
            "_view_name": "LayoutView",
            "align_content": null,
            "align_items": null,
            "align_self": null,
            "border": null,
            "bottom": null,
            "display": null,
            "flex": null,
            "flex_flow": null,
            "grid_area": null,
            "grid_auto_columns": null,
            "grid_auto_flow": null,
            "grid_auto_rows": null,
            "grid_column": null,
            "grid_gap": null,
            "grid_row": null,
            "grid_template_areas": null,
            "grid_template_columns": null,
            "grid_template_rows": null,
            "height": null,
            "justify_content": null,
            "justify_items": null,
            "left": null,
            "margin": null,
            "max_height": null,
            "max_width": null,
            "min_height": null,
            "min_width": null,
            "object_fit": null,
            "object_position": null,
            "order": null,
            "overflow": null,
            "overflow_x": null,
            "overflow_y": null,
            "padding": null,
            "right": null,
            "top": null,
            "visibility": null,
            "width": null
          }
        },
        "b26bfac42c42499fab239959fc699755": {
          "model_module": "@jupyter-widgets/controls",
          "model_module_version": "1.5.0",
          "model_name": "DescriptionStyleModel",
          "state": {
            "_model_module": "@jupyter-widgets/controls",
            "_model_module_version": "1.5.0",
            "_model_name": "DescriptionStyleModel",
            "_view_count": null,
            "_view_module": "@jupyter-widgets/base",
            "_view_module_version": "1.2.0",
            "_view_name": "StyleView",
            "description_width": ""
          }
        },
        "bb8691a769f441518d7ba4a065543046": {
          "model_module": "@jupyter-widgets/controls",
          "model_module_version": "1.5.0",
          "model_name": "HBoxModel",
          "state": {
            "_dom_classes": [],
            "_model_module": "@jupyter-widgets/controls",
            "_model_module_version": "1.5.0",
            "_model_name": "HBoxModel",
            "_view_count": null,
            "_view_module": "@jupyter-widgets/controls",
            "_view_module_version": "1.5.0",
            "_view_name": "HBoxView",
            "box_style": "",
            "children": [
              "IPY_MODEL_85ecd38b4239406aa3060ad445d2b07b",
              "IPY_MODEL_e13c6970a6854e2a954b6d841a4a3cbe",
              "IPY_MODEL_dd67ff0e8c704be5971acf5421d4d951"
            ],
            "layout": "IPY_MODEL_c389f999b99c434a80bddca6e025198e"
          }
        },
        "bdfa9e23f8424376a3bafe540c9809a2": {
          "model_module": "@jupyter-widgets/controls",
          "model_module_version": "1.5.0",
          "model_name": "HTMLModel",
          "state": {
            "_dom_classes": [],
            "_model_module": "@jupyter-widgets/controls",
            "_model_module_version": "1.5.0",
            "_model_name": "HTMLModel",
            "_view_count": null,
            "_view_module": "@jupyter-widgets/controls",
            "_view_module_version": "1.5.0",
            "_view_name": "HTMLView",
            "description": "",
            "description_tooltip": null,
            "layout": "IPY_MODEL_c1afd9db73eb40b5bb187813649c3933",
            "placeholder": "​",
            "style": "IPY_MODEL_e57a5421c0e7402ea7f814f52e207232",
            "value": "Downloading (…)olve/main/vocab.json: 100%"
          }
        },
        "c0a4470f6ef243b0bdae15590e1e7495": {
          "model_module": "@jupyter-widgets/controls",
          "model_module_version": "1.5.0",
          "model_name": "DescriptionStyleModel",
          "state": {
            "_model_module": "@jupyter-widgets/controls",
            "_model_module_version": "1.5.0",
            "_model_name": "DescriptionStyleModel",
            "_view_count": null,
            "_view_module": "@jupyter-widgets/base",
            "_view_module_version": "1.2.0",
            "_view_name": "StyleView",
            "description_width": ""
          }
        },
        "c1afd9db73eb40b5bb187813649c3933": {
          "model_module": "@jupyter-widgets/base",
          "model_module_version": "1.2.0",
          "model_name": "LayoutModel",
          "state": {
            "_model_module": "@jupyter-widgets/base",
            "_model_module_version": "1.2.0",
            "_model_name": "LayoutModel",
            "_view_count": null,
            "_view_module": "@jupyter-widgets/base",
            "_view_module_version": "1.2.0",
            "_view_name": "LayoutView",
            "align_content": null,
            "align_items": null,
            "align_self": null,
            "border": null,
            "bottom": null,
            "display": null,
            "flex": null,
            "flex_flow": null,
            "grid_area": null,
            "grid_auto_columns": null,
            "grid_auto_flow": null,
            "grid_auto_rows": null,
            "grid_column": null,
            "grid_gap": null,
            "grid_row": null,
            "grid_template_areas": null,
            "grid_template_columns": null,
            "grid_template_rows": null,
            "height": null,
            "justify_content": null,
            "justify_items": null,
            "left": null,
            "margin": null,
            "max_height": null,
            "max_width": null,
            "min_height": null,
            "min_width": null,
            "object_fit": null,
            "object_position": null,
            "order": null,
            "overflow": null,
            "overflow_x": null,
            "overflow_y": null,
            "padding": null,
            "right": null,
            "top": null,
            "visibility": null,
            "width": null
          }
        },
        "c389f999b99c434a80bddca6e025198e": {
          "model_module": "@jupyter-widgets/base",
          "model_module_version": "1.2.0",
          "model_name": "LayoutModel",
          "state": {
            "_model_module": "@jupyter-widgets/base",
            "_model_module_version": "1.2.0",
            "_model_name": "LayoutModel",
            "_view_count": null,
            "_view_module": "@jupyter-widgets/base",
            "_view_module_version": "1.2.0",
            "_view_name": "LayoutView",
            "align_content": null,
            "align_items": null,
            "align_self": null,
            "border": null,
            "bottom": null,
            "display": null,
            "flex": null,
            "flex_flow": null,
            "grid_area": null,
            "grid_auto_columns": null,
            "grid_auto_flow": null,
            "grid_auto_rows": null,
            "grid_column": null,
            "grid_gap": null,
            "grid_row": null,
            "grid_template_areas": null,
            "grid_template_columns": null,
            "grid_template_rows": null,
            "height": null,
            "justify_content": null,
            "justify_items": null,
            "left": null,
            "margin": null,
            "max_height": null,
            "max_width": null,
            "min_height": null,
            "min_width": null,
            "object_fit": null,
            "object_position": null,
            "order": null,
            "overflow": null,
            "overflow_x": null,
            "overflow_y": null,
            "padding": null,
            "right": null,
            "top": null,
            "visibility": null,
            "width": null
          }
        },
        "c7a9bfd122e74e0ebe72b2d5ce0f2737": {
          "model_module": "@jupyter-widgets/controls",
          "model_module_version": "1.5.0",
          "model_name": "HTMLModel",
          "state": {
            "_dom_classes": [],
            "_model_module": "@jupyter-widgets/controls",
            "_model_module_version": "1.5.0",
            "_model_name": "HTMLModel",
            "_view_count": null,
            "_view_module": "@jupyter-widgets/controls",
            "_view_module_version": "1.5.0",
            "_view_name": "HTMLView",
            "description": "",
            "description_tooltip": null,
            "layout": "IPY_MODEL_2d93e3c3919845a0bbfbc1e9c78d2a31",
            "placeholder": "​",
            "style": "IPY_MODEL_2a067b492e874361866281a14e4de114",
            "value": " 456k/456k [00:04&lt;00:00, 96.0kB/s]"
          }
        },
        "d2c5c5f9683745b485e3d64970943d4e": {
          "model_module": "@jupyter-widgets/controls",
          "model_module_version": "1.5.0",
          "model_name": "HBoxModel",
          "state": {
            "_dom_classes": [],
            "_model_module": "@jupyter-widgets/controls",
            "_model_module_version": "1.5.0",
            "_model_name": "HBoxModel",
            "_view_count": null,
            "_view_module": "@jupyter-widgets/controls",
            "_view_module_version": "1.5.0",
            "_view_name": "HBoxView",
            "box_style": "",
            "children": [
              "IPY_MODEL_195730a7f0794c859c4dc34196d029dc",
              "IPY_MODEL_a4cb863dba7c4ddcb4dda2b08a5de0c1",
              "IPY_MODEL_df6c81ce687849a78d421907ebe88f27"
            ],
            "layout": "IPY_MODEL_539661e3da2f40eab2315e731d15ce37"
          }
        },
        "d2e0d7a5d9be450c9f90ff2297fc7d66": {
          "model_module": "@jupyter-widgets/controls",
          "model_module_version": "1.5.0",
          "model_name": "FloatProgressModel",
          "state": {
            "_dom_classes": [],
            "_model_module": "@jupyter-widgets/controls",
            "_model_module_version": "1.5.0",
            "_model_name": "FloatProgressModel",
            "_view_count": null,
            "_view_module": "@jupyter-widgets/controls",
            "_view_module_version": "1.5.0",
            "_view_name": "ProgressView",
            "bar_style": "success",
            "description": "",
            "description_tooltip": null,
            "layout": "IPY_MODEL_882ec1454e274a019567ccf91282bcdb",
            "max": 898823,
            "min": 0,
            "orientation": "horizontal",
            "style": "IPY_MODEL_370ce37798bb4dae89a45ca3e1b15e96",
            "value": 898823
          }
        },
        "d7335bfab1764686aeb0c05ca72a85de": {
          "model_module": "@jupyter-widgets/base",
          "model_module_version": "1.2.0",
          "model_name": "LayoutModel",
          "state": {
            "_model_module": "@jupyter-widgets/base",
            "_model_module_version": "1.2.0",
            "_model_name": "LayoutModel",
            "_view_count": null,
            "_view_module": "@jupyter-widgets/base",
            "_view_module_version": "1.2.0",
            "_view_name": "LayoutView",
            "align_content": null,
            "align_items": null,
            "align_self": null,
            "border": null,
            "bottom": null,
            "display": null,
            "flex": null,
            "flex_flow": null,
            "grid_area": null,
            "grid_auto_columns": null,
            "grid_auto_flow": null,
            "grid_auto_rows": null,
            "grid_column": null,
            "grid_gap": null,
            "grid_row": null,
            "grid_template_areas": null,
            "grid_template_columns": null,
            "grid_template_rows": null,
            "height": null,
            "justify_content": null,
            "justify_items": null,
            "left": null,
            "margin": null,
            "max_height": null,
            "max_width": null,
            "min_height": null,
            "min_width": null,
            "object_fit": null,
            "object_position": null,
            "order": null,
            "overflow": null,
            "overflow_x": null,
            "overflow_y": null,
            "padding": null,
            "right": null,
            "top": null,
            "visibility": null,
            "width": null
          }
        },
        "d73d129bf1b346f38c4f7ef3805c2fbd": {
          "model_module": "@jupyter-widgets/controls",
          "model_module_version": "1.5.0",
          "model_name": "HTMLModel",
          "state": {
            "_dom_classes": [],
            "_model_module": "@jupyter-widgets/controls",
            "_model_module_version": "1.5.0",
            "_model_name": "HTMLModel",
            "_view_count": null,
            "_view_module": "@jupyter-widgets/controls",
            "_view_module_version": "1.5.0",
            "_view_name": "HTMLView",
            "description": "",
            "description_tooltip": null,
            "layout": "IPY_MODEL_4c6dd6e5ee894ee79bbd6874407e81df",
            "placeholder": "​",
            "style": "IPY_MODEL_86e321f6dea1433c9810edfd4988a422",
            "value": " 899k/899k [00:01&lt;00:00, 777kB/s]"
          }
        },
        "d8b281061add4f748a3f4d7d4992aa19": {
          "model_module": "@jupyter-widgets/base",
          "model_module_version": "1.2.0",
          "model_name": "LayoutModel",
          "state": {
            "_model_module": "@jupyter-widgets/base",
            "_model_module_version": "1.2.0",
            "_model_name": "LayoutModel",
            "_view_count": null,
            "_view_module": "@jupyter-widgets/base",
            "_view_module_version": "1.2.0",
            "_view_name": "LayoutView",
            "align_content": null,
            "align_items": null,
            "align_self": null,
            "border": null,
            "bottom": null,
            "display": null,
            "flex": null,
            "flex_flow": null,
            "grid_area": null,
            "grid_auto_columns": null,
            "grid_auto_flow": null,
            "grid_auto_rows": null,
            "grid_column": null,
            "grid_gap": null,
            "grid_row": null,
            "grid_template_areas": null,
            "grid_template_columns": null,
            "grid_template_rows": null,
            "height": null,
            "justify_content": null,
            "justify_items": null,
            "left": null,
            "margin": null,
            "max_height": null,
            "max_width": null,
            "min_height": null,
            "min_width": null,
            "object_fit": null,
            "object_position": null,
            "order": null,
            "overflow": null,
            "overflow_x": null,
            "overflow_y": null,
            "padding": null,
            "right": null,
            "top": null,
            "visibility": null,
            "width": null
          }
        },
        "dd67ff0e8c704be5971acf5421d4d951": {
          "model_module": "@jupyter-widgets/controls",
          "model_module_version": "1.5.0",
          "model_name": "HTMLModel",
          "state": {
            "_dom_classes": [],
            "_model_module": "@jupyter-widgets/controls",
            "_model_module_version": "1.5.0",
            "_model_name": "HTMLModel",
            "_view_count": null,
            "_view_module": "@jupyter-widgets/controls",
            "_view_module_version": "1.5.0",
            "_view_name": "HTMLView",
            "description": "",
            "description_tooltip": null,
            "layout": "IPY_MODEL_d8b281061add4f748a3f4d7d4992aa19",
            "placeholder": "​",
            "style": "IPY_MODEL_9160862e963b4ab7af8fa3c01d18ff4a",
            "value": " 501M/501M [00:01&lt;00:00, 475MB/s]"
          }
        },
        "df6c81ce687849a78d421907ebe88f27": {
          "model_module": "@jupyter-widgets/controls",
          "model_module_version": "1.5.0",
          "model_name": "HTMLModel",
          "state": {
            "_dom_classes": [],
            "_model_module": "@jupyter-widgets/controls",
            "_model_module_version": "1.5.0",
            "_model_name": "HTMLModel",
            "_view_count": null,
            "_view_module": "@jupyter-widgets/controls",
            "_view_module_version": "1.5.0",
            "_view_name": "HTMLView",
            "description": "",
            "description_tooltip": null,
            "layout": "IPY_MODEL_2e1e0bb23c144d79b4cb8b903645900b",
            "placeholder": "​",
            "style": "IPY_MODEL_e84a8b5837054efab12adf821919d32d",
            "value": " 481/481 [00:00&lt;00:00, 32.5kB/s]"
          }
        },
        "e13c6970a6854e2a954b6d841a4a3cbe": {
          "model_module": "@jupyter-widgets/controls",
          "model_module_version": "1.5.0",
          "model_name": "FloatProgressModel",
          "state": {
            "_dom_classes": [],
            "_model_module": "@jupyter-widgets/controls",
            "_model_module_version": "1.5.0",
            "_model_name": "FloatProgressModel",
            "_view_count": null,
            "_view_module": "@jupyter-widgets/controls",
            "_view_module_version": "1.5.0",
            "_view_name": "ProgressView",
            "bar_style": "success",
            "description": "",
            "description_tooltip": null,
            "layout": "IPY_MODEL_d7335bfab1764686aeb0c05ca72a85de",
            "max": 501200538,
            "min": 0,
            "orientation": "horizontal",
            "style": "IPY_MODEL_f8c1d1097da0411dbbcabcb71bb3eecc",
            "value": 501200538
          }
        },
        "e2b4db032c3e4e73a32c7c83a94b08ca": {
          "model_module": "@jupyter-widgets/controls",
          "model_module_version": "1.5.0",
          "model_name": "DescriptionStyleModel",
          "state": {
            "_model_module": "@jupyter-widgets/controls",
            "_model_module_version": "1.5.0",
            "_model_name": "DescriptionStyleModel",
            "_view_count": null,
            "_view_module": "@jupyter-widgets/base",
            "_view_module_version": "1.2.0",
            "_view_name": "StyleView",
            "description_width": ""
          }
        },
        "e57a5421c0e7402ea7f814f52e207232": {
          "model_module": "@jupyter-widgets/controls",
          "model_module_version": "1.5.0",
          "model_name": "DescriptionStyleModel",
          "state": {
            "_model_module": "@jupyter-widgets/controls",
            "_model_module_version": "1.5.0",
            "_model_name": "DescriptionStyleModel",
            "_view_count": null,
            "_view_module": "@jupyter-widgets/base",
            "_view_module_version": "1.2.0",
            "_view_name": "StyleView",
            "description_width": ""
          }
        },
        "e84a8b5837054efab12adf821919d32d": {
          "model_module": "@jupyter-widgets/controls",
          "model_module_version": "1.5.0",
          "model_name": "DescriptionStyleModel",
          "state": {
            "_model_module": "@jupyter-widgets/controls",
            "_model_module_version": "1.5.0",
            "_model_name": "DescriptionStyleModel",
            "_view_count": null,
            "_view_module": "@jupyter-widgets/base",
            "_view_module_version": "1.2.0",
            "_view_name": "StyleView",
            "description_width": ""
          }
        },
        "f8c1d1097da0411dbbcabcb71bb3eecc": {
          "model_module": "@jupyter-widgets/controls",
          "model_module_version": "1.5.0",
          "model_name": "ProgressStyleModel",
          "state": {
            "_model_module": "@jupyter-widgets/controls",
            "_model_module_version": "1.5.0",
            "_model_name": "ProgressStyleModel",
            "_view_count": null,
            "_view_module": "@jupyter-widgets/base",
            "_view_module_version": "1.2.0",
            "_view_name": "StyleView",
            "bar_color": null,
            "description_width": ""
          }
        },
        "fe4d3cfbfee0485bac0ed995f1fecf78": {
          "model_module": "@jupyter-widgets/base",
          "model_module_version": "1.2.0",
          "model_name": "LayoutModel",
          "state": {
            "_model_module": "@jupyter-widgets/base",
            "_model_module_version": "1.2.0",
            "_model_name": "LayoutModel",
            "_view_count": null,
            "_view_module": "@jupyter-widgets/base",
            "_view_module_version": "1.2.0",
            "_view_name": "LayoutView",
            "align_content": null,
            "align_items": null,
            "align_self": null,
            "border": null,
            "bottom": null,
            "display": null,
            "flex": null,
            "flex_flow": null,
            "grid_area": null,
            "grid_auto_columns": null,
            "grid_auto_flow": null,
            "grid_auto_rows": null,
            "grid_column": null,
            "grid_gap": null,
            "grid_row": null,
            "grid_template_areas": null,
            "grid_template_columns": null,
            "grid_template_rows": null,
            "height": null,
            "justify_content": null,
            "justify_items": null,
            "left": null,
            "margin": null,
            "max_height": null,
            "max_width": null,
            "min_height": null,
            "min_width": null,
            "object_fit": null,
            "object_position": null,
            "order": null,
            "overflow": null,
            "overflow_x": null,
            "overflow_y": null,
            "padding": null,
            "right": null,
            "top": null,
            "visibility": null,
            "width": null
          }
        }
      }
    }
  },
  "nbformat": 4,
  "nbformat_minor": 5
}
